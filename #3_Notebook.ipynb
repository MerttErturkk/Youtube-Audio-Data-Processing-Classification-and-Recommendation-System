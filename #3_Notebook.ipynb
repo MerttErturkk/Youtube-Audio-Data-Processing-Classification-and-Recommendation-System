{
 "cells": [
  {
   "cell_type": "markdown",
   "id": "6b6927c8-4027-4e1e-9940-b6cc396e3c4a",
   "metadata": {},
   "source": [
    "# PROJECT NOTEBOOK PART 3\n",
    "#### THIS NOTEBOOK IS DEDICATED TO MODEL BUILDING\n",
    "##### 1) Preparation of The Data. (Importing, spliting Labels, Features, Training set, Test set)\n",
    "##### 2) Application of StandartScaling and PCA.\n",
    "##### 3) Fiting Machine Learning models to data and validation of the results.\n",
    "##### 4) Building Pipelines of the models\n",
    "##### 5) Comparing individual model results to an Ensemble Model (VotingClassifier)\n",
    "##### 6) Deciding on a Final Model"
   ]
  },
  {
   "cell_type": "code",
   "execution_count": 1,
   "id": "99e8eec1-e919-4e9f-9287-4b812fd8db9a",
   "metadata": {},
   "outputs": [
    {
     "name": "stdout",
     "output_type": "stream",
     "text": [
      "Turkish Pop     99\n",
      "Turkish Rock    95\n",
      "Turkish Slow    80\n",
      "Turkish Rap     51\n",
      "Name: genre_label, dtype: int64\n"
     ]
    },
    {
     "data": {
      "text/html": [
       "<div>\n",
       "<style scoped>\n",
       "    .dataframe tbody tr th:only-of-type {\n",
       "        vertical-align: middle;\n",
       "    }\n",
       "\n",
       "    .dataframe tbody tr th {\n",
       "        vertical-align: top;\n",
       "    }\n",
       "\n",
       "    .dataframe thead th {\n",
       "        text-align: right;\n",
       "    }\n",
       "</style>\n",
       "<table border=\"1\" class=\"dataframe\">\n",
       "  <thead>\n",
       "    <tr style=\"text-align: right;\">\n",
       "      <th></th>\n",
       "      <th>rms_mean</th>\n",
       "      <th>rms_var</th>\n",
       "      <th>zcr_mean</th>\n",
       "      <th>zcr_var</th>\n",
       "      <th>spectral_centroid_mean</th>\n",
       "      <th>spectral_centroid_var</th>\n",
       "      <th>spectral_rolloff_mean</th>\n",
       "      <th>spectral_rolloff_var</th>\n",
       "      <th>spectral_bandwidth_mean</th>\n",
       "      <th>spectral_bandwidth_var</th>\n",
       "      <th>...</th>\n",
       "      <th>mfcc10_var</th>\n",
       "      <th>mfcc11_var</th>\n",
       "      <th>mfcc12_var</th>\n",
       "      <th>mfcc13_var</th>\n",
       "      <th>mfcc14_var</th>\n",
       "      <th>mfcc15_var</th>\n",
       "      <th>mfcc16_var</th>\n",
       "      <th>mfcc17_var</th>\n",
       "      <th>mfcc18_var</th>\n",
       "      <th>mfcc19_var</th>\n",
       "    </tr>\n",
       "  </thead>\n",
       "  <tbody>\n",
       "    <tr>\n",
       "      <th>count</th>\n",
       "      <td>325.000000</td>\n",
       "      <td>325.000000</td>\n",
       "      <td>325.000000</td>\n",
       "      <td>325.000000</td>\n",
       "      <td>325.000000</td>\n",
       "      <td>3.250000e+02</td>\n",
       "      <td>325.000000</td>\n",
       "      <td>3.250000e+02</td>\n",
       "      <td>325.000000</td>\n",
       "      <td>325.000000</td>\n",
       "      <td>...</td>\n",
       "      <td>325.000000</td>\n",
       "      <td>325.000000</td>\n",
       "      <td>325.000000</td>\n",
       "      <td>325.000000</td>\n",
       "      <td>325.000000</td>\n",
       "      <td>325.000000</td>\n",
       "      <td>325.000000</td>\n",
       "      <td>325.000000</td>\n",
       "      <td>325.000000</td>\n",
       "      <td>325.000000</td>\n",
       "    </tr>\n",
       "    <tr>\n",
       "      <th>mean</th>\n",
       "      <td>0.222828</td>\n",
       "      <td>0.005807</td>\n",
       "      <td>0.099465</td>\n",
       "      <td>0.004187</td>\n",
       "      <td>2395.176046</td>\n",
       "      <td>7.027937e+05</td>\n",
       "      <td>5111.444303</td>\n",
       "      <td>2.610479e+06</td>\n",
       "      <td>2515.953437</td>\n",
       "      <td>185327.128445</td>\n",
       "      <td>...</td>\n",
       "      <td>75.790237</td>\n",
       "      <td>63.833138</td>\n",
       "      <td>61.276352</td>\n",
       "      <td>58.778660</td>\n",
       "      <td>55.354286</td>\n",
       "      <td>54.484928</td>\n",
       "      <td>56.013283</td>\n",
       "      <td>57.861610</td>\n",
       "      <td>57.687790</td>\n",
       "      <td>60.703003</td>\n",
       "    </tr>\n",
       "    <tr>\n",
       "      <th>std</th>\n",
       "      <td>0.089137</td>\n",
       "      <td>0.004706</td>\n",
       "      <td>0.031480</td>\n",
       "      <td>0.003723</td>\n",
       "      <td>555.273199</td>\n",
       "      <td>4.546290e+05</td>\n",
       "      <td>1289.049468</td>\n",
       "      <td>1.580322e+06</td>\n",
       "      <td>363.890091</td>\n",
       "      <td>142772.144113</td>\n",
       "      <td>...</td>\n",
       "      <td>37.047066</td>\n",
       "      <td>29.319263</td>\n",
       "      <td>29.927879</td>\n",
       "      <td>25.353209</td>\n",
       "      <td>25.309401</td>\n",
       "      <td>22.828653</td>\n",
       "      <td>26.616449</td>\n",
       "      <td>28.743019</td>\n",
       "      <td>26.667400</td>\n",
       "      <td>32.759033</td>\n",
       "    </tr>\n",
       "    <tr>\n",
       "      <th>min</th>\n",
       "      <td>0.023502</td>\n",
       "      <td>0.000080</td>\n",
       "      <td>0.033844</td>\n",
       "      <td>0.000258</td>\n",
       "      <td>983.150403</td>\n",
       "      <td>7.230925e+04</td>\n",
       "      <td>1761.351066</td>\n",
       "      <td>2.127870e+05</td>\n",
       "      <td>1105.615193</td>\n",
       "      <td>12382.516617</td>\n",
       "      <td>...</td>\n",
       "      <td>18.313444</td>\n",
       "      <td>16.874033</td>\n",
       "      <td>18.984680</td>\n",
       "      <td>21.223644</td>\n",
       "      <td>16.945910</td>\n",
       "      <td>16.627995</td>\n",
       "      <td>17.736090</td>\n",
       "      <td>14.625222</td>\n",
       "      <td>14.295912</td>\n",
       "      <td>15.568065</td>\n",
       "    </tr>\n",
       "    <tr>\n",
       "      <th>25%</th>\n",
       "      <td>0.158279</td>\n",
       "      <td>0.002073</td>\n",
       "      <td>0.074410</td>\n",
       "      <td>0.001604</td>\n",
       "      <td>1945.969547</td>\n",
       "      <td>3.992397e+05</td>\n",
       "      <td>4016.292110</td>\n",
       "      <td>1.391298e+06</td>\n",
       "      <td>2249.505558</td>\n",
       "      <td>85367.859327</td>\n",
       "      <td>...</td>\n",
       "      <td>48.686920</td>\n",
       "      <td>44.616642</td>\n",
       "      <td>41.662403</td>\n",
       "      <td>40.263641</td>\n",
       "      <td>39.309345</td>\n",
       "      <td>39.693592</td>\n",
       "      <td>38.913246</td>\n",
       "      <td>37.370323</td>\n",
       "      <td>39.164909</td>\n",
       "      <td>40.241447</td>\n",
       "    </tr>\n",
       "    <tr>\n",
       "      <th>50%</th>\n",
       "      <td>0.235099</td>\n",
       "      <td>0.004422</td>\n",
       "      <td>0.098220</td>\n",
       "      <td>0.003294</td>\n",
       "      <td>2468.458256</td>\n",
       "      <td>6.140294e+05</td>\n",
       "      <td>5247.281882</td>\n",
       "      <td>2.209455e+06</td>\n",
       "      <td>2546.054192</td>\n",
       "      <td>142983.744767</td>\n",
       "      <td>...</td>\n",
       "      <td>67.602585</td>\n",
       "      <td>56.608643</td>\n",
       "      <td>53.642368</td>\n",
       "      <td>52.252338</td>\n",
       "      <td>50.031250</td>\n",
       "      <td>49.997570</td>\n",
       "      <td>49.366055</td>\n",
       "      <td>51.903351</td>\n",
       "      <td>53.041206</td>\n",
       "      <td>52.541328</td>\n",
       "    </tr>\n",
       "    <tr>\n",
       "      <th>75%</th>\n",
       "      <td>0.288496</td>\n",
       "      <td>0.008286</td>\n",
       "      <td>0.121200</td>\n",
       "      <td>0.005562</td>\n",
       "      <td>2780.408193</td>\n",
       "      <td>8.831416e+05</td>\n",
       "      <td>6028.322635</td>\n",
       "      <td>3.664666e+06</td>\n",
       "      <td>2785.121499</td>\n",
       "      <td>248698.757198</td>\n",
       "      <td>...</td>\n",
       "      <td>93.259567</td>\n",
       "      <td>74.867607</td>\n",
       "      <td>72.728882</td>\n",
       "      <td>72.342468</td>\n",
       "      <td>65.769180</td>\n",
       "      <td>63.563625</td>\n",
       "      <td>66.900429</td>\n",
       "      <td>68.815376</td>\n",
       "      <td>70.721588</td>\n",
       "      <td>73.286552</td>\n",
       "    </tr>\n",
       "    <tr>\n",
       "      <th>max</th>\n",
       "      <td>0.461057</td>\n",
       "      <td>0.023074</td>\n",
       "      <td>0.212612</td>\n",
       "      <td>0.027619</td>\n",
       "      <td>3693.071370</td>\n",
       "      <td>2.517378e+06</td>\n",
       "      <td>7711.509673</td>\n",
       "      <td>8.125476e+06</td>\n",
       "      <td>3164.664804</td>\n",
       "      <td>887201.639914</td>\n",
       "      <td>...</td>\n",
       "      <td>237.363907</td>\n",
       "      <td>251.470657</td>\n",
       "      <td>250.261246</td>\n",
       "      <td>156.481262</td>\n",
       "      <td>247.575302</td>\n",
       "      <td>194.680328</td>\n",
       "      <td>250.767471</td>\n",
       "      <td>244.934769</td>\n",
       "      <td>157.457001</td>\n",
       "      <td>243.864594</td>\n",
       "    </tr>\n",
       "  </tbody>\n",
       "</table>\n",
       "<p>8 rows × 51 columns</p>\n",
       "</div>"
      ],
      "text/plain": [
       "         rms_mean     rms_var    zcr_mean     zcr_var  spectral_centroid_mean  \\\n",
       "count  325.000000  325.000000  325.000000  325.000000              325.000000   \n",
       "mean     0.222828    0.005807    0.099465    0.004187             2395.176046   \n",
       "std      0.089137    0.004706    0.031480    0.003723              555.273199   \n",
       "min      0.023502    0.000080    0.033844    0.000258              983.150403   \n",
       "25%      0.158279    0.002073    0.074410    0.001604             1945.969547   \n",
       "50%      0.235099    0.004422    0.098220    0.003294             2468.458256   \n",
       "75%      0.288496    0.008286    0.121200    0.005562             2780.408193   \n",
       "max      0.461057    0.023074    0.212612    0.027619             3693.071370   \n",
       "\n",
       "       spectral_centroid_var  spectral_rolloff_mean  spectral_rolloff_var  \\\n",
       "count           3.250000e+02             325.000000          3.250000e+02   \n",
       "mean            7.027937e+05            5111.444303          2.610479e+06   \n",
       "std             4.546290e+05            1289.049468          1.580322e+06   \n",
       "min             7.230925e+04            1761.351066          2.127870e+05   \n",
       "25%             3.992397e+05            4016.292110          1.391298e+06   \n",
       "50%             6.140294e+05            5247.281882          2.209455e+06   \n",
       "75%             8.831416e+05            6028.322635          3.664666e+06   \n",
       "max             2.517378e+06            7711.509673          8.125476e+06   \n",
       "\n",
       "       spectral_bandwidth_mean  spectral_bandwidth_var  ...  mfcc10_var  \\\n",
       "count               325.000000              325.000000  ...  325.000000   \n",
       "mean               2515.953437           185327.128445  ...   75.790237   \n",
       "std                 363.890091           142772.144113  ...   37.047066   \n",
       "min                1105.615193            12382.516617  ...   18.313444   \n",
       "25%                2249.505558            85367.859327  ...   48.686920   \n",
       "50%                2546.054192           142983.744767  ...   67.602585   \n",
       "75%                2785.121499           248698.757198  ...   93.259567   \n",
       "max                3164.664804           887201.639914  ...  237.363907   \n",
       "\n",
       "       mfcc11_var  mfcc12_var  mfcc13_var  mfcc14_var  mfcc15_var  mfcc16_var  \\\n",
       "count  325.000000  325.000000  325.000000  325.000000  325.000000  325.000000   \n",
       "mean    63.833138   61.276352   58.778660   55.354286   54.484928   56.013283   \n",
       "std     29.319263   29.927879   25.353209   25.309401   22.828653   26.616449   \n",
       "min     16.874033   18.984680   21.223644   16.945910   16.627995   17.736090   \n",
       "25%     44.616642   41.662403   40.263641   39.309345   39.693592   38.913246   \n",
       "50%     56.608643   53.642368   52.252338   50.031250   49.997570   49.366055   \n",
       "75%     74.867607   72.728882   72.342468   65.769180   63.563625   66.900429   \n",
       "max    251.470657  250.261246  156.481262  247.575302  194.680328  250.767471   \n",
       "\n",
       "       mfcc17_var  mfcc18_var  mfcc19_var  \n",
       "count  325.000000  325.000000  325.000000  \n",
       "mean    57.861610   57.687790   60.703003  \n",
       "std     28.743019   26.667400   32.759033  \n",
       "min     14.625222   14.295912   15.568065  \n",
       "25%     37.370323   39.164909   40.241447  \n",
       "50%     51.903351   53.041206   52.541328  \n",
       "75%     68.815376   70.721588   73.286552  \n",
       "max    244.934769  157.457001  243.864594  \n",
       "\n",
       "[8 rows x 51 columns]"
      ]
     },
     "execution_count": 1,
     "metadata": {},
     "output_type": "execute_result"
    }
   ],
   "source": [
    "import pandas as pd\n",
    "import numpy as np\n",
    "import matplotlib.pyplot as plt\n",
    "import pickle #To retrieve the training dataframe & store the model for the next notebook.\n",
    "#df = pickle.load(open(r\"datasets/gtzan_df\",\"rb\")) # read binary\n",
    "df = pickle.load(open(r\"datasets/turkish_songs_df\",\"rb\")) # read binary\n",
    "\n",
    "#df = df[(df.genre_label == \"Turkish Rap\") |(df.genre_label == \"Turkish Slow\")]#|(df.genre_label == \"Turkish Pop\") |(df.genre_label == \"Turkish Rap\") ]\n",
    "df= df[df.genre_label !=\"Turkish Folk Music\"]\n",
    "df= df[df.genre_label !=\"Turkish Classical Music\"]\n",
    "#df= df[df.genre_label !=\"country\"]\n",
    "\n",
    "print(df.genre_label.value_counts())\n",
    "\n",
    "df.describe()"
   ]
  },
  {
   "cell_type": "code",
   "execution_count": 2,
   "id": "4f48247a-942c-4c20-a7c7-ec68faba9303",
   "metadata": {},
   "outputs": [
    {
     "data": {
      "text/plain": [
       "<AxesSubplot:>"
      ]
     },
     "execution_count": 2,
     "metadata": {},
     "output_type": "execute_result"
    },
    {
     "data": {
      "image/png": "[encoded data removed]",
      "text/plain": [
       "<Figure size 1440x1080 with 2 Axes>"
      ]
     },
     "metadata": {
      "needs_background": "light"
     },
     "output_type": "display_data"
    }
   ],
   "source": [
    "import seaborn as sns\n",
    "fig, ax = plt.subplots(figsize=(20,15)) \n",
    "correlation_matrix = df.corr()\n",
    "\n",
    "sns.heatmap(correlation_matrix, ax = ax,cmap=\"PiYG\")\n",
    "#plt.savefig(\"correlation.png\")"
   ]
  },
  {
   "cell_type": "code",
   "execution_count": 3,
   "id": "cf6b2078-0b76-444b-8024-19030c8c366a",
   "metadata": {},
   "outputs": [],
   "source": [
    "from sklearn.model_selection import train_test_split\n",
    "\n",
    "features = df.drop(['file_name', 'genre_label'], axis=1).values\n",
    "labels = df.genre_label.values\n",
    "file_names = df.file_name.values\n",
    "\n",
    "X_train, X_test, y_train, y_test = train_test_split(features, labels,test_size=0.1,stratify=labels)"
   ]
  },
  {
   "cell_type": "code",
   "execution_count": 4,
   "id": "583237a8-5cdb-4ef6-9428-988164420edf",
   "metadata": {},
   "outputs": [],
   "source": [
    "from sklearn.preprocessing import StandardScaler\n",
    "scaler = StandardScaler()\n",
    "\n",
    "scaled_X_train = scaler.fit_transform(X_train)\n",
    "scaled_X_test = scaler.transform(X_test)\n"
   ]
  },
  {
   "cell_type": "code",
   "execution_count": 5,
   "id": "841fb5a2-f8dd-4b42-bbcd-748217ee4323",
   "metadata": {},
   "outputs": [
    {
     "name": "stdout",
     "output_type": "stream",
     "text": [
      "Spectral centroids         :[2401.7392708899315, 2267.753338130355, 3036.3112597089084, 1784.9691438706427, 2032.1922544566244]\n",
      "Spectral centroid z-scores :[-0.0003855807036451103, -0.23887835499342083, 1.1291422061542746, -1.0982263440010458, -0.6581732406801327]\n"
     ]
    }
   ],
   "source": [
    "print(f\"Spectral centroids         :{list(X_train[:,4][:5])}\\nSpectral centroid z-scores :{list(scaled_X_train[:,4][:5])}\")"
   ]
  },
  {
   "cell_type": "code",
   "execution_count": 6,
   "id": "bfe6ccf1-2860-4e3a-b387-fd2de92617e0",
   "metadata": {},
   "outputs": [
    {
     "data": {
      "text/plain": [
       "Text(0.5, 0, 'Principal Component #')"
      ]
     },
     "execution_count": 6,
     "metadata": {},
     "output_type": "execute_result"
    },
    {
     "data": {
      "image/png": "[encoded data removed]",
      "text/plain": [
       "<Figure size 1440x360 with 1 Axes>"
      ]
     },
     "metadata": {
      "needs_background": "light"
     },
     "output_type": "display_data"
    }
   ],
   "source": [
    "from sklearn.decomposition import PCA\n",
    "# Get our explained variance ratios from PCA using all features\n",
    "pca = PCA()\n",
    "pca.fit(scaled_X_train)\n",
    "exp_variance = pca.explained_variance_ratio_\n",
    "\n",
    "# plot the explained variance using a barplot\n",
    "fig, ax = plt.subplots(figsize = (20,5))\n",
    "ax.bar(range(pca.n_components_), exp_variance)\n",
    "ax.set_xlabel('Principal Component #')"
   ]
  },
  {
   "cell_type": "code",
   "execution_count": 7,
   "id": "f906cc77-5484-43c1-be01-310ae8272b3b",
   "metadata": {},
   "outputs": [
    {
     "name": "stdout",
     "output_type": "stream",
     "text": [
      "Recommended Principle components : 17\n"
     ]
    },
    {
     "data": {
      "image/png": "[encoded data removed]",
      "text/plain": [
       "<Figure size 1440x360 with 1 Axes>"
      ]
     },
     "metadata": {
      "needs_background": "light"
     },
     "output_type": "display_data"
    }
   ],
   "source": [
    "# Calculate the cumulative explained variance\n",
    "cum_exp_variance = np.cumsum(exp_variance)\n",
    "\n",
    "# Plot the cumulative explained variance and draw a dashed line at 0.85.\n",
    "fig, ax = plt.subplots(figsize = (20,5))\n",
    "ax.plot(cum_exp_variance)\n",
    "ax.axhline(y=0.85, linestyle='--')\n",
    "\n",
    "\n",
    "recommended_pc_count = np.sum(cum_exp_variance < 0.86)\n",
    "\n",
    "print(f\"Recommended Principle components : {recommended_pc_count}\")"
   ]
  },
  {
   "cell_type": "code",
   "execution_count": 8,
   "id": "6a8dd873-3f8b-4f7d-aece-5e901abe9bd1",
   "metadata": {},
   "outputs": [
    {
     "data": {
      "image/png": "[encoded data removed]",
      "text/plain": [
       "<Figure size 1152x648 with 1 Axes>"
      ]
     },
     "metadata": {
      "needs_background": "light"
     },
     "output_type": "display_data"
    }
   ],
   "source": [
    "pca = PCA(n_components = 2)\n",
    "\n",
    "scaler = StandardScaler()\n",
    "scaled_features = scaler.fit_transform(features)\n",
    "train_pca = pca.fit_transform(scaled_features)\n",
    "\n",
    "\n",
    "pca_df = pd.DataFrame(data = train_pca, columns = ['PC 1', 'PC 2'])\n",
    "\n",
    "plt.figure(figsize = (16, 9))\n",
    "\n",
    "\n",
    "sns.scatterplot(x = \"PC 1\", y = \"PC 2\", data = pca_df, hue = labels, alpha = 0.5, s = 100);\n",
    "plt.savefig(\"pca2_turkish.png\")"
   ]
  },
  {
   "cell_type": "code",
   "execution_count": 9,
   "id": "6e25b410-de90-4683-87f0-ed78730a4903",
   "metadata": {},
   "outputs": [
    {
     "data": {
      "text/html": [
       "        <script type=\"text/javascript\">\n",
       "        window.PlotlyConfig = {MathJaxConfig: 'local'};\n",
       "        if (window.MathJax && window.MathJax.Hub && window.MathJax.Hub.Config) {window.MathJax.Hub.Config({SVG: {font: \"STIX-Web\"}});}\n",
       "        if (typeof require !== 'undefined') {\n",
       "        require.undef(\"plotly\");\n",
       "        requirejs.config({\n",
       "            paths: {\n",
       "                'plotly': ['https://cdn.plot.ly/plotly-2.14.0.min']\n",
       "            }\n",
       "        });\n",
       "        require(['plotly'], function(Plotly) {\n",
       "            window._Plotly = Plotly;\n",
       "        });\n",
       "        }\n",
       "        </script>\n",
       "        "
      ]
     },
     "metadata": {},
     "output_type": "display_data"
    },
    {
     "data": {
      "text/html": [
       "        <script type=\"text/javascript\">\n",
       "        window.PlotlyConfig = {MathJaxConfig: 'local'};\n",
       "        if (window.MathJax && window.MathJax.Hub && window.MathJax.Hub.Config) {window.MathJax.Hub.Config({SVG: {font: \"STIX-Web\"}});}\n",
       "        if (typeof require !== 'undefined') {\n",
       "        require.undef(\"plotly\");\n",
       "        requirejs.config({\n",
       "            paths: {\n",
       "                'plotly': ['https://cdn.plot.ly/plotly-2.14.0.min']\n",
       "            }\n",
       "        });\n",
       "        require(['plotly'], function(Plotly) {\n",
       "            window._Plotly = Plotly;\n",
       "        });\n",
       "        }\n",
       "        </script>\n",
       "        "
      ]
     },
     "metadata": {},
     "output_type": "display_data"
    }
   ],
   "source": [
    "%matplotlib inline\n",
    "import chart_studio.plotly as py\n",
    "import cufflinks as cf\n",
    "import plotly.express as px\n",
    "import plotly.graph_objects as go\n",
    "\n",
    "from plotly.offline import download_plotlyjs, init_notebook_mode, plot, iplot\n",
    "\n",
    "init_notebook_mode(connected = True)\n",
    "cf.go_offline()"
   ]
  },
  {
   "cell_type": "code",
   "execution_count": 10,
   "id": "0614fea0-9c2b-4424-b92a-c565b5727812",
   "metadata": {},
   "outputs": [],
   "source": [
    "pca = PCA(n_components = 2)\n",
    "\n",
    "scaler = StandardScaler()\n",
    "scaled_features = scaler.fit_transform(features)\n",
    "train_pca = pca.fit_transform(scaled_features)\n",
    "\n",
    "\n",
    "pca_df = pd.DataFrame(data = train_pca, columns = ['PC 1', 'PC 2'])\n",
    "\n",
    "df_w_pca= pd.concat([df, pca_df], axis = 1)"
   ]
  },
  {
   "cell_type": "code",
   "execution_count": 11,
   "id": "d58aff66-c86f-49de-a85d-bcad159070a9",
   "metadata": {},
   "outputs": [
    {
     "data": {
      "application/vnd.plotly.v1+json": {
       "config": {
        "plotlyServerURL": "https://plot.ly"
       },
       "data": [
        {
         "customdata": [
          [
           "Turkish Slow",
           "Alev Alev.wav"
          ],
          [
           "Turkish Slow",
           "Aşk Official Video - Gökhan Türkmen Aşk.wav"
          ],
          [
           "Turkish Slow",
           "Beni Biraz Böyle Hatırla.wav"
          ],
          [
           "Turkish Slow",
           "Can Koç - Gökyüzünü Tutamam (Official Lyric Video).wav"
          ],
          [
           "Turkish Slow",
           "Can Ozan - Sar Bu Şehri.wav"
          ],
          [
           "Turkish Slow",
           "Can Ozan - Toprak Yağmura.wav"
          ],
          [
           "Turkish Slow",
           "Cem Adrian  Aylin Aslım - Herkes Gider Mi .wav"
          ],
          [
           "Turkish Slow",
           "Cem Adrian  Birsen Tezer - Beni Hatırladın mı (Official Audio).wav"
          ],
          [
           "Turkish Slow",
           "Cem Adrian  Ceylan Ertem - Bu Gece Uyut Beni (Official Audio).wav"
          ],
          [
           "Turkish Slow",
           "Cem Adrian  Halil Sezai - Buruk.wav"
          ],
          [
           "Turkish Slow",
           "Cem Adrian  Hande Mehan - Sen Benim Sarkılarımsın (Official Audio).wav"
          ],
          [
           "Turkish Slow",
           "Cem Adrian  Mark Eliyahu - KÜL.wav"
          ],
          [
           "Turkish Slow",
           "Cem Adrian  Sena Şener - Yine mi Yol.wav"
          ],
          [
           "Turkish Slow",
           "Cem Adrian - Bana Ne Yaptın (Official Audio).wav"
          ],
          [
           "Turkish Slow",
           "Cem Adrian - Ben Seni Çok Sevdim (Official Audio).wav"
          ],
          [
           "Turkish Slow",
           "Cem Adrian - Beni Affet Bu Gece (Official Audio).wav"
          ],
          [
           "Turkish Slow",
           "Cem Adrian - Biz Senle (Official Audio).wav"
          ],
          [
           "Turkish Slow",
           "Cem Adrian - Bu Sarkı Aska Yazıldı (Lyric Video).wav"
          ],
          [
           "Turkish Slow",
           "Cem Adrian - Ela Gözlüm (Official Audio).wav"
          ],
          [
           "Turkish Slow",
           "Cem Adrian - Gemiler (Lyric Video).wav"
          ],
          [
           "Turkish Slow",
           "Cem Adrian - Gül (Official Video).wav"
          ],
          [
           "Turkish Slow",
           "Cem Adrian - Mutlu Yıllar.wav"
          ],
          [
           "Turkish Slow",
           "Cem Adrian - Sana Sarılınca.wav"
          ],
          [
           "Turkish Slow",
           "Cem Adrian - Sen Gel Diyorsun (Öf Öf).wav"
          ],
          [
           "Turkish Slow",
           "Cem Özkan - Dön Bana (Official Video).wav"
          ],
          [
           "Turkish Slow",
           "Derya Uluğ  Sana Çıkıyor Yollar (Lyrics).wav"
          ],
          [
           "Turkish Slow",
           "Edis - Vay (Her Şey Aşktan Film Müziği).wav"
          ],
          [
           "Turkish Slow",
           "Emre Aydin - Son Defa.wav"
          ],
          [
           "Turkish Slow",
           "emre aydın  Çağan Şengül - Beni Anla.wav"
          ],
          [
           "Turkish Slow",
           "Emre Aydın - Hoşçakal.wav"
          ],
          [
           "Turkish Slow",
           "Fikri Karayel - Trenler (Official Audio).wav"
          ],
          [
           "Turkish Slow",
           "Gökhan Kırdar Yerine Sevemem 1994 (Official Audio) GökhanKırdar YerineSevemem.wav"
          ],
          [
           "Turkish Slow",
           "Göksel - Sen Orda Yoksun (Official Video).wav"
          ],
          [
           "Turkish Slow",
           "Göksel - Yalnız Kuş (Official Video).wav"
          ],
          [
           "Turkish Slow",
           "Güncel Gürsel Artıktay - Bu Yüzden.wav"
          ],
          [
           "Turkish Slow",
           "Hande Mehan - Sen Beni Güzel Hatırla (Official Audio).wav"
          ],
          [
           "Turkish Slow",
           "KİBİR.wav"
          ],
          [
           "Turkish Slow",
           "Melike Sahin - Geri Ver.wav"
          ],
          [
           "Turkish Slow",
           "Melike Şahin - Deli Kan.wav"
          ],
          [
           "Turkish Slow",
           "mor ve ötesi - Küçük Sevgilim (Official Video).wav"
          ],
          [
           "Turkish Slow",
           "Müslüm Gürses - Affet.wav"
          ],
          [
           "Turkish Slow",
           "Müslüm Gürses - Nilüfer.wav"
          ],
          [
           "Turkish Slow",
           "Müslüm Gürses - Sensiz Olmaz  Official Music Video  2004 Kalan Müzik .wav"
          ],
          [
           "Turkish Slow",
           "Nev - Zor.wav"
          ],
          [
           "Turkish Slow",
           "Nilipek. - Gömülür.wav"
          ],
          [
           "Turkish Slow",
           "Onur Can Özcan - Hırka.wav"
          ],
          [
           "Turkish Slow",
           "Perdenin Ardındakiler - Ankarayla Bozuşuruz.wav"
          ],
          [
           "Turkish Slow",
           "Perdenin Ardındakiler - Beni Kendinden Kurtar.wav"
          ],
          [
           "Turkish Slow",
           "Perdenin Ardındakiler - Kalbinde Birileri Var.wav"
          ],
          [
           "Turkish Slow",
           "Perdenin Ardındakiler - Kendime.wav"
          ],
          [
           "Turkish Slow",
           "Pilli Bebek - Kızım.wav"
          ],
          [
           "Turkish Slow",
           "Pinhani - Sen Olmayınca.wav"
          ],
          [
           "Turkish Slow",
           "Pinhani ft. Kalben - Iyi Degilim Ben (Yollar Bizi Bekler - 2019).wav"
          ],
          [
           "Turkish Slow",
           "Redd - Beni Sevdi Benden Çok.wav"
          ],
          [
           "Turkish Slow",
           "Redd - Nefes Bile Almadan (Aşk Tesadüfleri Sever ).wav"
          ],
          [
           "Turkish Slow",
           "Sebnem Ferah - Yagmurlar.wav"
          ],
          [
           "Turkish Slow",
           "Sena Sener - Kapkaranlık Her Gunum.wav"
          ],
          [
           "Turkish Slow",
           "Sena Şener - Bak Bana.wav"
          ],
          [
           "Turkish Slow",
           "Sena Şener - Dostum Değil Uykular.wav"
          ],
          [
           "Turkish Slow",
           "Sena Şener - Her An Gidebilirim.wav"
          ],
          [
           "Turkish Slow",
           "Sena Şener - Sevmemeliyiz.wav"
          ],
          [
           "Turkish Slow",
           "Sertab Erener - Bir Çaresi Bulunur.wav"
          ],
          [
           "Turkish Slow",
           "Sertab Erener - Karbeyaz.wav"
          ],
          [
           "Turkish Slow",
           "Sertab Erener - Olsun.wav"
          ],
          [
           "Turkish Slow",
           "Sertab Erener - Rüya (Official Audio).wav"
          ],
          [
           "Turkish Slow",
           "Sertab Erener - Soz Bitti (Album Version).wav"
          ],
          [
           "Turkish Slow",
           "Sertab Erener - Vur Yüreğim - Sertab Erener.wav"
          ],
          [
           "Turkish Slow",
           "Sezen Aksu - Ben De Yoluma Giderim (Official Video).wav"
          ],
          [
           "Turkish Slow",
           "Sezen Aksu - Ben Öyle Birini Sevdim Ki (Delibal Soundtrack).wav"
          ],
          [
           "Turkish Slow",
           "Sezen Aksu - Kurşuni Renkler  (Lyrics  Şarkı Sözleri).wav"
          ],
          [
           "Turkish Slow",
           "Sufle  Canozan - Hiç Kimsenin Günahı Yok (Official Video).wav"
          ],
          [
           "Turkish Slow",
           "Sufle - İçinde Aşk Var (Official Audio).wav"
          ],
          [
           "Turkish Slow",
           "Teoman - Çoban Yıldızı (Official Video).wav"
          ],
          [
           "Turkish Slow",
           "Toygar Işıklı - Ben Hayatın Mağlubuyum (JoyTurk Akustik).wav"
          ],
          [
           "Turkish Slow",
           "Toygar Işıklı - Hayat Gibi ( Official Video ).wav"
          ],
          [
           "Turkish Slow",
           "Toygar Işıklı - Korkuyorum.wav"
          ],
          [
           "Turkish Slow",
           "Ufuk Beydemir - HİÇ.wav"
          ],
          [
           "Turkish Slow",
           "Yalnızım.wav"
          ],
          [
           "Turkish Slow",
           "Yaralarını Ben Sarayım.wav"
          ],
          [
           "Turkish Slow",
           "Yuksek Sadakat - Doneceksin Diye Soz Ver.wav"
          ]
         ],
         "hovertemplate": "genre_label=%{customdata[0]}<br>PC 1=%{x}<br>PC 2=%{y}<br>file_name=%{customdata[1]}<extra></extra>",
         "legendgroup": "Turkish Slow",
         "marker": {
          "color": "#636efa",
          "symbol": "circle"
         },
         "mode": "markers",
         "name": "Turkish Slow",
         "orientation": "v",
         "showlegend": true,
         "type": "scatter",
         "x": [
          2.5194663810160955,
          -1.0539826153589609,
          7.181513789516299,
          -1.1576124821543976,
          3.795337569702886,
          4.5811822283223,
          5.048573649611763,
          5.557910542822808,
          3.2455010693426902,
          5.115014246732319,
          5.534093900699858,
          6.064567329727415,
          4.228437527669312,
          5.559600951289409,
          4.136996757240414,
          3.860165769798885,
          7.033556655469601,
          7.281176968695216,
          6.816331915046555,
          5.04469385854355,
          6.024433655354802,
          8.98072086342153,
          3.6476202118700063,
          7.177018814266923,
          3.5589194886743196,
          6.868135030699938,
          3.9098384573969858,
          3.9020292684394606,
          -0.17477206013381447,
          4.76278596738466,
          6.135344477268401,
          3.214150721194675,
          1.501982315253828,
          4.08633290481683,
          2.869626198226246,
          3.0581017132538024,
          -1.0371658225585625,
          2.6088488664881324,
          7.008784284275433,
          4.120520737299022,
          4.628831883295401,
          5.444723717302797,
          4.487291880477469,
          3.060180959142749,
          6.093595227266691,
          3.9691283327803526,
          3.406504746664375,
          0.9665305395278965,
          4.284032520726036,
          5.131407994010374,
          0.3539738605522367,
          5.917855646704344,
          1.0581249624705684,
          3.5031613755855964,
          5.4267522108883455,
          0.8038810280101157,
          4.07434571486554,
          5.842551436213519,
          9.09622539426432,
          0.801308277600964,
          8.146907195619482,
          3.177057648414836,
          2.2867611538352492,
          6.398170837369425,
          5.690976954136579,
          9.64092194039723,
          4.9619350136883495,
          3.5775121760256,
          2.605133602351836,
          6.244169497870815,
          2.82213300273671,
          3.501080010384395,
          6.196284557046832,
          5.046215496387286,
          5.427496526690241,
          -1.08840577244987,
          -0.7529625169246487,
          7.85903105274109,
          2.0613157271034224,
          1.6057434999612277
         ],
         "xaxis": "x",
         "y": [
          -3.0126203139818206,
          -3.5913355789970764,
          -1.2898549631964402,
          -2.2714578600614663,
          -4.673184885840701,
          -4.744293525854878,
          -2.734465545573008,
          -3.5117367973663343,
          -1.6573195414462536,
          0.7980119033073333,
          -0.14592688922564037,
          -1.3115606217023366,
          -2.2082550380014396,
          -2.297219260616211,
          -0.7226278438751669,
          0.1772427791505196,
          3.3345473971067294,
          -0.24283388052847535,
          -0.1736047558088794,
          -2.0848531819528273,
          -0.27957729651174335,
          3.1432606956522964,
          -1.8590045461502147,
          -1.5741416587906967,
          -6.009725561580333,
          0.015609242444010392,
          -2.921648197791816,
          -3.7593942055246847,
          -1.6427750856333703,
          -3.298894514626723,
          -3.936410794666579,
          -2.8092568186989544,
          1.1690850060666769,
          -0.054292504686641964,
          -3.8105215202952833,
          -2.687814642652187,
          -2.821997714034308,
          1.2348505769413136,
          2.2635832531028592,
          -2.080711599126283,
          -3.9128761915119283,
          -3.07529743925995,
          -2.8189324946034207,
          -0.0008490665728987179,
          -4.2626663152740845,
          -2.9578929684316306,
          -5.917687002131393,
          -1.724848017235279,
          -4.2820781275422135,
          -6.294620792437457,
          -2.2575784712832623,
          -3.1217111456188693,
          -1.5039169390375087,
          -4.326397309004466,
          -0.616825157191713,
          2.7468359975026186,
          -4.808115347761903,
          -2.0493274800125127,
          -1.241043467386217,
          1.4074995599139541,
          1.0246471154743302,
          0.5929052041124415,
          -1.5263844359438394,
          -1.4344726290631789,
          -0.886414410543083,
          3.2723363972892443,
          -3.1711506053430547,
          1.0254167032907913,
          -0.9652543549025985,
          -2.2968377384575818,
          -4.150191793420118,
          -1.4163077446940593,
          -3.2131737513286605,
          -1.011360169021135,
          -0.23485905492249842,
          -1.8446906459069825,
          -0.8529479878741392,
          -1.2216948236380698,
          -1.732634425295043,
          -2.7226518314935344
         ],
         "yaxis": "y"
        },
        {
         "customdata": [
          [
           "Turkish Rap",
           "90BPM - Elimde Yalanlarla (feat. Ezhel) (Official Audio).wav"
          ],
          [
           "Turkish Rap",
           "Anti-Kahraman - Kaybedenler (Enstrümantal).wav"
          ],
          [
           "Turkish Rap",
           "Araftafaray.wav"
          ],
          [
           "Turkish Rap",
           "Ağaçkakan - Entropi  Official Music Video.wav"
          ],
          [
           "Turkish Rap",
           "Ben Fero  Gringo - 50 Kilo (Prod.Goldfinger x Yung Swisher).wav"
          ],
          [
           "Turkish Rap",
           "Cartel - Bir Oluruz (Official Video).wav"
          ],
          [
           "Turkish Rap",
           "Cartel - Çek Bir Firt.wav"
          ],
          [
           "Turkish Rap",
           "CEZA - Holocaust (Official Audio).wav"
          ],
          [
           "Turkish Rap",
           "CEZA - Med Cezir (Official Audio).wav"
          ],
          [
           "Turkish Rap",
           "Ceza - Suspus (Official Music Video).wav"
          ],
          [
           "Turkish Rap",
           "CEZA - Yerli Plaka (Official Audio).wav"
          ],
          [
           "Turkish Rap",
           "Contra  Anıl Piyancı - Tavşan.wav"
          ],
          [
           "Turkish Rap",
           "Contra - Kibir.wav"
          ],
          [
           "Turkish Rap",
           "Contra - kıvılcım.wav"
          ],
          [
           "Turkish Rap",
           "Contra - Tehlikeli (Official Video).wav"
          ],
          [
           "Turkish Rap",
           "Contra - Tehlikeli (Official Video)2.wav"
          ],
          [
           "Turkish Rap",
           "Contra - Ölü.wav"
          ],
          [
           "Turkish Rap",
           "Ezhel - Bul Beni.wav"
          ],
          [
           "Turkish Rap",
           "Ezhel - Felaket (Official Audio).wav"
          ],
          [
           "Turkish Rap",
           "Ezhel - Geceler (Official Video) 2018.wav"
          ],
          [
           "Turkish Rap",
           "Ezhel - LOLO.wav"
          ],
          [
           "Turkish Rap",
           "Ezhel - Şehrimin  Tadı.wav"
          ],
          [
           "Turkish Rap",
           "Ezhel - Şehrimin  Tadı2.wav"
          ],
          [
           "Turkish Rap",
           "Farazi V Kayra - Belana Koşar Adım.wav"
          ],
          [
           "Turkish Rap",
           "Farazi V Kayra - Emekli Kahvesi (Official Audio).wav"
          ],
          [
           "Turkish Rap",
           "Farazi V Kayra - Mevsim Olmayan Mekanlar V Unutulanlar feat. Karaçalı Vinyl Obscura.wav"
          ],
          [
           "Turkish Rap",
           "Fuat - Ekinoks (Official Video).wav"
          ],
          [
           "Turkish Rap",
           "Gece Hikayeleri.wav"
          ],
          [
           "Turkish Rap",
           "Kayra  Sorgu - Ne Hale Geldi (Produced by Beatific Vision).wav"
          ],
          [
           "Turkish Rap",
           "Khontkar - Geldiğim Yer (Geldiğim Yer Soundtrack).wav"
          ],
          [
           "Turkish Rap",
           "Killa Hakan - Fight Kulüp 2 ft. Massaka Ceza Summer Cem Contra Khontkar Anıl Piyancı.wav"
          ],
          [
           "Turkish Rap",
           "KOKVL  Lil Zey - Otede Dur (Music Video).wav"
          ],
          [
           "Turkish Rap",
           "Lil Zey - 1 gr eksik (Music Video).wav"
          ],
          [
           "Turkish Rap",
           "Lil Zey - Peygamber Sabrı feat. GOKO.wav"
          ],
          [
           "Turkish Rap",
           "Lil Zey - Vuslat.wav"
          ],
          [
           "Turkish Rap",
           "Lil Zey - Zor  Zor II (Music Video).wav"
          ],
          [
           "Turkish Rap",
           "LUCIANO feat LIL ZEY - ELMAS.wav"
          ],
          [
           "Turkish Rap",
           "Ozbi - Anlamadın Mı (Rakılı Live 3.Seri).wav"
          ],
          [
           "Turkish Rap",
           "Ozbi Feat. Gülce Duru  Olmazlara Yandım  ( RAKILI LIVE ).wav"
          ],
          [
           "Turkish Rap",
           "Sansar  Salvo - Ne (Official Video).wav"
          ],
          [
           "Turkish Rap",
           "Sansar  Salvo - Ne (Official Video)2.wav"
          ],
          [
           "Turkish Rap",
           "Sansar Salvo  Ezhel  Anıl Piyancı - Kafanı Boşalt (Street Cypher).wav"
          ],
          [
           "Turkish Rap",
           "Sansar Salvo  Ezhel  Anıl Piyancı - Kafanı Boşalt (Street Cypher)2.wav"
          ],
          [
           "Turkish Rap",
           "Sansar Salvo - Ne Kadar Umrumda (Official Video).wav"
          ],
          [
           "Turkish Rap",
           "Sansar salvo feat Dr.Fuch - Öldü Sanma.wav"
          ],
          [
           "Turkish Rap",
           "Sanıser - Gel (Official Video).wav"
          ],
          [
           "Turkish Rap",
           "XIR - Ne Sandın (Official Video).wav"
          ],
          [
           "Turkish Rap",
           "Yağmurlar - Anıl Piyancı  Perdenin Ardındakiler.wav"
          ],
          [
           "Turkish Rap",
           "İzahat (feat. Eypio).wav"
          ],
          [
           "Turkish Rap",
           "Şanışer - 9 Yıl Öncesine Mektup (Official Music Video).wav"
          ],
          [
           "Turkish Rap",
           "Şanışer Live Sessions - Yanlışlara Gidiyorum.wav"
          ]
         ],
         "hovertemplate": "genre_label=%{customdata[0]}<br>PC 1=%{x}<br>PC 2=%{y}<br>file_name=%{customdata[1]}<extra></extra>",
         "legendgroup": "Turkish Rap",
         "marker": {
          "color": "#EF553B",
          "symbol": "circle"
         },
         "mode": "markers",
         "name": "Turkish Rap",
         "orientation": "v",
         "showlegend": true,
         "type": "scatter",
         "x": [
          -1.6425579531824708,
          -2.903870829855765,
          3.5028082817559727,
          2.2628921171367713,
          3.743882212177938,
          -2.8824928532269722,
          -1.3867748396855266,
          5.753920791524183,
          -0.8393721442231139,
          -2.047932342809472,
          0.1872191613247822,
          -0.27281169754217,
          4.862908527039928,
          4.084309817238609,
          9.565150791747486,
          -1.1136219333063666,
          3.2660901638557753,
          1.2625181993050718,
          4.634471836945577,
          6.885289190908039,
          9.153370566390329,
          10.216486584315557,
          10.587496240653763,
          9.23762932880903,
          -3.0944054981048685,
          -2.982587510280883,
          6.105604406823791,
          1.8845569845378958,
          -0.6406521209042282,
          7.35757495164609,
          0.29601231797778876,
          14.712240657345658,
          3.760069832952106,
          1.1458784277926313,
          6.129596879258218,
          1.2266934811407981,
          10.40505833583256,
          -0.7554067527835356,
          -0.6685495654721766,
          6.091284181503883,
          1.0824524144678547,
          2.196604029218319,
          2.828655876384311,
          6.964322380124069,
          2.90126724443368,
          -0.7624215568544638,
          4.710289562763812,
          -3.260371315452374,
          -1.6000162622009333,
          -0.019934402733467346,
          -2.190543251570491
         ],
         "xaxis": "x",
         "y": [
          0.04362724923090719,
          0.4165344851082186,
          3.2676708866043263,
          1.9340329838454475,
          3.4404906577151904,
          -0.019695233497821756,
          -0.936248871736548,
          5.435141406460337,
          -0.6250947565776109,
          1.861218776063607,
          1.4140685265043411,
          0.26998461305964566,
          2.8782839937353306,
          3.3283649351445033,
          8.46039314860825,
          -0.4118570580549282,
          1.5907506054378844,
          1.9409789162191595,
          3.3021180147868936,
          3.0643135300920394,
          5.653204841964225,
          0.38268522419773354,
          -1.325409217664861,
          -1.6135848542523645,
          0.5729272484828014,
          -0.27102761849695195,
          4.38146360055981,
          1.4433091124300754,
          0.44372796458080493,
          1.3815435920805217,
          0.6852346106046818,
          8.551496728247198,
          -1.9833258570546957,
          4.505781604210404,
          7.723992218062003,
          2.9811081102235923,
          8.740567640168415,
          1.222547474743626,
          1.0384673669093514,
          -1.822138220818835,
          1.8112518077666968,
          1.6305504533161699,
          2.57457942110201,
          2.916470288155062,
          2.207705775065732,
          3.6885015677528923,
          3.7338209856039564,
          1.55469894243871,
          2.242093394413427,
          2.7805103026029867,
          -1.4271401014836118
         ],
         "yaxis": "y"
        },
        {
         "customdata": [
          [
           "Turkish Pop",
           "Ajda Pekkan feat. Ozan Çolakoğlu - Ara Sıcak.wav"
          ],
          [
           "Turkish Pop",
           "Aleyna Tilki - Sen Olsan Bari.wav"
          ],
          [
           "Turkish Pop",
           "Alper Atakan  Hande Ünsal - Ah Anlatsam.wav"
          ],
          [
           "Turkish Pop",
           "Alper Atakan  İrem Derici - Affeder mi Aşk Bizi.wav"
          ],
          [
           "Turkish Pop",
           "Aynur Aydın feat. Turaç Berkay - Bana Aşk Ver.wav"
          ],
          [
           "Turkish Pop",
           "Ayşe Hatun Önal - Katakulli.wav"
          ],
          [
           "Turkish Pop",
           "Bengü - Aşkım (Official Video).wav"
          ],
          [
           "Turkish Pop",
           "Bengü - Feveran.wav"
          ],
          [
           "Turkish Pop",
           "Bengü - Kocaman Öpüyorum.wav"
          ],
          [
           "Turkish Pop",
           "Bengü - Kuzum.wav"
          ],
          [
           "Turkish Pop",
           "Bengü - Sığamıyorum.wav"
          ],
          [
           "Turkish Pop",
           "Buray - Ask Yeniden (Yeni Türkü Zamansız).wav"
          ],
          [
           "Turkish Pop",
           "Cem Belevi - Alışamıyorum.wav"
          ],
          [
           "Turkish Pop",
           "Cem Belevi - Melekti Sanki.wav"
          ],
          [
           "Turkish Pop",
           "Demet Akalın  - Olacak Olacak.wav"
          ],
          [
           "Turkish Pop",
           "Demet Akalın  - Çanta.wav"
          ],
          [
           "Turkish Pop",
           "Demet Akalın - Afedersin.wav"
          ],
          [
           "Turkish Pop",
           "Demet Akalın - Bensiz Olsun.wav"
          ],
          [
           "Turkish Pop",
           "Demet Akalın - Bi Daha Bi Daha.wav"
          ],
          [
           "Turkish Pop",
           "Demet Akalın - Giderli Şarkılar.wav"
          ],
          [
           "Turkish Pop",
           "Demet Akalın - Mucize.wav"
          ],
          [
           "Turkish Pop",
           "Demet Akalın - Nazar.wav"
          ],
          [
           "Turkish Pop",
           "Demet Akalın - Pırlanta.wav"
          ],
          [
           "Turkish Pop",
           "Demet Akalın - İlahi Adalet.wav"
          ],
          [
           "Turkish Pop",
           "Derya Uluğ - Hadi Çal.wav"
          ],
          [
           "Turkish Pop",
           "Derya Uluğ - Kanunlar Gibi.wav"
          ],
          [
           "Turkish Pop",
           "Ece Mumay - Peri.wav"
          ],
          [
           "Turkish Pop",
           "Ece Mumay - Vanilya.wav"
          ],
          [
           "Turkish Pop",
           "Ece Seçkin - Yastık.wav"
          ],
          [
           "Turkish Pop",
           "Edis - Arıyorum (Official Video).wav"
          ],
          [
           "Turkish Pop",
           "Edis - Dudak (Official Video).wav"
          ],
          [
           "Turkish Pop",
           "Edis - Martılar (Official Video).wav"
          ],
          [
           "Turkish Pop",
           "Eline Düştüm.wav"
          ],
          [
           "Turkish Pop",
           "Emrah Karaduman feat. Murat Dalkılıç - Kırk Yılda Bir Gibisin.wav"
          ],
          [
           "Turkish Pop",
           "Emre Kaya - Esaret.wav"
          ],
          [
           "Turkish Pop",
           "Erdem Kınay  Ft. Merve Özbey - Helal Ettim ( Official Video ).wav"
          ],
          [
           "Turkish Pop",
           "Erdem Kınay feat. Demet Akalın - Rota.wav"
          ],
          [
           "Turkish Pop",
           "Eypio  Arem Ozguc  Arman Aydin - Yan.wav"
          ],
          [
           "Turkish Pop",
           "Gulsen - Bir Fırt Cek.wav"
          ],
          [
           "Turkish Pop",
           "Gülşen  Edis - Nirvana.wav"
          ],
          [
           "Turkish Pop",
           "Gülşen - Acısı Bile Bal (Beni Durdursan Mı) (08).wav"
          ],
          [
           "Turkish Pop",
           "Gülşen - Büyük Hatırın Var (feat. Ozan Çolakoğlu).wav"
          ],
          [
           "Turkish Pop",
           "Gülşen - Irgalamaz Beni.wav"
          ],
          [
           "Turkish Pop",
           "Gülşen - Saklandım İzlerinde (Beni Durdursan Mı) (03).wav"
          ],
          [
           "Turkish Pop",
           "Gülşen - Yatcaz Kalkcaz Ordayım.wav"
          ],
          [
           "Turkish Pop",
           "Gülşen - Yurtta Aşk Cihanda Aşk.wav"
          ],
          [
           "Turkish Pop",
           "Gülşen feat. Murat Boz - İltimas.wav"
          ],
          [
           "Turkish Pop",
           "Hadise - Hay Hay.wav"
          ],
          [
           "Turkish Pop",
           "Hadise - Mesajımı Almıştır O.wav"
          ],
          [
           "Turkish Pop",
           "Hadise - Superman.wav"
          ],
          [
           "Turkish Pop",
           "Hadise - Sıfır Tolerans.wav"
          ],
          [
           "Turkish Pop",
           "Hande Yener - Beni Sev - (Official Video).wav"
          ],
          [
           "Turkish Pop",
           "Hande Yener - Kırmızı.wav"
          ],
          [
           "Turkish Pop",
           "Hande Yener - Naber ( Official Video ).wav"
          ],
          [
           "Turkish Pop",
           "Hande Yener - Sahte (Official Video).wav"
          ],
          [
           "Turkish Pop",
           "Hande Ünsal - Seni Sever miydim.wav"
          ],
          [
           "Turkish Pop",
           "Irmak Arıcı - Asık Suratım.wav"
          ],
          [
           "Turkish Pop",
           "Kurtuluş Kuş  Burak Bulut - Baba Yak.wav"
          ],
          [
           "Turkish Pop",
           "Kurtuluş Kuş  Burak Bulut - Hasat.wav"
          ],
          [
           "Turkish Pop",
           "Melek Mosso - Hayatım Kaymış.wav"
          ],
          [
           "Turkish Pop",
           "Merve Özbey - Kendine Dünya ( Official Video ).wav"
          ],
          [
           "Turkish Pop",
           "MERVE ÖZBEY - TOPSUZ TÜFEKSİZ (Official Video).wav"
          ],
          [
           "Turkish Pop",
           "MERVE ÖZBEY - YAŞ HİKAYESİ (Official Video).wav"
          ],
          [
           "Turkish Pop",
           "Merve Özbey - Yerle Yeksan.wav"
          ],
          [
           "Turkish Pop",
           "Murat Boz - Adını Bilen Yazsın.wav"
          ],
          [
           "Turkish Pop",
           "Murat Boz - Hayat Öpücüğü (Official Video).wav"
          ],
          [
           "Turkish Pop",
           "Murat Boz - Janti.wav"
          ],
          [
           "Turkish Pop",
           "Murat Boz - Vazgeçmem.wav"
          ],
          [
           "Turkish Pop",
           "Murat Dalkılıç - Son Liman - (Official Video).wav"
          ],
          [
           "Turkish Pop",
           "Murat Dalkılıç feat. Boygar - Leyla.wav"
          ],
          [
           "Turkish Pop",
           "Mustafa Ceceli  Nigar Muharrem- Salıncak.wav"
          ],
          [
           "Turkish Pop",
           "Mustafa Ceceli - İlle De Aşk.wav"
          ],
          [
           "Turkish Pop",
           "Mustafa Sandal - Tesir Altında.wav"
          ],
          [
           "Turkish Pop",
           "Ozan Doğulu feat. Demet Akalın - Kulüp.wav"
          ],
          [
           "Turkish Pop",
           "Ozan Doğulu feat. Gülden  Bahadır Tatlıöz - Uzun Lafın Kısası.wav"
          ],
          [
           "Turkish Pop",
           "Ozan Çolakoğlu feat Gülşen - Seyre Dursun Aşk.wav"
          ],
          [
           "Turkish Pop",
           "Oğuzhan Koç Arem Ozguc Arman Aydin - Yoksa Yasak (Official Video).wav"
          ],
          [
           "Turkish Pop",
           "Reynmen ft. Zeynep Bastık - Yalan ( Official Video ).wav"
          ],
          [
           "Turkish Pop",
           "Serdar Ortaç - Gitme.wav"
          ],
          [
           "Turkish Pop",
           "Serdar Ortaç - Gıybet.wav"
          ],
          [
           "Turkish Pop",
           "Simge - Miş Miş.wav"
          ],
          [
           "Turkish Pop",
           "Simge - Öpücem.wav"
          ],
          [
           "Turkish Pop",
           "Sinan Akçıl - Tabi Tabi.wav"
          ],
          [
           "Turkish Pop",
           "TAN TAŞÇI - HATA ( OFFICIAL AUDIO ).wav"
          ],
          [
           "Turkish Pop",
           "TARKAN  Geççek.wav"
          ],
          [
           "Turkish Pop",
           "TARKAN - Sevdanın Son Vuruşu (Official Audio).wav"
          ],
          [
           "Turkish Pop",
           "TARKAN - Öp.wav"
          ],
          [
           "Turkish Pop",
           "TARKAN feat. OZAN ÇOLAKOĞLU - Aşk Gitti Bizden (Official Video  Lyrics).wav"
          ],
          [
           "Turkish Pop",
           "Tuğba Yurt - Yas.wav"
          ],
          [
           "Turkish Pop",
           "Tuğba Yurt - İnceden İnceden.wav"
          ],
          [
           "Turkish Pop",
           "Yalın - Yaz Gülü aşklişelerigülaşka.wav"
          ],
          [
           "Turkish Pop",
           "Zeynep Bastık - Her Mevsim Yazım (Official Video).wav"
          ],
          [
           "Turkish Pop",
           "Zeynep Bastık - Marlon Brando (Official Video).wav"
          ],
          [
           "Turkish Pop",
           "Zeynep Dizdar - Sana Güvenmiyorum.wav"
          ],
          [
           "Turkish Pop",
           "Ziynet Sali - Deli Divanenim.wav"
          ],
          [
           "Turkish Pop",
           "Ziynet Sali - Efkarım Var.wav"
          ],
          [
           "Turkish Pop",
           "Ziynet Sali - Kalbim Tatilde.wav"
          ],
          [
           "Turkish Pop",
           "Çağla - Saz mı Caz mı.wav"
          ],
          [
           "Turkish Pop",
           "İndir.wav"
          ]
         ],
         "hovertemplate": "genre_label=%{customdata[0]}<br>PC 1=%{x}<br>PC 2=%{y}<br>file_name=%{customdata[1]}<extra></extra>",
         "legendgroup": "Turkish Pop",
         "marker": {
          "color": "#00cc96",
          "symbol": "circle"
         },
         "mode": "markers",
         "name": "Turkish Pop",
         "orientation": "v",
         "showlegend": true,
         "type": "scatter",
         "x": [
          -5.9339047419491875,
          -1.0877004356326443,
          -1.400638508805568,
          0.1361274497351795,
          -4.907956344794565,
          -1.8872936922559491,
          -3.2760319020187256,
          -3.45681334458581,
          -2.642714529526889,
          -3.1062593028249115,
          -2.3227462117656015,
          -0.8095135163422336,
          -4.3881525370966505,
          -2.4686951178441823,
          -4.563753406730269,
          -2.2548331931507253,
          -1.6883939821202685,
          -2.6570786392285632,
          -2.154796247740362,
          -3.9791552237967265,
          -2.5504639523113743,
          -4.070811736105803,
          -2.1670511434622544,
          -4.967355792159537,
          -2.842219016588702,
          -1.1610573717693617,
          0.17588499253414686,
          -2.84360485644215,
          0.6988569273863882,
          -2.2935806036604944,
          -3.9855420340122643,
          0.4069193813787106,
          -2.7819265487844174,
          -1.6753748806708206,
          -4.40163260094499,
          -3.1476146729105188,
          -3.7255358323895695,
          -0.5292409093551818,
          -4.581729684315491,
          -4.417949052435878,
          -4.308394155900933,
          -5.351470409040441,
          -4.6390476123626465,
          -4.2958385945226185,
          -3.908428030781688,
          -3.208023807262409,
          -3.930110250988054,
          -1.437855884239646,
          -4.216596568627038,
          -2.643614134935461,
          -1.843646710475376,
          -4.605712251936082,
          -2.081383399833094,
          -0.8107350632651353,
          3.8121282439088864,
          -3.5680406078358127,
          -1.7759206953519728,
          -1.7709876688665485,
          -2.741935858693062,
          -2.7835782560464293,
          -1.03215028545774,
          -3.9378032708909,
          -4.898002400311016,
          -1.5221666669667873,
          -2.759583738190707,
          -1.8401789145272471,
          -4.706045125113303,
          -5.974993992877931,
          -2.8743492671324335,
          -3.51359182062765,
          -1.0396729036238377,
          -4.431411751696684,
          -4.531178524957534,
          -4.923871798173882,
          -3.4339908847208767,
          -4.55995326134506,
          -1.2284843835314985,
          -3.9764429443135714,
          -2.5246113802583423,
          -2.615587097114507,
          -2.8913299649923774,
          -3.335876691116973,
          -2.196011143268792,
          -3.9153601364668473,
          -1.3478952490985883,
          -6.315505860413789,
          -2.9353062320406913,
          -4.357500372757489,
          -1.7600086750667354,
          -4.193266476105693,
          -1.7551022590214207,
          -0.17042972816719282,
          0.35778717980161834,
          -1.739295289995498,
          -3.211687284294917,
          -3.333221037593171,
          0.31637676523498337,
          -3.8070540449890014,
          -2.6050149977628507
         ],
         "xaxis": "x",
         "y": [
          3.0616154824565838,
          2.1148212810518676,
          0.7633352566370133,
          1.5350497852860443,
          2.837559257374699,
          1.538753845275315,
          1.252520250259795,
          6.03829516771304,
          3.2410264674692653,
          0.6074865392010631,
          3.259976671630383,
          1.0198535030659686,
          1.2250680153842135,
          -0.8519463113141411,
          4.440402518860852,
          3.0306738759451726,
          3.837392761810764,
          2.882023387543235,
          1.5185120624409416,
          1.397531350716946,
          0.3879838680975661,
          4.605568627959236,
          4.562438480436383,
          4.795996723464286,
          4.596496577341812,
          4.0321843666266854,
          3.2720668431257964,
          2.4166558908501257,
          2.8812136472118413,
          -0.06724109928983686,
          1.5016445799467366,
          1.7431752273303076,
          -0.24611552095513523,
          1.1223639778841066,
          1.3365409925087355,
          3.428810264033666,
          1.2437202632500783,
          2.247908401837308,
          2.517217649660307,
          1.6216635590725097,
          1.8078803514662403,
          1.4371030469593813,
          3.1446896628566696,
          3.1534027863619443,
          3.4090109370482935,
          1.923029743765388,
          2.229214040720835,
          0.546131613788202,
          3.821265981739561,
          1.3063868123550342,
          3.939846914082992,
          0.14184730041017557,
          1.6236795279962155,
          0.38890295984738665,
          2.178077090342504,
          2.762325345525182,
          1.9588741632087754,
          2.7712262927752382,
          1.3307477668606174,
          1.1712800985771694,
          4.58143372714797,
          4.300731758901434,
          3.0337001487363313,
          5.671821738968741,
          0.5730961655365395,
          -2.574076433197956,
          2.21828910923724,
          -0.14707370173515288,
          1.4466600232479514,
          -0.6439022174967558,
          2.244868648142716,
          -0.7607329524722891,
          -0.31807092072788795,
          2.664892685485462,
          1.1265673373667753,
          2.0879458157191317,
          1.695247598388078,
          4.827648734944235,
          1.1771528148456971,
          2.070304317778545,
          1.627081751941416,
          1.43505270895462,
          1.5368563580323709,
          2.222597352750131,
          0.7411811648996244,
          0.9101350256163537,
          0.006517069065056434,
          0.04350287049510387,
          5.413395571664555,
          3.604656658298859,
          1.209788932855121,
          0.6651172132127563,
          2.200633967698268,
          0.3136787565860348,
          1.9608586373910868,
          2.2079879909993387,
          3.184354607828106,
          3.0355051791518237,
          -0.5812173906012812
         ],
         "yaxis": "y"
        },
        {
         "customdata": [
          [
           "Turkish Rock",
           "Adamlar - Acının İlacı (Official Audio).wav"
          ],
          [
           "Turkish Rock",
           "Adamlar - Benden Bana.wav"
          ],
          [
           "Turkish Rock",
           "Adamlar - Rüyalarda Buruşmuşum (Official Audio).wav"
          ],
          [
           "Turkish Rock",
           "Adamlar - Yanmış İçinden (Official Audio).wav"
          ],
          [
           "Turkish Rock",
           "Athena - Arsız Gönül (GQ Men of the Year 2016).wav"
          ],
          [
           "Turkish Rock",
           "Athena - Kafama Göre.wav"
          ],
          [
           "Turkish Rock",
           "Athena - Kime Ne.wav"
          ],
          [
           "Turkish Rock",
           "Athena - Serseri Mayın.wav"
          ],
          [
           "Turkish Rock",
           "Aylin Aslım - Ben Kalender Meşrebim.wav"
          ],
          [
           "Turkish Rock",
           "Aşktan Öte.wav"
          ],
          [
           "Turkish Rock",
           "Barış Akarsu - Islak Islak.wav"
          ],
          [
           "Turkish Rock",
           "Bir Kadın Çizeceksin.wav"
          ],
          [
           "Turkish Rock",
           "Bir Şey Yapmalı (Moğollar).wav"
          ],
          [
           "Turkish Rock",
           "Bir.wav"
          ],
          [
           "Turkish Rock",
           "Büyük Ev Ablukada - HEPSİNE NE FENA.wav"
          ],
          [
           "Turkish Rock",
           "Can Bonomo - Meczup.wav"
          ],
          [
           "Turkish Rock",
           "Demir Demirkan - Aşktan Öte (akustik).wav"
          ],
          [
           "Turkish Rock",
           "Demir Demirkan - Zaferlerim (2004 Istanbul).wav"
          ],
          [
           "Turkish Rock",
           "Dolu Kadehi Ters Tut - Gitme (feat. Sedef Sebüktekin) (Official Audio).wav"
          ],
          [
           "Turkish Rock",
           "Duman - Dibine Kadar.wav"
          ],
          [
           "Turkish Rock",
           "En Güzel Yerinde Evin.wav"
          ],
          [
           "Turkish Rock",
           "Feridun Duzagac - Biçare (Official Video).wav"
          ],
          [
           "Turkish Rock",
           "GECE - Ben Oldum.wav"
          ],
          [
           "Turkish Rock",
           "GECE - Gamsiz.wav"
          ],
          [
           "Turkish Rock",
           "GECE - Gönder Gelsin.wav"
          ],
          [
           "Turkish Rock",
           "Gemiler.wav"
          ],
          [
           "Turkish Rock",
           "Gripin - Sensiz Istanbula Düsmanim.wav"
          ],
          [
           "Turkish Rock",
           "haluk levent sevenler ağlarmış.wav"
          ],
          [
           "Turkish Rock",
           "Havadar.wav"
          ],
          [
           "Turkish Rock",
           "Hayko Cepkin - Bertaraf Et.wav"
          ],
          [
           "Turkish Rock",
           "Hayko Cepkin - Fırtınam  (Concert Live) (İzmir Gündoğdu Meydanı - 19 Mayıs 2019).wav"
          ],
          [
           "Turkish Rock",
           "Hayko Cepkin - Hayvaaağ1n.wav"
          ],
          [
           "Turkish Rock",
           "Hayko Cepkin - Ölüyorum.wav"
          ],
          [
           "Turkish Rock",
           "Kafama Göre.wav"
          ],
          [
           "Turkish Rock",
           "Kaç canım kalmış - Kafamı hissetmiyorum.wav"
          ],
          [
           "Turkish Rock",
           "Keçi K. - Böcek.wav"
          ],
          [
           "Turkish Rock",
           "Keçi K. - Böcek2.wav"
          ],
          [
           "Turkish Rock",
           "Keçi K. - Süpermen (Official Video).wav"
          ],
          [
           "Turkish Rock",
           "Keçi K. - Şiddet Tekeli.wav"
          ],
          [
           "Turkish Rock",
           "Kurban - Yine.wav"
          ],
          [
           "Turkish Rock",
           "KURTALAN EKSPRES  Ft. Hayko Cepkin - Yeni Bir Gün.wav"
          ],
          [
           "Turkish Rock",
           "Kıraç - Senden Başka (Official Video).wav"
          ],
          [
           "Turkish Rock",
           "maNga - Beni Benimle Birak.wav"
          ],
          [
           "Turkish Rock",
           "maNga - Cevapsiz Sorular.wav"
          ],
          [
           "Turkish Rock",
           "maNga - Dunyanin Sonuna Dogmusum.wav"
          ],
          [
           "Turkish Rock",
           "Mavi Gri - Dünyanın En Güzel Kızı (Lyrics Video).wav"
          ],
          [
           "Turkish Rock",
           "mor ve ötesi - Cambaz (Official Video).wav"
          ],
          [
           "Turkish Rock",
           "mor ve ötesi - Deli (Official Video).wav"
          ],
          [
           "Turkish Rock",
           "mor ve ötesi - Oyunbozan  (Official Video).wav"
          ],
          [
           "Turkish Rock",
           "Namus Belası.wav"
          ],
          [
           "Turkish Rock",
           "Ne Jupiter - Renksiz Bir Kadın.wav"
          ],
          [
           "Turkish Rock",
           "Ogün Sanlisoy - Bilmece.wav"
          ],
          [
           "Turkish Rock",
           "Ogün Sanlısoy - Geri Dönemem.wav"
          ],
          [
           "Turkish Rock",
           "Olduramadım.wav"
          ],
          [
           "Turkish Rock",
           "Palmiyeler -  Babaçko.wav"
          ],
          [
           "Turkish Rock",
           "Pamela - istanbul.wav"
          ],
          [
           "Turkish Rock",
           "Pentagram  11 Geçmişin Yükü (Acoustic Live 2017) (feat. Harun Tekin Kerem Özyeğen).wav"
          ],
          [
           "Turkish Rock",
           "Pentagram - Gecmisin Yuku.wav"
          ],
          [
           "Turkish Rock",
           "PENTAGRAM - Şeytan Bunun Neresinde.wav"
          ],
          [
           "Turkish Rock",
           "Peyk - Karnım Aç - Teslim Olma  2014 Kalan Müzik .wav"
          ],
          [
           "Turkish Rock",
           "Pinhâni - Kimse Görmesin Seni.wav"
          ],
          [
           "Turkish Rock",
           "REDD - Aşk Virüs.wav"
          ],
          [
           "Turkish Rock",
           "Redd - Don Kisot.wav"
          ],
          [
           "Turkish Rock",
           "Redd - Kanıyorduk.wav"
          ],
          [
           "Turkish Rock",
           "Sebnem Ferah - Bu Ask Fazla Sana.wav"
          ],
          [
           "Turkish Rock",
           "Second - Aklımda Bi Kördüğüm.wav"
          ],
          [
           "Turkish Rock",
           "Second - Eski Ve Kusurlu.wav"
          ],
          [
           "Turkish Rock",
           "Seksendört - Anlayamazsın - (Official Video).wav"
          ],
          [
           "Turkish Rock",
           "Seksendört - Kendime Yalan Söyledim ( Official Video ).wav"
          ],
          [
           "Turkish Rock",
           "Sigara.wav"
          ],
          [
           "Turkish Rock",
           "Siyah Beyaz.wav"
          ],
          [
           "Turkish Rock",
           "Siyah Beyaz2.wav"
          ],
          [
           "Turkish Rock",
           "Tayyar Ahmetin Sonsuz Sayılı Günleri.wav"
          ],
          [
           "Turkish Rock",
           "Tayyar Ahmetin Sonsuz Sayılı Günleri2.wav"
          ],
          [
           "Turkish Rock",
           "Teoman - Paramparça.wav"
          ],
          [
           "Turkish Rock",
           "Umut Kaya - Mevsimler Geçerken.wav"
          ],
          [
           "Turkish Rock",
           "Uzunlar (V1).wav"
          ],
          [
           "Turkish Rock",
           "Yavuz Çetin - Benimle Uçmak İster Misin (Official Audio).wav"
          ],
          [
           "Turkish Rock",
           "Yavuz Çetin - Kurtar Beni (Official Audio).wav"
          ],
          [
           "Turkish Rock",
           "Yavuz Çetin Yasamak Istemem.wav"
          ],
          [
           "Turkish Rock",
           "Yaşlı Amca - İstanbul Beyefendisi.wav"
          ],
          [
           "Turkish Rock",
           "Yok Oyle Kararli Seyler - Gel Tamamla Akustikhane.wav"
          ],
          [
           "Turkish Rock",
           "Yok Öyle Kararlı Şeyler - Evde Ekmek Yok (BeTheBands).wav"
          ],
          [
           "Turkish Rock",
           "You May Kiss The Bride - Artık Ben Yokum.wav"
          ],
          [
           "Turkish Rock",
           "You May Kiss The Bride feat Fatma Turgut - Bensiz Bir Sen.wav"
          ],
          [
           "Turkish Rock",
           "Yüzyüzeyken Konuşuruz - Gençliğimi Geri Ver.wav"
          ],
          [
           "Turkish Rock",
           "Yıldızların Altında.wav"
          ],
          [
           "Turkish Rock",
           "Çıldırmicam.wav"
          ],
          [
           "Turkish Rock",
           "Öpücük.wav"
          ],
          [
           "Turkish Rock",
           "Öyle Dertli.wav"
          ],
          [
           "Turkish Rock",
           "Özlem Tekin - Dağları Deldim.wav"
          ],
          [
           "Turkish Rock",
           "Özlem Tekin - Sen Anla.wav"
          ],
          [
           "Turkish Rock",
           "Şebnem Ferah  Hayko Cepkin  Badem  TNK  Aylin Aslım - Özgürce Yaşa.wav"
          ],
          [
           "Turkish Rock",
           "Şebnem Ferah - Can Kırıkları.wav"
          ],
          [
           "Turkish Rock",
           "Şebnem Ferah - Çakıl Taşları.wav"
          ]
         ],
         "hovertemplate": "genre_label=%{customdata[0]}<br>PC 1=%{x}<br>PC 2=%{y}<br>file_name=%{customdata[1]}<extra></extra>",
         "legendgroup": "Turkish Rock",
         "marker": {
          "color": "#ab63fa",
          "symbol": "circle"
         },
         "mode": "markers",
         "name": "Turkish Rock",
         "orientation": "v",
         "showlegend": true,
         "type": "scatter",
         "x": [
          2.0725459704915448,
          2.7979134425647127,
          5.043565522142013,
          -3.2866817651672986,
          -3.3253171780608217,
          -2.2099326047610672,
          2.8067821518346103,
          -2.6909389751510586,
          -5.271022776609215,
          -2.647015731141124,
          -2.6956963198855464,
          -3.1984854491408163,
          -2.1917487155384547,
          -4.801113316479265,
          1.9721769533899973,
          -2.594428923163319,
          3.543942341160622,
          -1.3273907291132017,
          0.7378604535539139,
          -2.5694975362840786,
          1.6198023506390575,
          -3.478286832799521,
          -2.407177423745397,
          -4.22263975904794,
          -1.29259313581968,
          -2.838067264592293,
          -3.2670104578638033,
          -3.943149477426514,
          -2.9299060036164097,
          -1.7964221657878223,
          -4.98353344886561,
          -6.354151582185087,
          -3.311309215556031,
          -3.6266484379606716,
          2.672543157996232,
          0.7085583604903435,
          -4.945924479685038,
          -1.3652317367250566,
          0.33447164412838176,
          -4.588670251443236,
          -0.2920721939403858,
          -3.4829434349620385,
          -3.0013589508009315,
          -3.2523441681274394,
          -3.3552488531228186,
          -2.9602084988879915,
          -4.290456501698544,
          -3.906794127612438,
          -1.3526140038667684,
          -4.008715769229626,
          -0.8318237539055496,
          -4.069784356961627,
          -4.31866560136719,
          -1.4769967790931522,
          -3.6243203298386315,
          0.8704418023456231,
          -3.7783484839529797,
          -4.565605987995884,
          -4.991812106459312,
          0.7245170822780472,
          5.418179609738541,
          -4.130609714148505,
          -4.4734733908165785,
          -5.179781862345955,
          -3.2136048660784162,
          0.39002295592377445,
          -3.5944924211602056,
          -3.5285884793997124,
          -2.623706207879182,
          -1.535035501268145,
          -0.890197987941819,
          -5.861918716853752,
          0.14607033648896425,
          -0.3896777270825034,
          -1.750410689089861,
          -3.033169779789818,
          1.226858722930379,
          -4.006657339769017,
          -4.093077818475233,
          -1.685446256617925,
          -2.0091124098652244,
          -0.451590040929786,
          -2.7196553690665852,
          -5.189214345118452,
          -4.4267172858167925,
          0.8808506345114683,
          0.2053540715928258,
          -2.0098138686071687,
          -0.8146797603657512,
          -4.038209631749199,
          -0.6047298358495942,
          -3.8075492858289803,
          -0.6819721987170239,
          -2.62686813475092,
          -2.056044964388968
         ],
         "xaxis": "x",
         "y": [
          -1.5435726899124391,
          -2.392918395061204,
          -0.19490223527461342,
          -3.1884418243119796,
          -2.452297079732176,
          -3.1824263084037674,
          -1.8284798071526243,
          -4.727384913114997,
          -3.6177506458217015,
          -1.4361869923674826,
          -0.85460166454467,
          -1.3152610450586562,
          -3.3923047130396102,
          -3.0348795163136497,
          0.6906156387537082,
          -1.1220648842309289,
          2.3899791161337682,
          -1.6657397415090505,
          -2.899736948214891,
          -1.242192361938724,
          -4.941663946177367,
          0.08558059320032105,
          -2.0336065638845904,
          -0.8955338338961297,
          0.10654815740597688,
          0.46291249486060415,
          -3.3613480283569395,
          -4.910184069330623,
          -5.383201209148263,
          -2.3226337280912572,
          -0.9553718214976935,
          -1.3851826438809411,
          -2.2219396720518834,
          -2.5536396472377714,
          0.5764892047761716,
          -0.22476917057104204,
          -4.0502814422567655,
          -1.3456815988138455,
          -0.9772685304800036,
          -3.3680628871654017,
          -1.3496417525049662,
          -2.912123005265238,
          -2.6755824056405024,
          -1.0917885803535035,
          -0.05010494176298923,
          -4.605277508137523,
          -4.877303428561134,
          -4.510512376159589,
          -2.6046198598848913,
          -3.327113399610431,
          -1.9524327655990885,
          -3.321867401404838,
          -1.7178982964128182,
          -3.802509637582877,
          -2.8084209537079423,
          2.120329670818735,
          -1.7834797228390555,
          -2.9860703538440023,
          -4.323367171845472,
          -2.9974371498853585,
          -3.398421971423592,
          0.3245692314974318,
          -2.299047286306347,
          -0.4093190693030408,
          -0.7722520529102461,
          0.32183007504471506,
          -2.725530206981321,
          -2.426152809833679,
          -3.0924686692778316,
          -0.4282248613253999,
          0.6390010341564049,
          -1.8037125432589938,
          -2.668011439098432,
          -0.7858680284900645,
          -0.001320692387634078,
          -2.071879293398133,
          -0.040312169019370715,
          -2.69412139276186,
          -2.3658743557738853,
          -1.094235410452469,
          -1.9298451686355675,
          -0.012526007936157449,
          -4.002044268138048,
          -2.637614453555962,
          -1.3657499026858448,
          -1.5141202213477971,
          0.1610674928478039,
          -4.008320719670817,
          -0.05651733372008114,
          -2.6492205349061337,
          3.1359399381584487,
          0.4263762553862466,
          -0.7007090956768761,
          0.3652261750042064,
          0.8631446314586506
         ],
         "yaxis": "y"
        }
       ],
       "layout": {
        "height": 750,
        "legend": {
         "title": {
          "text": "genre_label"
         },
         "tracegroupgap": 0
        },
        "margin": {
         "t": 60
        },
        "template": {
         "data": {
          "bar": [
           {
            "error_x": {
             "color": "#2a3f5f"
            },
            "error_y": {
             "color": "#2a3f5f"
            },
            "marker": {
             "line": {
              "color": "#E5ECF6",
              "width": 0.5
             },
             "pattern": {
              "fillmode": "overlay",
              "size": 10,
              "solidity": 0.2
             }
            },
            "type": "bar"
           }
          ],
          "barpolar": [
           {
            "marker": {
             "line": {
              "color": "#E5ECF6",
              "width": 0.5
             },
             "pattern": {
              "fillmode": "overlay",
              "size": 10,
              "solidity": 0.2
             }
            },
            "type": "barpolar"
           }
          ],
          "carpet": [
           {
            "aaxis": {
             "endlinecolor": "#2a3f5f",
             "gridcolor": "white",
             "linecolor": "white",
             "minorgridcolor": "white",
             "startlinecolor": "#2a3f5f"
            },
            "baxis": {
             "endlinecolor": "#2a3f5f",
             "gridcolor": "white",
             "linecolor": "white",
             "minorgridcolor": "white",
             "startlinecolor": "#2a3f5f"
            },
            "type": "carpet"
           }
          ],
          "choropleth": [
           {
            "colorbar": {
             "outlinewidth": 0,
             "ticks": ""
            },
            "type": "choropleth"
           }
          ],
          "contour": [
           {
            "colorbar": {
             "outlinewidth": 0,
             "ticks": ""
            },
            "colorscale": [
             [
              0,
              "#0d0887"
             ],
             [
              0.1111111111111111,
              "#46039f"
             ],
             [
              0.2222222222222222,
              "#7201a8"
             ],
             [
              0.3333333333333333,
              "#9c179e"
             ],
             [
              0.4444444444444444,
              "#bd3786"
             ],
             [
              0.5555555555555556,
              "#d8576b"
             ],
             [
              0.6666666666666666,
              "#ed7953"
             ],
             [
              0.7777777777777778,
              "#fb9f3a"
             ],
             [
              0.8888888888888888,
              "#fdca26"
             ],
             [
              1,
              "#f0f921"
             ]
            ],
            "type": "contour"
           }
          ],
          "contourcarpet": [
           {
            "colorbar": {
             "outlinewidth": 0,
             "ticks": ""
            },
            "type": "contourcarpet"
           }
          ],
          "heatmap": [
           {
            "colorbar": {
             "outlinewidth": 0,
             "ticks": ""
            },
            "colorscale": [
             [
              0,
              "#0d0887"
             ],
             [
              0.1111111111111111,
              "#46039f"
             ],
             [
              0.2222222222222222,
              "#7201a8"
             ],
             [
              0.3333333333333333,
              "#9c179e"
             ],
             [
              0.4444444444444444,
              "#bd3786"
             ],
             [
              0.5555555555555556,
              "#d8576b"
             ],
             [
              0.6666666666666666,
              "#ed7953"
             ],
             [
              0.7777777777777778,
              "#fb9f3a"
             ],
             [
              0.8888888888888888,
              "#fdca26"
             ],
             [
              1,
              "#f0f921"
             ]
            ],
            "type": "heatmap"
           }
          ],
          "heatmapgl": [
           {
            "colorbar": {
             "outlinewidth": 0,
             "ticks": ""
            },
            "colorscale": [
             [
              0,
              "#0d0887"
             ],
             [
              0.1111111111111111,
              "#46039f"
             ],
             [
              0.2222222222222222,
              "#7201a8"
             ],
             [
              0.3333333333333333,
              "#9c179e"
             ],
             [
              0.4444444444444444,
              "#bd3786"
             ],
             [
              0.5555555555555556,
              "#d8576b"
             ],
             [
              0.6666666666666666,
              "#ed7953"
             ],
             [
              0.7777777777777778,
              "#fb9f3a"
             ],
             [
              0.8888888888888888,
              "#fdca26"
             ],
             [
              1,
              "#f0f921"
             ]
            ],
            "type": "heatmapgl"
           }
          ],
          "histogram": [
           {
            "marker": {
             "pattern": {
              "fillmode": "overlay",
              "size": 10,
              "solidity": 0.2
             }
            },
            "type": "histogram"
           }
          ],
          "histogram2d": [
           {
            "colorbar": {
             "outlinewidth": 0,
             "ticks": ""
            },
            "colorscale": [
             [
              0,
              "#0d0887"
             ],
             [
              0.1111111111111111,
              "#46039f"
             ],
             [
              0.2222222222222222,
              "#7201a8"
             ],
             [
              0.3333333333333333,
              "#9c179e"
             ],
             [
              0.4444444444444444,
              "#bd3786"
             ],
             [
              0.5555555555555556,
              "#d8576b"
             ],
             [
              0.6666666666666666,
              "#ed7953"
             ],
             [
              0.7777777777777778,
              "#fb9f3a"
             ],
             [
              0.8888888888888888,
              "#fdca26"
             ],
             [
              1,
              "#f0f921"
             ]
            ],
            "type": "histogram2d"
           }
          ],
          "histogram2dcontour": [
           {
            "colorbar": {
             "outlinewidth": 0,
             "ticks": ""
            },
            "colorscale": [
             [
              0,
              "#0d0887"
             ],
             [
              0.1111111111111111,
              "#46039f"
             ],
             [
              0.2222222222222222,
              "#7201a8"
             ],
             [
              0.3333333333333333,
              "#9c179e"
             ],
             [
              0.4444444444444444,
              "#bd3786"
             ],
             [
              0.5555555555555556,
              "#d8576b"
             ],
             [
              0.6666666666666666,
              "#ed7953"
             ],
             [
              0.7777777777777778,
              "#fb9f3a"
             ],
             [
              0.8888888888888888,
              "#fdca26"
             ],
             [
              1,
              "#f0f921"
             ]
            ],
            "type": "histogram2dcontour"
           }
          ],
          "mesh3d": [
           {
            "colorbar": {
             "outlinewidth": 0,
             "ticks": ""
            },
            "type": "mesh3d"
           }
          ],
          "parcoords": [
           {
            "line": {
             "colorbar": {
              "outlinewidth": 0,
              "ticks": ""
             }
            },
            "type": "parcoords"
           }
          ],
          "pie": [
           {
            "automargin": true,
            "type": "pie"
           }
          ],
          "scatter": [
           {
            "fillpattern": {
             "fillmode": "overlay",
             "size": 10,
             "solidity": 0.2
            },
            "type": "scatter"
           }
          ],
          "scatter3d": [
           {
            "line": {
             "colorbar": {
              "outlinewidth": 0,
              "ticks": ""
             }
            },
            "marker": {
             "colorbar": {
              "outlinewidth": 0,
              "ticks": ""
             }
            },
            "type": "scatter3d"
           }
          ],
          "scattercarpet": [
           {
            "marker": {
             "colorbar": {
              "outlinewidth": 0,
              "ticks": ""
             }
            },
            "type": "scattercarpet"
           }
          ],
          "scattergeo": [
           {
            "marker": {
             "colorbar": {
              "outlinewidth": 0,
              "ticks": ""
             }
            },
            "type": "scattergeo"
           }
          ],
          "scattergl": [
           {
            "marker": {
             "colorbar": {
              "outlinewidth": 0,
              "ticks": ""
             }
            },
            "type": "scattergl"
           }
          ],
          "scattermapbox": [
           {
            "marker": {
             "colorbar": {
              "outlinewidth": 0,
              "ticks": ""
             }
            },
            "type": "scattermapbox"
           }
          ],
          "scatterpolar": [
           {
            "marker": {
             "colorbar": {
              "outlinewidth": 0,
              "ticks": ""
             }
            },
            "type": "scatterpolar"
           }
          ],
          "scatterpolargl": [
           {
            "marker": {
             "colorbar": {
              "outlinewidth": 0,
              "ticks": ""
             }
            },
            "type": "scatterpolargl"
           }
          ],
          "scatterternary": [
           {
            "marker": {
             "colorbar": {
              "outlinewidth": 0,
              "ticks": ""
             }
            },
            "type": "scatterternary"
           }
          ],
          "surface": [
           {
            "colorbar": {
             "outlinewidth": 0,
             "ticks": ""
            },
            "colorscale": [
             [
              0,
              "#0d0887"
             ],
             [
              0.1111111111111111,
              "#46039f"
             ],
             [
              0.2222222222222222,
              "#7201a8"
             ],
             [
              0.3333333333333333,
              "#9c179e"
             ],
             [
              0.4444444444444444,
              "#bd3786"
             ],
             [
              0.5555555555555556,
              "#d8576b"
             ],
             [
              0.6666666666666666,
              "#ed7953"
             ],
             [
              0.7777777777777778,
              "#fb9f3a"
             ],
             [
              0.8888888888888888,
              "#fdca26"
             ],
             [
              1,
              "#f0f921"
             ]
            ],
            "type": "surface"
           }
          ],
          "table": [
           {
            "cells": {
             "fill": {
              "color": "#EBF0F8"
             },
             "line": {
              "color": "white"
             }
            },
            "header": {
             "fill": {
              "color": "#C8D4E3"
             },
             "line": {
              "color": "white"
             }
            },
            "type": "table"
           }
          ]
         },
         "layout": {
          "annotationdefaults": {
           "arrowcolor": "#2a3f5f",
           "arrowhead": 0,
           "arrowwidth": 1
          },
          "autotypenumbers": "strict",
          "coloraxis": {
           "colorbar": {
            "outlinewidth": 0,
            "ticks": ""
           }
          },
          "colorscale": {
           "diverging": [
            [
             0,
             "#8e0152"
            ],
            [
             0.1,
             "#c51b7d"
            ],
            [
             0.2,
             "#de77ae"
            ],
            [
             0.3,
             "#f1b6da"
            ],
            [
             0.4,
             "#fde0ef"
            ],
            [
             0.5,
             "#f7f7f7"
            ],
            [
             0.6,
             "#e6f5d0"
            ],
            [
             0.7,
             "#b8e186"
            ],
            [
             0.8,
             "#7fbc41"
            ],
            [
             0.9,
             "#4d9221"
            ],
            [
             1,
             "#276419"
            ]
           ],
           "sequential": [
            [
             0,
             "#0d0887"
            ],
            [
             0.1111111111111111,
             "#46039f"
            ],
            [
             0.2222222222222222,
             "#7201a8"
            ],
            [
             0.3333333333333333,
             "#9c179e"
            ],
            [
             0.4444444444444444,
             "#bd3786"
            ],
            [
             0.5555555555555556,
             "#d8576b"
            ],
            [
             0.6666666666666666,
             "#ed7953"
            ],
            [
             0.7777777777777778,
             "#fb9f3a"
            ],
            [
             0.8888888888888888,
             "#fdca26"
            ],
            [
             1,
             "#f0f921"
            ]
           ],
           "sequentialminus": [
            [
             0,
             "#0d0887"
            ],
            [
             0.1111111111111111,
             "#46039f"
            ],
            [
             0.2222222222222222,
             "#7201a8"
            ],
            [
             0.3333333333333333,
             "#9c179e"
            ],
            [
             0.4444444444444444,
             "#bd3786"
            ],
            [
             0.5555555555555556,
             "#d8576b"
            ],
            [
             0.6666666666666666,
             "#ed7953"
            ],
            [
             0.7777777777777778,
             "#fb9f3a"
            ],
            [
             0.8888888888888888,
             "#fdca26"
            ],
            [
             1,
             "#f0f921"
            ]
           ]
          },
          "colorway": [
           "#636efa",
           "#EF553B",
           "#00cc96",
           "#ab63fa",
           "#FFA15A",
           "#19d3f3",
           "#FF6692",
           "#B6E880",
           "#FF97FF",
           "#FECB52"
          ],
          "font": {
           "color": "#2a3f5f"
          },
          "geo": {
           "bgcolor": "white",
           "lakecolor": "white",
           "landcolor": "#E5ECF6",
           "showlakes": true,
           "showland": true,
           "subunitcolor": "white"
          },
          "hoverlabel": {
           "align": "left"
          },
          "hovermode": "closest",
          "mapbox": {
           "style": "light"
          },
          "paper_bgcolor": "white",
          "plot_bgcolor": "#E5ECF6",
          "polar": {
           "angularaxis": {
            "gridcolor": "white",
            "linecolor": "white",
            "ticks": ""
           },
           "bgcolor": "#E5ECF6",
           "radialaxis": {
            "gridcolor": "white",
            "linecolor": "white",
            "ticks": ""
           }
          },
          "scene": {
           "xaxis": {
            "backgroundcolor": "#E5ECF6",
            "gridcolor": "white",
            "gridwidth": 2,
            "linecolor": "white",
            "showbackground": true,
            "ticks": "",
            "zerolinecolor": "white"
           },
           "yaxis": {
            "backgroundcolor": "#E5ECF6",
            "gridcolor": "white",
            "gridwidth": 2,
            "linecolor": "white",
            "showbackground": true,
            "ticks": "",
            "zerolinecolor": "white"
           },
           "zaxis": {
            "backgroundcolor": "#E5ECF6",
            "gridcolor": "white",
            "gridwidth": 2,
            "linecolor": "white",
            "showbackground": true,
            "ticks": "",
            "zerolinecolor": "white"
           }
          },
          "shapedefaults": {
           "line": {
            "color": "#2a3f5f"
           }
          },
          "ternary": {
           "aaxis": {
            "gridcolor": "white",
            "linecolor": "white",
            "ticks": ""
           },
           "baxis": {
            "gridcolor": "white",
            "linecolor": "white",
            "ticks": ""
           },
           "bgcolor": "#E5ECF6",
           "caxis": {
            "gridcolor": "white",
            "linecolor": "white",
            "ticks": ""
           }
          },
          "title": {
           "x": 0.05
          },
          "xaxis": {
           "automargin": true,
           "gridcolor": "white",
           "linecolor": "white",
           "ticks": "",
           "title": {
            "standoff": 15
           },
           "zerolinecolor": "white",
           "zerolinewidth": 2
          },
          "yaxis": {
           "automargin": true,
           "gridcolor": "white",
           "linecolor": "white",
           "ticks": "",
           "title": {
            "standoff": 15
           },
           "zerolinecolor": "white",
           "zerolinewidth": 2
          }
         }
        },
        "title": {
         "text": "Turkish Music Genres 2D PCA"
        },
        "width": 1250,
        "xaxis": {
         "anchor": "y",
         "autorange": true,
         "domain": [
          0,
          1
         ],
         "range": [
          -7.621390408955976,
          15.979479484116547
         ],
         "title": {
          "text": "PC 1"
         },
         "type": "linear"
        },
        "yaxis": {
         "anchor": "x",
         "autorange": true,
         "domain": [
          0,
          1
         ],
         "range": [
          -7.245599931526564,
          9.691546779257521
         ],
         "title": {
          "text": "PC 2"
         },
         "type": "linear"
        }
       }
      },
      "image/png": "[encoded data removed]",
      "text/html": [
       "<div>                            <div id=\"2985f795-cb4c-4741-8247-0c6fed078e37\" class=\"plotly-graph-div\" style=\"height:750px; width:1250px;\"></div>            <script type=\"text/javascript\">                require([\"plotly\"], function(Plotly) {                    window.PLOTLYENV=window.PLOTLYENV || {};                                    if (document.getElementById(\"2985f795-cb4c-4741-8247-0c6fed078e37\")) {                    Plotly.newPlot(                        \"2985f795-cb4c-4741-8247-0c6fed078e37\",                        [{\"customdata\":[[\"Turkish Slow\",\"Alev Alev.wav\"],[\"Turkish Slow\",\"A\\u015fk Official Video - G\\u00f6khan T\\u00fcrkmen A\\u015fk.wav\"],[\"Turkish Slow\",\"Beni Biraz B\\u00f6yle Hat\\u0131rla.wav\"],[\"Turkish Slow\",\"Can Ko\\u00e7 - G\\u00f6ky\\u00fcz\\u00fcn\\u00fc Tutamam (Official Lyric Video).wav\"],[\"Turkish Slow\",\"Can Ozan - Sar Bu \\u015eehri.wav\"],[\"Turkish Slow\",\"Can Ozan - Toprak Ya\\u011fmura.wav\"],[\"Turkish Slow\",\"Cem Adrian  Aylin Asl\\u0131m - Herkes Gider Mi .wav\"],[\"Turkish Slow\",\"Cem Adrian  Birsen Tezer - Beni Hat\\u0131rlad\\u0131n m\\u0131 (Official Audio).wav\"],[\"Turkish Slow\",\"Cem Adrian  Ceylan Ertem - Bu Gece Uyut Beni (Official Audio).wav\"],[\"Turkish Slow\",\"Cem Adrian  Halil Sezai - Buruk.wav\"],[\"Turkish Slow\",\"Cem Adrian  Hande Mehan - Sen Benim Sark\\u0131lar\\u0131ms\\u0131n (Official Audio).wav\"],[\"Turkish Slow\",\"Cem Adrian  Mark Eliyahu - K\\u00dcL.wav\"],[\"Turkish Slow\",\"Cem Adrian  Sena \\u015eener - Yine mi Yol.wav\"],[\"Turkish Slow\",\"Cem Adrian - Bana Ne Yapt\\u0131n (Official Audio).wav\"],[\"Turkish Slow\",\"Cem Adrian - Ben Seni \\u00c7ok Sevdim (Official Audio).wav\"],[\"Turkish Slow\",\"Cem Adrian - Beni Affet Bu Gece (Official Audio).wav\"],[\"Turkish Slow\",\"Cem Adrian - Biz Senle (Official Audio).wav\"],[\"Turkish Slow\",\"Cem Adrian - Bu Sark\\u0131 Aska Yaz\\u0131ld\\u0131 (Lyric Video).wav\"],[\"Turkish Slow\",\"Cem Adrian - Ela G\\u00f6zl\\u00fcm (Official Audio).wav\"],[\"Turkish Slow\",\"Cem Adrian - Gemiler (Lyric Video).wav\"],[\"Turkish Slow\",\"Cem Adrian - G\\u00fcl (Official Video).wav\"],[\"Turkish Slow\",\"Cem Adrian - Mutlu Y\\u0131llar.wav\"],[\"Turkish Slow\",\"Cem Adrian - Sana Sar\\u0131l\\u0131nca.wav\"],[\"Turkish Slow\",\"Cem Adrian - Sen Gel Diyorsun (\\u00d6f \\u00d6f).wav\"],[\"Turkish Slow\",\"Cem \\u00d6zkan - D\\u00f6n Bana (Official Video).wav\"],[\"Turkish Slow\",\"Derya Ulu\\u011f  Sana \\u00c7\\u0131k\\u0131yor Yollar (Lyrics).wav\"],[\"Turkish Slow\",\"Edis - Vay (Her \\u015eey A\\u015fktan Film M\\u00fczi\\u011fi).wav\"],[\"Turkish Slow\",\"Emre Aydin - Son Defa.wav\"],[\"Turkish Slow\",\"emre ayd\\u0131n  \\u00c7a\\u011fan \\u015eeng\\u00fcl - Beni Anla.wav\"],[\"Turkish Slow\",\"Emre Ayd\\u0131n - Ho\\u015f\\u00e7akal.wav\"],[\"Turkish Slow\",\"Fikri Karayel - Trenler (Official Audio).wav\"],[\"Turkish Slow\",\"G\\u00f6khan K\\u0131rdar Yerine Sevemem 1994 (Official Audio) G\\u00f6khanK\\u0131rdar YerineSevemem.wav\"],[\"Turkish Slow\",\"G\\u00f6ksel - Sen Orda Yoksun (Official Video).wav\"],[\"Turkish Slow\",\"G\\u00f6ksel - Yaln\\u0131z Ku\\u015f (Official Video).wav\"],[\"Turkish Slow\",\"G\\u00fcncel G\\u00fcrsel Art\\u0131ktay - Bu Y\\u00fczden.wav\"],[\"Turkish Slow\",\"Hande Mehan - Sen Beni G\\u00fczel Hat\\u0131rla (Official Audio).wav\"],[\"Turkish Slow\",\"K\\u0130B\\u0130R.wav\"],[\"Turkish Slow\",\"Melike Sahin - Geri Ver.wav\"],[\"Turkish Slow\",\"Melike \\u015eahin - Deli Kan.wav\"],[\"Turkish Slow\",\"mor ve \\u00f6tesi - K\\u00fc\\u00e7\\u00fck Sevgilim (Official Video).wav\"],[\"Turkish Slow\",\"M\\u00fcsl\\u00fcm G\\u00fcrses - Affet.wav\"],[\"Turkish Slow\",\"M\\u00fcsl\\u00fcm G\\u00fcrses - Nil\\u00fcfer.wav\"],[\"Turkish Slow\",\"M\\u00fcsl\\u00fcm G\\u00fcrses - Sensiz Olmaz  Official Music Video  2004 Kalan M\\u00fczik .wav\"],[\"Turkish Slow\",\"Nev - Zor.wav\"],[\"Turkish Slow\",\"Nilipek. - G\\u00f6m\\u00fcl\\u00fcr.wav\"],[\"Turkish Slow\",\"Onur Can \\u00d6zcan - H\\u0131rka.wav\"],[\"Turkish Slow\",\"Perdenin Ard\\u0131ndakiler - Ankarayla Bozu\\u015furuz.wav\"],[\"Turkish Slow\",\"Perdenin Ard\\u0131ndakiler - Beni Kendinden Kurtar.wav\"],[\"Turkish Slow\",\"Perdenin Ard\\u0131ndakiler - Kalbinde Birileri Var.wav\"],[\"Turkish Slow\",\"Perdenin Ard\\u0131ndakiler - Kendime.wav\"],[\"Turkish Slow\",\"Pilli Bebek - K\\u0131z\\u0131m.wav\"],[\"Turkish Slow\",\"Pinhani - Sen Olmay\\u0131nca.wav\"],[\"Turkish Slow\",\"Pinhani ft. Kalben - Iyi Degilim Ben (Yollar Bizi Bekler - 2019).wav\"],[\"Turkish Slow\",\"Redd - Beni Sevdi Benden \\u00c7ok.wav\"],[\"Turkish Slow\",\"Redd - Nefes Bile Almadan (A\\u015fk Tesad\\u00fcfleri Sever ).wav\"],[\"Turkish Slow\",\"Sebnem Ferah - Yagmurlar.wav\"],[\"Turkish Slow\",\"Sena Sener - Kapkaranl\\u0131k Her Gunum.wav\"],[\"Turkish Slow\",\"Sena \\u015eener - Bak Bana.wav\"],[\"Turkish Slow\",\"Sena \\u015eener - Dostum De\\u011fil Uykular.wav\"],[\"Turkish Slow\",\"Sena \\u015eener - Her An Gidebilirim.wav\"],[\"Turkish Slow\",\"Sena \\u015eener - Sevmemeliyiz.wav\"],[\"Turkish Slow\",\"Sertab Erener - Bir \\u00c7aresi Bulunur.wav\"],[\"Turkish Slow\",\"Sertab Erener - Karbeyaz.wav\"],[\"Turkish Slow\",\"Sertab Erener - Olsun.wav\"],[\"Turkish Slow\",\"Sertab Erener - R\\u00fcya (Official Audio).wav\"],[\"Turkish Slow\",\"Sertab Erener - Soz Bitti (Album Version).wav\"],[\"Turkish Slow\",\"Sertab Erener - Vur Y\\u00fcre\\u011fim - Sertab Erener.wav\"],[\"Turkish Slow\",\"Sezen Aksu - Ben De Yoluma Giderim (Official Video).wav\"],[\"Turkish Slow\",\"Sezen Aksu - Ben \\u00d6yle Birini Sevdim Ki (Delibal Soundtrack).wav\"],[\"Turkish Slow\",\"Sezen Aksu - Kur\\u015funi Renkler  (Lyrics  \\u015eark\\u0131 S\\u00f6zleri).wav\"],[\"Turkish Slow\",\"Sufle  Canozan - Hi\\u00e7 Kimsenin G\\u00fcnah\\u0131 Yok (Official Video).wav\"],[\"Turkish Slow\",\"Sufle - \\u0130\\u00e7inde A\\u015fk Var (Official Audio).wav\"],[\"Turkish Slow\",\"Teoman - \\u00c7oban Y\\u0131ld\\u0131z\\u0131 (Official Video).wav\"],[\"Turkish Slow\",\"Toygar I\\u015f\\u0131kl\\u0131 - Ben Hayat\\u0131n Ma\\u011flubuyum (JoyTurk Akustik).wav\"],[\"Turkish Slow\",\"Toygar I\\u015f\\u0131kl\\u0131 - Hayat Gibi ( Official Video ).wav\"],[\"Turkish Slow\",\"Toygar I\\u015f\\u0131kl\\u0131 - Korkuyorum.wav\"],[\"Turkish Slow\",\"Ufuk Beydemir - H\\u0130\\u00c7.wav\"],[\"Turkish Slow\",\"Yaln\\u0131z\\u0131m.wav\"],[\"Turkish Slow\",\"Yaralar\\u0131n\\u0131 Ben Saray\\u0131m.wav\"],[\"Turkish Slow\",\"Yuksek Sadakat - Doneceksin Diye Soz Ver.wav\"]],\"hovertemplate\":\"genre_label=%{customdata[0]}<br>PC 1=%{x}<br>PC 2=%{y}<br>file_name=%{customdata[1]}<extra></extra>\",\"legendgroup\":\"Turkish Slow\",\"marker\":{\"color\":\"#636efa\",\"symbol\":\"circle\"},\"mode\":\"markers\",\"name\":\"Turkish Slow\",\"orientation\":\"v\",\"showlegend\":true,\"x\":[2.5194663810160955,-1.0539826153589609,7.181513789516299,-1.1576124821543976,3.795337569702886,4.5811822283223,5.048573649611763,5.557910542822808,3.2455010693426902,5.115014246732319,5.534093900699858,6.064567329727415,4.228437527669312,5.559600951289409,4.136996757240414,3.860165769798885,7.033556655469601,7.281176968695216,6.816331915046555,5.04469385854355,6.024433655354802,8.98072086342153,3.6476202118700063,7.177018814266923,3.5589194886743196,6.868135030699938,3.9098384573969858,3.9020292684394606,-0.17477206013381447,4.76278596738466,6.135344477268401,3.214150721194675,1.501982315253828,4.08633290481683,2.869626198226246,3.0581017132538024,-1.0371658225585625,2.6088488664881324,7.008784284275433,4.120520737299022,4.628831883295401,5.444723717302797,4.487291880477469,3.060180959142749,6.093595227266691,3.9691283327803526,3.406504746664375,0.9665305395278965,4.284032520726036,5.131407994010374,0.3539738605522367,5.917855646704344,1.0581249624705684,3.5031613755855964,5.4267522108883455,0.8038810280101157,4.07434571486554,5.842551436213519,9.09622539426432,0.801308277600964,8.146907195619482,3.177057648414836,2.2867611538352492,6.398170837369425,5.690976954136579,9.64092194039723,4.9619350136883495,3.5775121760256,2.605133602351836,6.244169497870815,2.82213300273671,3.501080010384395,6.196284557046832,5.046215496387286,5.427496526690241,-1.08840577244987,-0.7529625169246487,7.85903105274109,2.0613157271034224,1.6057434999612277],\"xaxis\":\"x\",\"y\":[-3.0126203139818206,-3.5913355789970764,-1.2898549631964402,-2.2714578600614663,-4.673184885840701,-4.744293525854878,-2.734465545573008,-3.5117367973663343,-1.6573195414462536,0.7980119033073333,-0.14592688922564037,-1.3115606217023366,-2.2082550380014396,-2.297219260616211,-0.7226278438751669,0.1772427791505196,3.3345473971067294,-0.24283388052847535,-0.1736047558088794,-2.0848531819528273,-0.27957729651174335,3.1432606956522964,-1.8590045461502147,-1.5741416587906967,-6.009725561580333,0.015609242444010392,-2.921648197791816,-3.7593942055246847,-1.6427750856333703,-3.298894514626723,-3.936410794666579,-2.8092568186989544,1.1690850060666769,-0.054292504686641964,-3.8105215202952833,-2.687814642652187,-2.821997714034308,1.2348505769413136,2.2635832531028592,-2.080711599126283,-3.9128761915119283,-3.07529743925995,-2.8189324946034207,-0.0008490665728987179,-4.2626663152740845,-2.9578929684316306,-5.917687002131393,-1.724848017235279,-4.2820781275422135,-6.294620792437457,-2.2575784712832623,-3.1217111456188693,-1.5039169390375087,-4.326397309004466,-0.616825157191713,2.7468359975026186,-4.808115347761903,-2.0493274800125127,-1.241043467386217,1.4074995599139541,1.0246471154743302,0.5929052041124415,-1.5263844359438394,-1.4344726290631789,-0.886414410543083,3.2723363972892443,-3.1711506053430547,1.0254167032907913,-0.9652543549025985,-2.2968377384575818,-4.150191793420118,-1.4163077446940593,-3.2131737513286605,-1.011360169021135,-0.23485905492249842,-1.8446906459069825,-0.8529479878741392,-1.2216948236380698,-1.732634425295043,-2.7226518314935344],\"yaxis\":\"y\",\"type\":\"scatter\"},{\"customdata\":[[\"Turkish Rap\",\"90BPM - Elimde Yalanlarla (feat. Ezhel) (Official Audio).wav\"],[\"Turkish Rap\",\"Anti-Kahraman - Kaybedenler (Enstr\\u00fcmantal).wav\"],[\"Turkish Rap\",\"Araftafaray.wav\"],[\"Turkish Rap\",\"A\\u011fa\\u00e7kakan - Entropi  Official Music Video.wav\"],[\"Turkish Rap\",\"Ben Fero  Gringo - 50 Kilo (Prod.Goldfinger x Yung Swisher).wav\"],[\"Turkish Rap\",\"Cartel - Bir Oluruz (Official Video).wav\"],[\"Turkish Rap\",\"Cartel - \\u00c7ek Bir Firt.wav\"],[\"Turkish Rap\",\"CEZA - Holocaust (Official Audio).wav\"],[\"Turkish Rap\",\"CEZA - Med Cezir (Official Audio).wav\"],[\"Turkish Rap\",\"Ceza - Suspus (Official Music Video).wav\"],[\"Turkish Rap\",\"CEZA - Yerli Plaka (Official Audio).wav\"],[\"Turkish Rap\",\"Contra  An\\u0131l Piyanc\\u0131 - Tav\\u015fan.wav\"],[\"Turkish Rap\",\"Contra - Kibir.wav\"],[\"Turkish Rap\",\"Contra - k\\u0131v\\u0131lc\\u0131m.wav\"],[\"Turkish Rap\",\"Contra - Tehlikeli (Official Video).wav\"],[\"Turkish Rap\",\"Contra - Tehlikeli (Official Video)2.wav\"],[\"Turkish Rap\",\"Contra - \\u00d6l\\u00fc.wav\"],[\"Turkish Rap\",\"Ezhel - Bul Beni.wav\"],[\"Turkish Rap\",\"Ezhel - Felaket (Official Audio).wav\"],[\"Turkish Rap\",\"Ezhel - Geceler (Official Video) 2018.wav\"],[\"Turkish Rap\",\"Ezhel - LOLO.wav\"],[\"Turkish Rap\",\"Ezhel - \\u015eehrimin  Tad\\u0131.wav\"],[\"Turkish Rap\",\"Ezhel - \\u015eehrimin  Tad\\u01312.wav\"],[\"Turkish Rap\",\"Farazi V Kayra - Belana Ko\\u015far Ad\\u0131m.wav\"],[\"Turkish Rap\",\"Farazi V Kayra - Emekli Kahvesi (Official Audio).wav\"],[\"Turkish Rap\",\"Farazi V Kayra - Mevsim Olmayan Mekanlar V Unutulanlar feat. Kara\\u00e7al\\u0131 Vinyl Obscura.wav\"],[\"Turkish Rap\",\"Fuat - Ekinoks (Official Video).wav\"],[\"Turkish Rap\",\"Gece Hikayeleri.wav\"],[\"Turkish Rap\",\"Kayra  Sorgu - Ne Hale Geldi (Produced by Beatific Vision).wav\"],[\"Turkish Rap\",\"Khontkar - Geldi\\u011fim Yer (Geldi\\u011fim Yer Soundtrack).wav\"],[\"Turkish Rap\",\"Killa Hakan - Fight Kul\\u00fcp 2 ft. Massaka Ceza Summer Cem Contra Khontkar An\\u0131l Piyanc\\u0131.wav\"],[\"Turkish Rap\",\"KOKVL  Lil Zey - Otede Dur (Music Video).wav\"],[\"Turkish Rap\",\"Lil Zey - 1 gr eksik (Music Video).wav\"],[\"Turkish Rap\",\"Lil Zey - Peygamber Sabr\\u0131 feat. GOKO.wav\"],[\"Turkish Rap\",\"Lil Zey - Vuslat.wav\"],[\"Turkish Rap\",\"Lil Zey - Zor  Zor II (Music Video).wav\"],[\"Turkish Rap\",\"LUCIANO feat LIL ZEY - ELMAS.wav\"],[\"Turkish Rap\",\"Ozbi - Anlamad\\u0131n M\\u0131 (Rak\\u0131l\\u0131 Live 3.Seri).wav\"],[\"Turkish Rap\",\"Ozbi Feat. G\\u00fclce Duru  Olmazlara Yand\\u0131m  ( RAKILI LIVE ).wav\"],[\"Turkish Rap\",\"Sansar  Salvo - Ne (Official Video).wav\"],[\"Turkish Rap\",\"Sansar  Salvo - Ne (Official Video)2.wav\"],[\"Turkish Rap\",\"Sansar Salvo  Ezhel  An\\u0131l Piyanc\\u0131 - Kafan\\u0131 Bo\\u015falt (Street Cypher).wav\"],[\"Turkish Rap\",\"Sansar Salvo  Ezhel  An\\u0131l Piyanc\\u0131 - Kafan\\u0131 Bo\\u015falt (Street Cypher)2.wav\"],[\"Turkish Rap\",\"Sansar Salvo - Ne Kadar Umrumda (Official Video).wav\"],[\"Turkish Rap\",\"Sansar salvo feat Dr.Fuch - \\u00d6ld\\u00fc Sanma.wav\"],[\"Turkish Rap\",\"San\\u0131ser - Gel (Official Video).wav\"],[\"Turkish Rap\",\"XIR - Ne Sand\\u0131n (Official Video).wav\"],[\"Turkish Rap\",\"Ya\\u011fmurlar - An\\u0131l Piyanc\\u0131  Perdenin Ard\\u0131ndakiler.wav\"],[\"Turkish Rap\",\"\\u0130zahat (feat. Eypio).wav\"],[\"Turkish Rap\",\"\\u015ean\\u0131\\u015fer - 9 Y\\u0131l \\u00d6ncesine Mektup (Official Music Video).wav\"],[\"Turkish Rap\",\"\\u015ean\\u0131\\u015fer Live Sessions - Yanl\\u0131\\u015flara Gidiyorum.wav\"]],\"hovertemplate\":\"genre_label=%{customdata[0]}<br>PC 1=%{x}<br>PC 2=%{y}<br>file_name=%{customdata[1]}<extra></extra>\",\"legendgroup\":\"Turkish Rap\",\"marker\":{\"color\":\"#EF553B\",\"symbol\":\"circle\"},\"mode\":\"markers\",\"name\":\"Turkish Rap\",\"orientation\":\"v\",\"showlegend\":true,\"x\":[-1.6425579531824708,-2.903870829855765,3.5028082817559727,2.2628921171367713,3.743882212177938,-2.8824928532269722,-1.3867748396855266,5.753920791524183,-0.8393721442231139,-2.047932342809472,0.1872191613247822,-0.27281169754217,4.862908527039928,4.084309817238609,9.565150791747486,-1.1136219333063666,3.2660901638557753,1.2625181993050718,4.634471836945577,6.885289190908039,9.153370566390329,10.216486584315557,10.587496240653763,9.23762932880903,-3.0944054981048685,-2.982587510280883,6.105604406823791,1.8845569845378958,-0.6406521209042282,7.35757495164609,0.29601231797778876,14.712240657345658,3.760069832952106,1.1458784277926313,6.129596879258218,1.2266934811407981,10.40505833583256,-0.7554067527835356,-0.6685495654721766,6.091284181503883,1.0824524144678547,2.196604029218319,2.828655876384311,6.964322380124069,2.90126724443368,-0.7624215568544638,4.710289562763812,-3.260371315452374,-1.6000162622009333,-0.019934402733467346,-2.190543251570491],\"xaxis\":\"x\",\"y\":[0.04362724923090719,0.4165344851082186,3.2676708866043263,1.9340329838454475,3.4404906577151904,-0.019695233497821756,-0.936248871736548,5.435141406460337,-0.6250947565776109,1.861218776063607,1.4140685265043411,0.26998461305964566,2.8782839937353306,3.3283649351445033,8.46039314860825,-0.4118570580549282,1.5907506054378844,1.9409789162191595,3.3021180147868936,3.0643135300920394,5.653204841964225,0.38268522419773354,-1.325409217664861,-1.6135848542523645,0.5729272484828014,-0.27102761849695195,4.38146360055981,1.4433091124300754,0.44372796458080493,1.3815435920805217,0.6852346106046818,8.551496728247198,-1.9833258570546957,4.505781604210404,7.723992218062003,2.9811081102235923,8.740567640168415,1.222547474743626,1.0384673669093514,-1.822138220818835,1.8112518077666968,1.6305504533161699,2.57457942110201,2.916470288155062,2.207705775065732,3.6885015677528923,3.7338209856039564,1.55469894243871,2.242093394413427,2.7805103026029867,-1.4271401014836118],\"yaxis\":\"y\",\"type\":\"scatter\"},{\"customdata\":[[\"Turkish Pop\",\"Ajda Pekkan feat. Ozan \\u00c7olako\\u011flu - Ara S\\u0131cak.wav\"],[\"Turkish Pop\",\"Aleyna Tilki - Sen Olsan Bari.wav\"],[\"Turkish Pop\",\"Alper Atakan  Hande \\u00dcnsal - Ah Anlatsam.wav\"],[\"Turkish Pop\",\"Alper Atakan  \\u0130rem Derici - Affeder mi A\\u015fk Bizi.wav\"],[\"Turkish Pop\",\"Aynur Ayd\\u0131n feat. Tura\\u00e7 Berkay - Bana A\\u015fk Ver.wav\"],[\"Turkish Pop\",\"Ay\\u015fe Hatun \\u00d6nal - Katakulli.wav\"],[\"Turkish Pop\",\"Beng\\u00fc - A\\u015fk\\u0131m (Official Video).wav\"],[\"Turkish Pop\",\"Beng\\u00fc - Feveran.wav\"],[\"Turkish Pop\",\"Beng\\u00fc - Kocaman \\u00d6p\\u00fcyorum.wav\"],[\"Turkish Pop\",\"Beng\\u00fc - Kuzum.wav\"],[\"Turkish Pop\",\"Beng\\u00fc - S\\u0131\\u011fam\\u0131yorum.wav\"],[\"Turkish Pop\",\"Buray - Ask Yeniden (Yeni T\\u00fcrk\\u00fc Zamans\\u0131z).wav\"],[\"Turkish Pop\",\"Cem Belevi - Al\\u0131\\u015fam\\u0131yorum.wav\"],[\"Turkish Pop\",\"Cem Belevi - Melekti Sanki.wav\"],[\"Turkish Pop\",\"Demet Akal\\u0131n  - Olacak Olacak.wav\"],[\"Turkish Pop\",\"Demet Akal\\u0131n  - \\u00c7anta.wav\"],[\"Turkish Pop\",\"Demet Akal\\u0131n - Afedersin.wav\"],[\"Turkish Pop\",\"Demet Akal\\u0131n - Bensiz Olsun.wav\"],[\"Turkish Pop\",\"Demet Akal\\u0131n - Bi Daha Bi Daha.wav\"],[\"Turkish Pop\",\"Demet Akal\\u0131n - Giderli \\u015eark\\u0131lar.wav\"],[\"Turkish Pop\",\"Demet Akal\\u0131n - Mucize.wav\"],[\"Turkish Pop\",\"Demet Akal\\u0131n - Nazar.wav\"],[\"Turkish Pop\",\"Demet Akal\\u0131n - P\\u0131rlanta.wav\"],[\"Turkish Pop\",\"Demet Akal\\u0131n - \\u0130lahi Adalet.wav\"],[\"Turkish Pop\",\"Derya Ulu\\u011f - Hadi \\u00c7al.wav\"],[\"Turkish Pop\",\"Derya Ulu\\u011f - Kanunlar Gibi.wav\"],[\"Turkish Pop\",\"Ece Mumay - Peri.wav\"],[\"Turkish Pop\",\"Ece Mumay - Vanilya.wav\"],[\"Turkish Pop\",\"Ece Se\\u00e7kin - Yast\\u0131k.wav\"],[\"Turkish Pop\",\"Edis - Ar\\u0131yorum (Official Video).wav\"],[\"Turkish Pop\",\"Edis - Dudak (Official Video).wav\"],[\"Turkish Pop\",\"Edis - Mart\\u0131lar (Official Video).wav\"],[\"Turkish Pop\",\"Eline D\\u00fc\\u015ft\\u00fcm.wav\"],[\"Turkish Pop\",\"Emrah Karaduman feat. Murat Dalk\\u0131l\\u0131\\u00e7 - K\\u0131rk Y\\u0131lda Bir Gibisin.wav\"],[\"Turkish Pop\",\"Emre Kaya - Esaret.wav\"],[\"Turkish Pop\",\"Erdem K\\u0131nay  Ft. Merve \\u00d6zbey - Helal Ettim ( Official Video ).wav\"],[\"Turkish Pop\",\"Erdem K\\u0131nay feat. Demet Akal\\u0131n - Rota.wav\"],[\"Turkish Pop\",\"Eypio  Arem Ozguc  Arman Aydin - Yan.wav\"],[\"Turkish Pop\",\"Gulsen - Bir F\\u0131rt Cek.wav\"],[\"Turkish Pop\",\"G\\u00fcl\\u015fen  Edis - Nirvana.wav\"],[\"Turkish Pop\",\"G\\u00fcl\\u015fen - Ac\\u0131s\\u0131 Bile Bal (Beni Durdursan M\\u0131) (08).wav\"],[\"Turkish Pop\",\"G\\u00fcl\\u015fen - B\\u00fcy\\u00fck Hat\\u0131r\\u0131n Var (feat. Ozan \\u00c7olako\\u011flu).wav\"],[\"Turkish Pop\",\"G\\u00fcl\\u015fen - Irgalamaz Beni.wav\"],[\"Turkish Pop\",\"G\\u00fcl\\u015fen - Sakland\\u0131m \\u0130zlerinde (Beni Durdursan M\\u0131) (03).wav\"],[\"Turkish Pop\",\"G\\u00fcl\\u015fen - Yatcaz Kalkcaz Orday\\u0131m.wav\"],[\"Turkish Pop\",\"G\\u00fcl\\u015fen - Yurtta A\\u015fk Cihanda A\\u015fk.wav\"],[\"Turkish Pop\",\"G\\u00fcl\\u015fen feat. Murat Boz - \\u0130ltimas.wav\"],[\"Turkish Pop\",\"Hadise - Hay Hay.wav\"],[\"Turkish Pop\",\"Hadise - Mesaj\\u0131m\\u0131 Alm\\u0131\\u015ft\\u0131r O.wav\"],[\"Turkish Pop\",\"Hadise - Superman.wav\"],[\"Turkish Pop\",\"Hadise - S\\u0131f\\u0131r Tolerans.wav\"],[\"Turkish Pop\",\"Hande Yener - Beni Sev - (Official Video).wav\"],[\"Turkish Pop\",\"Hande Yener - K\\u0131rm\\u0131z\\u0131.wav\"],[\"Turkish Pop\",\"Hande Yener - Naber ( Official Video ).wav\"],[\"Turkish Pop\",\"Hande Yener - Sahte (Official Video).wav\"],[\"Turkish Pop\",\"Hande \\u00dcnsal - Seni Sever miydim.wav\"],[\"Turkish Pop\",\"Irmak Ar\\u0131c\\u0131 - As\\u0131k Surat\\u0131m.wav\"],[\"Turkish Pop\",\"Kurtulu\\u015f Ku\\u015f  Burak Bulut - Baba Yak.wav\"],[\"Turkish Pop\",\"Kurtulu\\u015f Ku\\u015f  Burak Bulut - Hasat.wav\"],[\"Turkish Pop\",\"Melek Mosso - Hayat\\u0131m Kaym\\u0131\\u015f.wav\"],[\"Turkish Pop\",\"Merve \\u00d6zbey - Kendine D\\u00fcnya ( Official Video ).wav\"],[\"Turkish Pop\",\"MERVE \\u00d6ZBEY - TOPSUZ T\\u00dcFEKS\\u0130Z (Official Video).wav\"],[\"Turkish Pop\",\"MERVE \\u00d6ZBEY - YA\\u015e H\\u0130KAYES\\u0130 (Official Video).wav\"],[\"Turkish Pop\",\"Merve \\u00d6zbey - Yerle Yeksan.wav\"],[\"Turkish Pop\",\"Murat Boz - Ad\\u0131n\\u0131 Bilen Yazs\\u0131n.wav\"],[\"Turkish Pop\",\"Murat Boz - Hayat \\u00d6p\\u00fcc\\u00fc\\u011f\\u00fc (Official Video).wav\"],[\"Turkish Pop\",\"Murat Boz - Janti.wav\"],[\"Turkish Pop\",\"Murat Boz - Vazge\\u00e7mem.wav\"],[\"Turkish Pop\",\"Murat Dalk\\u0131l\\u0131\\u00e7 - Son Liman - (Official Video).wav\"],[\"Turkish Pop\",\"Murat Dalk\\u0131l\\u0131\\u00e7 feat. Boygar - Leyla.wav\"],[\"Turkish Pop\",\"Mustafa Ceceli  Nigar Muharrem- Sal\\u0131ncak.wav\"],[\"Turkish Pop\",\"Mustafa Ceceli - \\u0130lle De A\\u015fk.wav\"],[\"Turkish Pop\",\"Mustafa Sandal - Tesir Alt\\u0131nda.wav\"],[\"Turkish Pop\",\"Ozan Do\\u011fulu feat. Demet Akal\\u0131n - Kul\\u00fcp.wav\"],[\"Turkish Pop\",\"Ozan Do\\u011fulu feat. G\\u00fclden  Bahad\\u0131r Tatl\\u0131\\u00f6z - Uzun Laf\\u0131n K\\u0131sas\\u0131.wav\"],[\"Turkish Pop\",\"Ozan \\u00c7olako\\u011flu feat G\\u00fcl\\u015fen - Seyre Dursun A\\u015fk.wav\"],[\"Turkish Pop\",\"O\\u011fuzhan Ko\\u00e7 Arem Ozguc Arman Aydin - Yoksa Yasak (Official Video).wav\"],[\"Turkish Pop\",\"Reynmen ft. Zeynep Bast\\u0131k - Yalan ( Official Video ).wav\"],[\"Turkish Pop\",\"Serdar Orta\\u00e7 - Gitme.wav\"],[\"Turkish Pop\",\"Serdar Orta\\u00e7 - G\\u0131ybet.wav\"],[\"Turkish Pop\",\"Simge - Mi\\u015f Mi\\u015f.wav\"],[\"Turkish Pop\",\"Simge - \\u00d6p\\u00fccem.wav\"],[\"Turkish Pop\",\"Sinan Ak\\u00e7\\u0131l - Tabi Tabi.wav\"],[\"Turkish Pop\",\"TAN TA\\u015e\\u00c7I - HATA ( OFFICIAL AUDIO ).wav\"],[\"Turkish Pop\",\"TARKAN  Ge\\u00e7\\u00e7ek.wav\"],[\"Turkish Pop\",\"TARKAN - Sevdan\\u0131n Son Vuru\\u015fu (Official Audio).wav\"],[\"Turkish Pop\",\"TARKAN - \\u00d6p.wav\"],[\"Turkish Pop\",\"TARKAN feat. OZAN \\u00c7OLAKO\\u011eLU - A\\u015fk Gitti Bizden (Official Video  Lyrics).wav\"],[\"Turkish Pop\",\"Tu\\u011fba Yurt - Yas.wav\"],[\"Turkish Pop\",\"Tu\\u011fba Yurt - \\u0130nceden \\u0130nceden.wav\"],[\"Turkish Pop\",\"Yal\\u0131n - Yaz G\\u00fcl\\u00fc a\\u015fkli\\u015felerig\\u00fcla\\u015fka.wav\"],[\"Turkish Pop\",\"Zeynep Bast\\u0131k - Her Mevsim Yaz\\u0131m (Official Video).wav\"],[\"Turkish Pop\",\"Zeynep Bast\\u0131k - Marlon Brando (Official Video).wav\"],[\"Turkish Pop\",\"Zeynep Dizdar - Sana G\\u00fcvenmiyorum.wav\"],[\"Turkish Pop\",\"Ziynet Sali - Deli Divanenim.wav\"],[\"Turkish Pop\",\"Ziynet Sali - Efkar\\u0131m Var.wav\"],[\"Turkish Pop\",\"Ziynet Sali - Kalbim Tatilde.wav\"],[\"Turkish Pop\",\"\\u00c7a\\u011fla - Saz m\\u0131 Caz m\\u0131.wav\"],[\"Turkish Pop\",\"\\u0130ndir.wav\"]],\"hovertemplate\":\"genre_label=%{customdata[0]}<br>PC 1=%{x}<br>PC 2=%{y}<br>file_name=%{customdata[1]}<extra></extra>\",\"legendgroup\":\"Turkish Pop\",\"marker\":{\"color\":\"#00cc96\",\"symbol\":\"circle\"},\"mode\":\"markers\",\"name\":\"Turkish Pop\",\"orientation\":\"v\",\"showlegend\":true,\"x\":[-5.9339047419491875,-1.0877004356326443,-1.400638508805568,0.1361274497351795,-4.907956344794565,-1.8872936922559491,-3.2760319020187256,-3.45681334458581,-2.642714529526889,-3.1062593028249115,-2.3227462117656015,-0.8095135163422336,-4.3881525370966505,-2.4686951178441823,-4.563753406730269,-2.2548331931507253,-1.6883939821202685,-2.6570786392285632,-2.154796247740362,-3.9791552237967265,-2.5504639523113743,-4.070811736105803,-2.1670511434622544,-4.967355792159537,-2.842219016588702,-1.1610573717693617,0.17588499253414686,-2.84360485644215,0.6988569273863882,-2.2935806036604944,-3.9855420340122643,0.4069193813787106,-2.7819265487844174,-1.6753748806708206,-4.40163260094499,-3.1476146729105188,-3.7255358323895695,-0.5292409093551818,-4.581729684315491,-4.417949052435878,-4.308394155900933,-5.351470409040441,-4.6390476123626465,-4.2958385945226185,-3.908428030781688,-3.208023807262409,-3.930110250988054,-1.437855884239646,-4.216596568627038,-2.643614134935461,-1.843646710475376,-4.605712251936082,-2.081383399833094,-0.8107350632651353,3.8121282439088864,-3.5680406078358127,-1.7759206953519728,-1.7709876688665485,-2.741935858693062,-2.7835782560464293,-1.03215028545774,-3.9378032708909,-4.898002400311016,-1.5221666669667873,-2.759583738190707,-1.8401789145272471,-4.706045125113303,-5.974993992877931,-2.8743492671324335,-3.51359182062765,-1.0396729036238377,-4.431411751696684,-4.531178524957534,-4.923871798173882,-3.4339908847208767,-4.55995326134506,-1.2284843835314985,-3.9764429443135714,-2.5246113802583423,-2.615587097114507,-2.8913299649923774,-3.335876691116973,-2.196011143268792,-3.9153601364668473,-1.3478952490985883,-6.315505860413789,-2.9353062320406913,-4.357500372757489,-1.7600086750667354,-4.193266476105693,-1.7551022590214207,-0.17042972816719282,0.35778717980161834,-1.739295289995498,-3.211687284294917,-3.333221037593171,0.31637676523498337,-3.8070540449890014,-2.6050149977628507],\"xaxis\":\"x\",\"y\":[3.0616154824565838,2.1148212810518676,0.7633352566370133,1.5350497852860443,2.837559257374699,1.538753845275315,1.252520250259795,6.03829516771304,3.2410264674692653,0.6074865392010631,3.259976671630383,1.0198535030659686,1.2250680153842135,-0.8519463113141411,4.440402518860852,3.0306738759451726,3.837392761810764,2.882023387543235,1.5185120624409416,1.397531350716946,0.3879838680975661,4.605568627959236,4.562438480436383,4.795996723464286,4.596496577341812,4.0321843666266854,3.2720668431257964,2.4166558908501257,2.8812136472118413,-0.06724109928983686,1.5016445799467366,1.7431752273303076,-0.24611552095513523,1.1223639778841066,1.3365409925087355,3.428810264033666,1.2437202632500783,2.247908401837308,2.517217649660307,1.6216635590725097,1.8078803514662403,1.4371030469593813,3.1446896628566696,3.1534027863619443,3.4090109370482935,1.923029743765388,2.229214040720835,0.546131613788202,3.821265981739561,1.3063868123550342,3.939846914082992,0.14184730041017557,1.6236795279962155,0.38890295984738665,2.178077090342504,2.762325345525182,1.9588741632087754,2.7712262927752382,1.3307477668606174,1.1712800985771694,4.58143372714797,4.300731758901434,3.0337001487363313,5.671821738968741,0.5730961655365395,-2.574076433197956,2.21828910923724,-0.14707370173515288,1.4466600232479514,-0.6439022174967558,2.244868648142716,-0.7607329524722891,-0.31807092072788795,2.664892685485462,1.1265673373667753,2.0879458157191317,1.695247598388078,4.827648734944235,1.1771528148456971,2.070304317778545,1.627081751941416,1.43505270895462,1.5368563580323709,2.222597352750131,0.7411811648996244,0.9101350256163537,0.006517069065056434,0.04350287049510387,5.413395571664555,3.604656658298859,1.209788932855121,0.6651172132127563,2.200633967698268,0.3136787565860348,1.9608586373910868,2.2079879909993387,3.184354607828106,3.0355051791518237,-0.5812173906012812],\"yaxis\":\"y\",\"type\":\"scatter\"},{\"customdata\":[[\"Turkish Rock\",\"Adamlar - Ac\\u0131n\\u0131n \\u0130lac\\u0131 (Official Audio).wav\"],[\"Turkish Rock\",\"Adamlar - Benden Bana.wav\"],[\"Turkish Rock\",\"Adamlar - R\\u00fcyalarda Buru\\u015fmu\\u015fum (Official Audio).wav\"],[\"Turkish Rock\",\"Adamlar - Yanm\\u0131\\u015f \\u0130\\u00e7inden (Official Audio).wav\"],[\"Turkish Rock\",\"Athena - Ars\\u0131z G\\u00f6n\\u00fcl (GQ Men of the Year 2016).wav\"],[\"Turkish Rock\",\"Athena - Kafama G\\u00f6re.wav\"],[\"Turkish Rock\",\"Athena - Kime Ne.wav\"],[\"Turkish Rock\",\"Athena - Serseri May\\u0131n.wav\"],[\"Turkish Rock\",\"Aylin Asl\\u0131m - Ben Kalender Me\\u015frebim.wav\"],[\"Turkish Rock\",\"A\\u015fktan \\u00d6te.wav\"],[\"Turkish Rock\",\"Bar\\u0131\\u015f Akarsu - Islak Islak.wav\"],[\"Turkish Rock\",\"Bir Kad\\u0131n \\u00c7izeceksin.wav\"],[\"Turkish Rock\",\"Bir \\u015eey Yapmal\\u0131 (Mo\\u011follar).wav\"],[\"Turkish Rock\",\"Bir.wav\"],[\"Turkish Rock\",\"B\\u00fcy\\u00fck Ev Ablukada - HEPS\\u0130NE NE FENA.wav\"],[\"Turkish Rock\",\"Can Bonomo - Meczup.wav\"],[\"Turkish Rock\",\"Demir Demirkan - A\\u015fktan \\u00d6te (akustik).wav\"],[\"Turkish Rock\",\"Demir Demirkan - Zaferlerim (2004 Istanbul).wav\"],[\"Turkish Rock\",\"Dolu Kadehi Ters Tut - Gitme (feat. Sedef Seb\\u00fcktekin) (Official Audio).wav\"],[\"Turkish Rock\",\"Duman - Dibine Kadar.wav\"],[\"Turkish Rock\",\"En G\\u00fczel Yerinde Evin.wav\"],[\"Turkish Rock\",\"Feridun Duzagac - Bi\\u00e7are (Official Video).wav\"],[\"Turkish Rock\",\"GECE - Ben Oldum.wav\"],[\"Turkish Rock\",\"GECE - Gamsiz.wav\"],[\"Turkish Rock\",\"GECE - G\\u00f6nder Gelsin.wav\"],[\"Turkish Rock\",\"Gemiler.wav\"],[\"Turkish Rock\",\"Gripin - Sensiz Istanbula D\\u00fcsmanim.wav\"],[\"Turkish Rock\",\"haluk levent sevenler a\\u011flarm\\u0131\\u015f.wav\"],[\"Turkish Rock\",\"Havadar.wav\"],[\"Turkish Rock\",\"Hayko Cepkin - Bertaraf Et.wav\"],[\"Turkish Rock\",\"Hayko Cepkin - F\\u0131rt\\u0131nam  (Concert Live) (\\u0130zmir G\\u00fcndo\\u011fdu Meydan\\u0131 - 19 May\\u0131s 2019).wav\"],[\"Turkish Rock\",\"Hayko Cepkin - Hayvaaa\\u011f1n.wav\"],[\"Turkish Rock\",\"Hayko Cepkin - \\u00d6l\\u00fcyorum.wav\"],[\"Turkish Rock\",\"Kafama G\\u00f6re.wav\"],[\"Turkish Rock\",\"Ka\\u00e7 can\\u0131m kalm\\u0131\\u015f - Kafam\\u0131 hissetmiyorum.wav\"],[\"Turkish Rock\",\"Ke\\u00e7i K. - B\\u00f6cek.wav\"],[\"Turkish Rock\",\"Ke\\u00e7i K. - B\\u00f6cek2.wav\"],[\"Turkish Rock\",\"Ke\\u00e7i K. - S\\u00fcpermen (Official Video).wav\"],[\"Turkish Rock\",\"Ke\\u00e7i K. - \\u015eiddet Tekeli.wav\"],[\"Turkish Rock\",\"Kurban - Yine.wav\"],[\"Turkish Rock\",\"KURTALAN EKSPRES  Ft. Hayko Cepkin - Yeni Bir G\\u00fcn.wav\"],[\"Turkish Rock\",\"K\\u0131ra\\u00e7 - Senden Ba\\u015fka (Official Video).wav\"],[\"Turkish Rock\",\"maNga - Beni Benimle Birak.wav\"],[\"Turkish Rock\",\"maNga - Cevapsiz Sorular.wav\"],[\"Turkish Rock\",\"maNga - Dunyanin Sonuna Dogmusum.wav\"],[\"Turkish Rock\",\"Mavi Gri - D\\u00fcnyan\\u0131n En G\\u00fczel K\\u0131z\\u0131 (Lyrics Video).wav\"],[\"Turkish Rock\",\"mor ve \\u00f6tesi - Cambaz (Official Video).wav\"],[\"Turkish Rock\",\"mor ve \\u00f6tesi - Deli (Official Video).wav\"],[\"Turkish Rock\",\"mor ve \\u00f6tesi - Oyunbozan  (Official Video).wav\"],[\"Turkish Rock\",\"Namus Belas\\u0131.wav\"],[\"Turkish Rock\",\"Ne Jupiter - Renksiz Bir Kad\\u0131n.wav\"],[\"Turkish Rock\",\"Og\\u00fcn Sanlisoy - Bilmece.wav\"],[\"Turkish Rock\",\"Og\\u00fcn Sanl\\u0131soy - Geri D\\u00f6nemem.wav\"],[\"Turkish Rock\",\"Olduramad\\u0131m.wav\"],[\"Turkish Rock\",\"Palmiyeler -  Baba\\u00e7ko.wav\"],[\"Turkish Rock\",\"Pamela - istanbul.wav\"],[\"Turkish Rock\",\"Pentagram  11 Ge\\u00e7mi\\u015fin Y\\u00fck\\u00fc (Acoustic Live 2017) (feat. Harun Tekin Kerem \\u00d6zye\\u011fen).wav\"],[\"Turkish Rock\",\"Pentagram - Gecmisin Yuku.wav\"],[\"Turkish Rock\",\"PENTAGRAM - \\u015eeytan Bunun Neresinde.wav\"],[\"Turkish Rock\",\"Peyk - Karn\\u0131m A\\u00e7 - Teslim Olma  2014 Kalan M\\u00fczik .wav\"],[\"Turkish Rock\",\"Pinh\\u00e2ni - Kimse G\\u00f6rmesin Seni.wav\"],[\"Turkish Rock\",\"REDD - A\\u015fk Vir\\u00fcs.wav\"],[\"Turkish Rock\",\"Redd - Don Kisot.wav\"],[\"Turkish Rock\",\"Redd - Kan\\u0131yorduk.wav\"],[\"Turkish Rock\",\"Sebnem Ferah - Bu Ask Fazla Sana.wav\"],[\"Turkish Rock\",\"Second - Akl\\u0131mda Bi K\\u00f6rd\\u00fc\\u011f\\u00fcm.wav\"],[\"Turkish Rock\",\"Second - Eski Ve Kusurlu.wav\"],[\"Turkish Rock\",\"Seksend\\u00f6rt - Anlayamazs\\u0131n - (Official Video).wav\"],[\"Turkish Rock\",\"Seksend\\u00f6rt - Kendime Yalan S\\u00f6yledim ( Official Video ).wav\"],[\"Turkish Rock\",\"Sigara.wav\"],[\"Turkish Rock\",\"Siyah Beyaz.wav\"],[\"Turkish Rock\",\"Siyah Beyaz2.wav\"],[\"Turkish Rock\",\"Tayyar Ahmetin Sonsuz Say\\u0131l\\u0131 G\\u00fcnleri.wav\"],[\"Turkish Rock\",\"Tayyar Ahmetin Sonsuz Say\\u0131l\\u0131 G\\u00fcnleri2.wav\"],[\"Turkish Rock\",\"Teoman - Parampar\\u00e7a.wav\"],[\"Turkish Rock\",\"Umut Kaya - Mevsimler Ge\\u00e7erken.wav\"],[\"Turkish Rock\",\"Uzunlar (V1).wav\"],[\"Turkish Rock\",\"Yavuz \\u00c7etin - Benimle U\\u00e7mak \\u0130ster Misin (Official Audio).wav\"],[\"Turkish Rock\",\"Yavuz \\u00c7etin - Kurtar Beni (Official Audio).wav\"],[\"Turkish Rock\",\"Yavuz \\u00c7etin Yasamak Istemem.wav\"],[\"Turkish Rock\",\"Ya\\u015fl\\u0131 Amca - \\u0130stanbul Beyefendisi.wav\"],[\"Turkish Rock\",\"Yok Oyle Kararli Seyler - Gel Tamamla Akustikhane.wav\"],[\"Turkish Rock\",\"Yok \\u00d6yle Kararl\\u0131 \\u015eeyler - Evde Ekmek Yok (BeTheBands).wav\"],[\"Turkish Rock\",\"You May Kiss The Bride - Art\\u0131k Ben Yokum.wav\"],[\"Turkish Rock\",\"You May Kiss The Bride feat Fatma Turgut - Bensiz Bir Sen.wav\"],[\"Turkish Rock\",\"Y\\u00fczy\\u00fczeyken Konu\\u015furuz - Gen\\u00e7li\\u011fimi Geri Ver.wav\"],[\"Turkish Rock\",\"Y\\u0131ld\\u0131zlar\\u0131n Alt\\u0131nda.wav\"],[\"Turkish Rock\",\"\\u00c7\\u0131ld\\u0131rmicam.wav\"],[\"Turkish Rock\",\"\\u00d6p\\u00fcc\\u00fck.wav\"],[\"Turkish Rock\",\"\\u00d6yle Dertli.wav\"],[\"Turkish Rock\",\"\\u00d6zlem Tekin - Da\\u011flar\\u0131 Deldim.wav\"],[\"Turkish Rock\",\"\\u00d6zlem Tekin - Sen Anla.wav\"],[\"Turkish Rock\",\"\\u015eebnem Ferah  Hayko Cepkin  Badem  TNK  Aylin Asl\\u0131m - \\u00d6zg\\u00fcrce Ya\\u015fa.wav\"],[\"Turkish Rock\",\"\\u015eebnem Ferah - Can K\\u0131r\\u0131klar\\u0131.wav\"],[\"Turkish Rock\",\"\\u015eebnem Ferah - \\u00c7ak\\u0131l Ta\\u015flar\\u0131.wav\"]],\"hovertemplate\":\"genre_label=%{customdata[0]}<br>PC 1=%{x}<br>PC 2=%{y}<br>file_name=%{customdata[1]}<extra></extra>\",\"legendgroup\":\"Turkish Rock\",\"marker\":{\"color\":\"#ab63fa\",\"symbol\":\"circle\"},\"mode\":\"markers\",\"name\":\"Turkish Rock\",\"orientation\":\"v\",\"showlegend\":true,\"x\":[2.0725459704915448,2.7979134425647127,5.043565522142013,-3.2866817651672986,-3.3253171780608217,-2.2099326047610672,2.8067821518346103,-2.6909389751510586,-5.271022776609215,-2.647015731141124,-2.6956963198855464,-3.1984854491408163,-2.1917487155384547,-4.801113316479265,1.9721769533899973,-2.594428923163319,3.543942341160622,-1.3273907291132017,0.7378604535539139,-2.5694975362840786,1.6198023506390575,-3.478286832799521,-2.407177423745397,-4.22263975904794,-1.29259313581968,-2.838067264592293,-3.2670104578638033,-3.943149477426514,-2.9299060036164097,-1.7964221657878223,-4.98353344886561,-6.354151582185087,-3.311309215556031,-3.6266484379606716,2.672543157996232,0.7085583604903435,-4.945924479685038,-1.3652317367250566,0.33447164412838176,-4.588670251443236,-0.2920721939403858,-3.4829434349620385,-3.0013589508009315,-3.2523441681274394,-3.3552488531228186,-2.9602084988879915,-4.290456501698544,-3.906794127612438,-1.3526140038667684,-4.008715769229626,-0.8318237539055496,-4.069784356961627,-4.31866560136719,-1.4769967790931522,-3.6243203298386315,0.8704418023456231,-3.7783484839529797,-4.565605987995884,-4.991812106459312,0.7245170822780472,5.418179609738541,-4.130609714148505,-4.4734733908165785,-5.179781862345955,-3.2136048660784162,0.39002295592377445,-3.5944924211602056,-3.5285884793997124,-2.623706207879182,-1.535035501268145,-0.890197987941819,-5.861918716853752,0.14607033648896425,-0.3896777270825034,-1.750410689089861,-3.033169779789818,1.226858722930379,-4.006657339769017,-4.093077818475233,-1.685446256617925,-2.0091124098652244,-0.451590040929786,-2.7196553690665852,-5.189214345118452,-4.4267172858167925,0.8808506345114683,0.2053540715928258,-2.0098138686071687,-0.8146797603657512,-4.038209631749199,-0.6047298358495942,-3.8075492858289803,-0.6819721987170239,-2.62686813475092,-2.056044964388968],\"xaxis\":\"x\",\"y\":[-1.5435726899124391,-2.392918395061204,-0.19490223527461342,-3.1884418243119796,-2.452297079732176,-3.1824263084037674,-1.8284798071526243,-4.727384913114997,-3.6177506458217015,-1.4361869923674826,-0.85460166454467,-1.3152610450586562,-3.3923047130396102,-3.0348795163136497,0.6906156387537082,-1.1220648842309289,2.3899791161337682,-1.6657397415090505,-2.899736948214891,-1.242192361938724,-4.941663946177367,0.08558059320032105,-2.0336065638845904,-0.8955338338961297,0.10654815740597688,0.46291249486060415,-3.3613480283569395,-4.910184069330623,-5.383201209148263,-2.3226337280912572,-0.9553718214976935,-1.3851826438809411,-2.2219396720518834,-2.5536396472377714,0.5764892047761716,-0.22476917057104204,-4.0502814422567655,-1.3456815988138455,-0.9772685304800036,-3.3680628871654017,-1.3496417525049662,-2.912123005265238,-2.6755824056405024,-1.0917885803535035,-0.05010494176298923,-4.605277508137523,-4.877303428561134,-4.510512376159589,-2.6046198598848913,-3.327113399610431,-1.9524327655990885,-3.321867401404838,-1.7178982964128182,-3.802509637582877,-2.8084209537079423,2.120329670818735,-1.7834797228390555,-2.9860703538440023,-4.323367171845472,-2.9974371498853585,-3.398421971423592,0.3245692314974318,-2.299047286306347,-0.4093190693030408,-0.7722520529102461,0.32183007504471506,-2.725530206981321,-2.426152809833679,-3.0924686692778316,-0.4282248613253999,0.6390010341564049,-1.8037125432589938,-2.668011439098432,-0.7858680284900645,-0.001320692387634078,-2.071879293398133,-0.040312169019370715,-2.69412139276186,-2.3658743557738853,-1.094235410452469,-1.9298451686355675,-0.012526007936157449,-4.002044268138048,-2.637614453555962,-1.3657499026858448,-1.5141202213477971,0.1610674928478039,-4.008320719670817,-0.05651733372008114,-2.6492205349061337,3.1359399381584487,0.4263762553862466,-0.7007090956768761,0.3652261750042064,0.8631446314586506],\"yaxis\":\"y\",\"type\":\"scatter\"}],                        {\"template\":{\"data\":{\"histogram2dcontour\":[{\"type\":\"histogram2dcontour\",\"colorbar\":{\"outlinewidth\":0,\"ticks\":\"\"},\"colorscale\":[[0.0,\"#0d0887\"],[0.1111111111111111,\"#46039f\"],[0.2222222222222222,\"#7201a8\"],[0.3333333333333333,\"#9c179e\"],[0.4444444444444444,\"#bd3786\"],[0.5555555555555556,\"#d8576b\"],[0.6666666666666666,\"#ed7953\"],[0.7777777777777778,\"#fb9f3a\"],[0.8888888888888888,\"#fdca26\"],[1.0,\"#f0f921\"]]}],\"choropleth\":[{\"type\":\"choropleth\",\"colorbar\":{\"outlinewidth\":0,\"ticks\":\"\"}}],\"histogram2d\":[{\"type\":\"histogram2d\",\"colorbar\":{\"outlinewidth\":0,\"ticks\":\"\"},\"colorscale\":[[0.0,\"#0d0887\"],[0.1111111111111111,\"#46039f\"],[0.2222222222222222,\"#7201a8\"],[0.3333333333333333,\"#9c179e\"],[0.4444444444444444,\"#bd3786\"],[0.5555555555555556,\"#d8576b\"],[0.6666666666666666,\"#ed7953\"],[0.7777777777777778,\"#fb9f3a\"],[0.8888888888888888,\"#fdca26\"],[1.0,\"#f0f921\"]]}],\"heatmap\":[{\"type\":\"heatmap\",\"colorbar\":{\"outlinewidth\":0,\"ticks\":\"\"},\"colorscale\":[[0.0,\"#0d0887\"],[0.1111111111111111,\"#46039f\"],[0.2222222222222222,\"#7201a8\"],[0.3333333333333333,\"#9c179e\"],[0.4444444444444444,\"#bd3786\"],[0.5555555555555556,\"#d8576b\"],[0.6666666666666666,\"#ed7953\"],[0.7777777777777778,\"#fb9f3a\"],[0.8888888888888888,\"#fdca26\"],[1.0,\"#f0f921\"]]}],\"heatmapgl\":[{\"type\":\"heatmapgl\",\"colorbar\":{\"outlinewidth\":0,\"ticks\":\"\"},\"colorscale\":[[0.0,\"#0d0887\"],[0.1111111111111111,\"#46039f\"],[0.2222222222222222,\"#7201a8\"],[0.3333333333333333,\"#9c179e\"],[0.4444444444444444,\"#bd3786\"],[0.5555555555555556,\"#d8576b\"],[0.6666666666666666,\"#ed7953\"],[0.7777777777777778,\"#fb9f3a\"],[0.8888888888888888,\"#fdca26\"],[1.0,\"#f0f921\"]]}],\"contourcarpet\":[{\"type\":\"contourcarpet\",\"colorbar\":{\"outlinewidth\":0,\"ticks\":\"\"}}],\"contour\":[{\"type\":\"contour\",\"colorbar\":{\"outlinewidth\":0,\"ticks\":\"\"},\"colorscale\":[[0.0,\"#0d0887\"],[0.1111111111111111,\"#46039f\"],[0.2222222222222222,\"#7201a8\"],[0.3333333333333333,\"#9c179e\"],[0.4444444444444444,\"#bd3786\"],[0.5555555555555556,\"#d8576b\"],[0.6666666666666666,\"#ed7953\"],[0.7777777777777778,\"#fb9f3a\"],[0.8888888888888888,\"#fdca26\"],[1.0,\"#f0f921\"]]}],\"surface\":[{\"type\":\"surface\",\"colorbar\":{\"outlinewidth\":0,\"ticks\":\"\"},\"colorscale\":[[0.0,\"#0d0887\"],[0.1111111111111111,\"#46039f\"],[0.2222222222222222,\"#7201a8\"],[0.3333333333333333,\"#9c179e\"],[0.4444444444444444,\"#bd3786\"],[0.5555555555555556,\"#d8576b\"],[0.6666666666666666,\"#ed7953\"],[0.7777777777777778,\"#fb9f3a\"],[0.8888888888888888,\"#fdca26\"],[1.0,\"#f0f921\"]]}],\"mesh3d\":[{\"type\":\"mesh3d\",\"colorbar\":{\"outlinewidth\":0,\"ticks\":\"\"}}],\"scatter\":[{\"fillpattern\":{\"fillmode\":\"overlay\",\"size\":10,\"solidity\":0.2},\"type\":\"scatter\"}],\"parcoords\":[{\"type\":\"parcoords\",\"line\":{\"colorbar\":{\"outlinewidth\":0,\"ticks\":\"\"}}}],\"scatterpolargl\":[{\"type\":\"scatterpolargl\",\"marker\":{\"colorbar\":{\"outlinewidth\":0,\"ticks\":\"\"}}}],\"bar\":[{\"error_x\":{\"color\":\"#2a3f5f\"},\"error_y\":{\"color\":\"#2a3f5f\"},\"marker\":{\"line\":{\"color\":\"#E5ECF6\",\"width\":0.5},\"pattern\":{\"fillmode\":\"overlay\",\"size\":10,\"solidity\":0.2}},\"type\":\"bar\"}],\"scattergeo\":[{\"type\":\"scattergeo\",\"marker\":{\"colorbar\":{\"outlinewidth\":0,\"ticks\":\"\"}}}],\"scatterpolar\":[{\"type\":\"scatterpolar\",\"marker\":{\"colorbar\":{\"outlinewidth\":0,\"ticks\":\"\"}}}],\"histogram\":[{\"marker\":{\"pattern\":{\"fillmode\":\"overlay\",\"size\":10,\"solidity\":0.2}},\"type\":\"histogram\"}],\"scattergl\":[{\"type\":\"scattergl\",\"marker\":{\"colorbar\":{\"outlinewidth\":0,\"ticks\":\"\"}}}],\"scatter3d\":[{\"type\":\"scatter3d\",\"line\":{\"colorbar\":{\"outlinewidth\":0,\"ticks\":\"\"}},\"marker\":{\"colorbar\":{\"outlinewidth\":0,\"ticks\":\"\"}}}],\"scattermapbox\":[{\"type\":\"scattermapbox\",\"marker\":{\"colorbar\":{\"outlinewidth\":0,\"ticks\":\"\"}}}],\"scatterternary\":[{\"type\":\"scatterternary\",\"marker\":{\"colorbar\":{\"outlinewidth\":0,\"ticks\":\"\"}}}],\"scattercarpet\":[{\"type\":\"scattercarpet\",\"marker\":{\"colorbar\":{\"outlinewidth\":0,\"ticks\":\"\"}}}],\"carpet\":[{\"aaxis\":{\"endlinecolor\":\"#2a3f5f\",\"gridcolor\":\"white\",\"linecolor\":\"white\",\"minorgridcolor\":\"white\",\"startlinecolor\":\"#2a3f5f\"},\"baxis\":{\"endlinecolor\":\"#2a3f5f\",\"gridcolor\":\"white\",\"linecolor\":\"white\",\"minorgridcolor\":\"white\",\"startlinecolor\":\"#2a3f5f\"},\"type\":\"carpet\"}],\"table\":[{\"cells\":{\"fill\":{\"color\":\"#EBF0F8\"},\"line\":{\"color\":\"white\"}},\"header\":{\"fill\":{\"color\":\"#C8D4E3\"},\"line\":{\"color\":\"white\"}},\"type\":\"table\"}],\"barpolar\":[{\"marker\":{\"line\":{\"color\":\"#E5ECF6\",\"width\":0.5},\"pattern\":{\"fillmode\":\"overlay\",\"size\":10,\"solidity\":0.2}},\"type\":\"barpolar\"}],\"pie\":[{\"automargin\":true,\"type\":\"pie\"}]},\"layout\":{\"autotypenumbers\":\"strict\",\"colorway\":[\"#636efa\",\"#EF553B\",\"#00cc96\",\"#ab63fa\",\"#FFA15A\",\"#19d3f3\",\"#FF6692\",\"#B6E880\",\"#FF97FF\",\"#FECB52\"],\"font\":{\"color\":\"#2a3f5f\"},\"hovermode\":\"closest\",\"hoverlabel\":{\"align\":\"left\"},\"paper_bgcolor\":\"white\",\"plot_bgcolor\":\"#E5ECF6\",\"polar\":{\"bgcolor\":\"#E5ECF6\",\"angularaxis\":{\"gridcolor\":\"white\",\"linecolor\":\"white\",\"ticks\":\"\"},\"radialaxis\":{\"gridcolor\":\"white\",\"linecolor\":\"white\",\"ticks\":\"\"}},\"ternary\":{\"bgcolor\":\"#E5ECF6\",\"aaxis\":{\"gridcolor\":\"white\",\"linecolor\":\"white\",\"ticks\":\"\"},\"baxis\":{\"gridcolor\":\"white\",\"linecolor\":\"white\",\"ticks\":\"\"},\"caxis\":{\"gridcolor\":\"white\",\"linecolor\":\"white\",\"ticks\":\"\"}},\"coloraxis\":{\"colorbar\":{\"outlinewidth\":0,\"ticks\":\"\"}},\"colorscale\":{\"sequential\":[[0.0,\"#0d0887\"],[0.1111111111111111,\"#46039f\"],[0.2222222222222222,\"#7201a8\"],[0.3333333333333333,\"#9c179e\"],[0.4444444444444444,\"#bd3786\"],[0.5555555555555556,\"#d8576b\"],[0.6666666666666666,\"#ed7953\"],[0.7777777777777778,\"#fb9f3a\"],[0.8888888888888888,\"#fdca26\"],[1.0,\"#f0f921\"]],\"sequentialminus\":[[0.0,\"#0d0887\"],[0.1111111111111111,\"#46039f\"],[0.2222222222222222,\"#7201a8\"],[0.3333333333333333,\"#9c179e\"],[0.4444444444444444,\"#bd3786\"],[0.5555555555555556,\"#d8576b\"],[0.6666666666666666,\"#ed7953\"],[0.7777777777777778,\"#fb9f3a\"],[0.8888888888888888,\"#fdca26\"],[1.0,\"#f0f921\"]],\"diverging\":[[0,\"#8e0152\"],[0.1,\"#c51b7d\"],[0.2,\"#de77ae\"],[0.3,\"#f1b6da\"],[0.4,\"#fde0ef\"],[0.5,\"#f7f7f7\"],[0.6,\"#e6f5d0\"],[0.7,\"#b8e186\"],[0.8,\"#7fbc41\"],[0.9,\"#4d9221\"],[1,\"#276419\"]]},\"xaxis\":{\"gridcolor\":\"white\",\"linecolor\":\"white\",\"ticks\":\"\",\"title\":{\"standoff\":15},\"zerolinecolor\":\"white\",\"automargin\":true,\"zerolinewidth\":2},\"yaxis\":{\"gridcolor\":\"white\",\"linecolor\":\"white\",\"ticks\":\"\",\"title\":{\"standoff\":15},\"zerolinecolor\":\"white\",\"automargin\":true,\"zerolinewidth\":2},\"scene\":{\"xaxis\":{\"backgroundcolor\":\"#E5ECF6\",\"gridcolor\":\"white\",\"linecolor\":\"white\",\"showbackground\":true,\"ticks\":\"\",\"zerolinecolor\":\"white\",\"gridwidth\":2},\"yaxis\":{\"backgroundcolor\":\"#E5ECF6\",\"gridcolor\":\"white\",\"linecolor\":\"white\",\"showbackground\":true,\"ticks\":\"\",\"zerolinecolor\":\"white\",\"gridwidth\":2},\"zaxis\":{\"backgroundcolor\":\"#E5ECF6\",\"gridcolor\":\"white\",\"linecolor\":\"white\",\"showbackground\":true,\"ticks\":\"\",\"zerolinecolor\":\"white\",\"gridwidth\":2}},\"shapedefaults\":{\"line\":{\"color\":\"#2a3f5f\"}},\"annotationdefaults\":{\"arrowcolor\":\"#2a3f5f\",\"arrowhead\":0,\"arrowwidth\":1},\"geo\":{\"bgcolor\":\"white\",\"landcolor\":\"#E5ECF6\",\"subunitcolor\":\"white\",\"showland\":true,\"showlakes\":true,\"lakecolor\":\"white\"},\"title\":{\"x\":0.05},\"mapbox\":{\"style\":\"light\"}}},\"xaxis\":{\"anchor\":\"y\",\"domain\":[0.0,1.0],\"title\":{\"text\":\"PC 1\"}},\"yaxis\":{\"anchor\":\"x\",\"domain\":[0.0,1.0],\"title\":{\"text\":\"PC 2\"}},\"legend\":{\"title\":{\"text\":\"genre_label\"},\"tracegroupgap\":0},\"margin\":{\"t\":60},\"title\":{\"text\":\"Turkish Music Genres 2D PCA\"},\"width\":1250,\"height\":750},                        {\"responsive\": true}                    ).then(function(){\n",
       "                            \n",
       "var gd = document.getElementById('2985f795-cb4c-4741-8247-0c6fed078e37');\n",
       "var x = new MutationObserver(function (mutations, observer) {{\n",
       "        var display = window.getComputedStyle(gd).display;\n",
       "        if (!display || display === 'none') {{\n",
       "            console.log([gd, 'removed!']);\n",
       "            Plotly.purge(gd);\n",
       "            observer.disconnect();\n",
       "        }}\n",
       "}});\n",
       "\n",
       "// Listen for the removal of the full notebook cells\n",
       "var notebookContainer = gd.closest('#notebook-container');\n",
       "if (notebookContainer) {{\n",
       "    x.observe(notebookContainer, {childList: true});\n",
       "}}\n",
       "\n",
       "// Listen for the clearing of the current output cell\n",
       "var outputEl = gd.closest('.output');\n",
       "if (outputEl) {{\n",
       "    x.observe(outputEl, {childList: true});\n",
       "}}\n",
       "\n",
       "                        })                };                });            </script>        </div>"
      ]
     },
     "metadata": {},
     "output_type": "display_data"
    }
   ],
   "source": [
    "#fig = px.scatter_3d(df_w_pca,\n",
    "#                    x = \"PC 1\",\n",
    "#                    y ='PC 2',\n",
    "#                    z ='PC 3',\n",
    "#                    color = \"genre_label\",\n",
    "#                    hover_data=['genre_label','file_name'])\n",
    "#\n",
    "#fig.update_layout(title = \"Turkish Music Genres 3D PCA Distribution\",\n",
    "#                 width=1500,\n",
    "#                 height=1000)\n",
    "#\n",
    "#fig.write_html(\"3D_Turkish_Songs.html\")\n",
    "\n",
    "\n",
    "\n",
    "fig = px.scatter(df_w_pca,\n",
    "                    x = \"PC 1\",\n",
    "                    y ='PC 2',\n",
    "                    color = \"genre_label\",\n",
    "                    hover_data=['genre_label','file_name'])\n",
    "fig.update_layout(title = \"Turkish Music Genres 2D PCA\",\n",
    "                 width=1250,\n",
    "                 height=750)\n",
    "fig.show()\n",
    "                                "
   ]
  },
  {
   "cell_type": "code",
   "execution_count": 12,
   "id": "718e25fb-8f44-4f46-84e2-2cd041b9722a",
   "metadata": {},
   "outputs": [
    {
     "data": {
      "text/html": [
       "<div>\n",
       "<style scoped>\n",
       "    .dataframe tbody tr th:only-of-type {\n",
       "        vertical-align: middle;\n",
       "    }\n",
       "\n",
       "    .dataframe tbody tr th {\n",
       "        vertical-align: top;\n",
       "    }\n",
       "\n",
       "    .dataframe thead th {\n",
       "        text-align: right;\n",
       "    }\n",
       "</style>\n",
       "<table border=\"1\" class=\"dataframe\">\n",
       "  <thead>\n",
       "    <tr style=\"text-align: right;\">\n",
       "      <th></th>\n",
       "      <th>file_name</th>\n",
       "      <th>genre_label</th>\n",
       "      <th>rms_mean</th>\n",
       "      <th>rms_var</th>\n",
       "      <th>zcr_mean</th>\n",
       "      <th>zcr_var</th>\n",
       "      <th>spectral_centroid_mean</th>\n",
       "      <th>spectral_centroid_var</th>\n",
       "      <th>spectral_rolloff_mean</th>\n",
       "      <th>spectral_rolloff_var</th>\n",
       "      <th>...</th>\n",
       "      <th>mfcc12_var</th>\n",
       "      <th>mfcc13_var</th>\n",
       "      <th>mfcc14_var</th>\n",
       "      <th>mfcc15_var</th>\n",
       "      <th>mfcc16_var</th>\n",
       "      <th>mfcc17_var</th>\n",
       "      <th>mfcc18_var</th>\n",
       "      <th>mfcc19_var</th>\n",
       "      <th>PC 1</th>\n",
       "      <th>PC 2</th>\n",
       "    </tr>\n",
       "  </thead>\n",
       "  <tbody>\n",
       "    <tr>\n",
       "      <th>0</th>\n",
       "      <td>Alev Alev.wav</td>\n",
       "      <td>Turkish Slow</td>\n",
       "      <td>0.119100</td>\n",
       "      <td>0.001798</td>\n",
       "      <td>0.083800</td>\n",
       "      <td>0.002672</td>\n",
       "      <td>1963.664952</td>\n",
       "      <td>5.315930e+05</td>\n",
       "      <td>4124.232911</td>\n",
       "      <td>2.248831e+06</td>\n",
       "      <td>...</td>\n",
       "      <td>72.770164</td>\n",
       "      <td>76.979256</td>\n",
       "      <td>56.615467</td>\n",
       "      <td>65.965775</td>\n",
       "      <td>38.063232</td>\n",
       "      <td>57.948685</td>\n",
       "      <td>59.232513</td>\n",
       "      <td>94.147285</td>\n",
       "      <td>2.519466</td>\n",
       "      <td>-3.012620</td>\n",
       "    </tr>\n",
       "    <tr>\n",
       "      <th>1</th>\n",
       "      <td>Aşk Official Video - Gökhan Türkmen Aşk.wav</td>\n",
       "      <td>Turkish Slow</td>\n",
       "      <td>0.247212</td>\n",
       "      <td>0.002291</td>\n",
       "      <td>0.061325</td>\n",
       "      <td>0.000838</td>\n",
       "      <td>1709.639518</td>\n",
       "      <td>3.375758e+05</td>\n",
       "      <td>3702.836620</td>\n",
       "      <td>1.883325e+06</td>\n",
       "      <td>...</td>\n",
       "      <td>44.920906</td>\n",
       "      <td>32.396587</td>\n",
       "      <td>39.852821</td>\n",
       "      <td>44.881226</td>\n",
       "      <td>41.798035</td>\n",
       "      <td>26.476320</td>\n",
       "      <td>47.037804</td>\n",
       "      <td>33.852127</td>\n",
       "      <td>-1.053983</td>\n",
       "      <td>-3.591336</td>\n",
       "    </tr>\n",
       "    <tr>\n",
       "      <th>2</th>\n",
       "      <td>Beni Biraz Böyle Hatırla.wav</td>\n",
       "      <td>Turkish Slow</td>\n",
       "      <td>0.081898</td>\n",
       "      <td>0.004332</td>\n",
       "      <td>0.104189</td>\n",
       "      <td>0.014717</td>\n",
       "      <td>2071.472879</td>\n",
       "      <td>2.439872e+06</td>\n",
       "      <td>3911.823600</td>\n",
       "      <td>6.767129e+06</td>\n",
       "      <td>...</td>\n",
       "      <td>63.901772</td>\n",
       "      <td>61.792072</td>\n",
       "      <td>46.092957</td>\n",
       "      <td>49.192299</td>\n",
       "      <td>54.325542</td>\n",
       "      <td>69.946663</td>\n",
       "      <td>75.437584</td>\n",
       "      <td>42.512390</td>\n",
       "      <td>7.181514</td>\n",
       "      <td>-1.289855</td>\n",
       "    </tr>\n",
       "    <tr>\n",
       "      <th>3</th>\n",
       "      <td>Can Koç - Gökyüzünü Tutamam (Official Lyric Vi...</td>\n",
       "      <td>Turkish Slow</td>\n",
       "      <td>0.146245</td>\n",
       "      <td>0.000634</td>\n",
       "      <td>0.069388</td>\n",
       "      <td>0.001111</td>\n",
       "      <td>1850.869348</td>\n",
       "      <td>3.421683e+05</td>\n",
       "      <td>3950.918105</td>\n",
       "      <td>1.773382e+06</td>\n",
       "      <td>...</td>\n",
       "      <td>63.491627</td>\n",
       "      <td>45.299580</td>\n",
       "      <td>57.776470</td>\n",
       "      <td>40.019867</td>\n",
       "      <td>40.427750</td>\n",
       "      <td>53.649837</td>\n",
       "      <td>33.923912</td>\n",
       "      <td>40.049858</td>\n",
       "      <td>-1.157612</td>\n",
       "      <td>-2.271458</td>\n",
       "    </tr>\n",
       "    <tr>\n",
       "      <th>4</th>\n",
       "      <td>Can Ozan - Sar Bu Şehri.wav</td>\n",
       "      <td>Turkish Slow</td>\n",
       "      <td>0.152696</td>\n",
       "      <td>0.002779</td>\n",
       "      <td>0.045125</td>\n",
       "      <td>0.001499</td>\n",
       "      <td>1424.526526</td>\n",
       "      <td>6.597508e+05</td>\n",
       "      <td>2927.291580</td>\n",
       "      <td>3.218737e+06</td>\n",
       "      <td>...</td>\n",
       "      <td>62.395611</td>\n",
       "      <td>43.796051</td>\n",
       "      <td>33.867943</td>\n",
       "      <td>56.617340</td>\n",
       "      <td>42.344696</td>\n",
       "      <td>60.210983</td>\n",
       "      <td>42.521263</td>\n",
       "      <td>55.467621</td>\n",
       "      <td>3.795338</td>\n",
       "      <td>-4.673185</td>\n",
       "    </tr>\n",
       "    <tr>\n",
       "      <th>...</th>\n",
       "      <td>...</td>\n",
       "      <td>...</td>\n",
       "      <td>...</td>\n",
       "      <td>...</td>\n",
       "      <td>...</td>\n",
       "      <td>...</td>\n",
       "      <td>...</td>\n",
       "      <td>...</td>\n",
       "      <td>...</td>\n",
       "      <td>...</td>\n",
       "      <td>...</td>\n",
       "      <td>...</td>\n",
       "      <td>...</td>\n",
       "      <td>...</td>\n",
       "      <td>...</td>\n",
       "      <td>...</td>\n",
       "      <td>...</td>\n",
       "      <td>...</td>\n",
       "      <td>...</td>\n",
       "      <td>...</td>\n",
       "      <td>...</td>\n",
       "    </tr>\n",
       "    <tr>\n",
       "      <th>320</th>\n",
       "      <td>Özlem Tekin - Dağları Deldim.wav</td>\n",
       "      <td>Turkish Rock</td>\n",
       "      <td>0.176704</td>\n",
       "      <td>0.001957</td>\n",
       "      <td>0.119501</td>\n",
       "      <td>0.003294</td>\n",
       "      <td>2725.701299</td>\n",
       "      <td>3.875193e+05</td>\n",
       "      <td>5767.376185</td>\n",
       "      <td>1.512181e+06</td>\n",
       "      <td>...</td>\n",
       "      <td>127.086212</td>\n",
       "      <td>107.350037</td>\n",
       "      <td>67.385986</td>\n",
       "      <td>112.860405</td>\n",
       "      <td>105.129349</td>\n",
       "      <td>97.423851</td>\n",
       "      <td>123.335571</td>\n",
       "      <td>102.575340</td>\n",
       "      <td>-0.604730</td>\n",
       "      <td>3.135940</td>\n",
       "    </tr>\n",
       "    <tr>\n",
       "      <th>321</th>\n",
       "      <td>Özlem Tekin - Sen Anla.wav</td>\n",
       "      <td>Turkish Rock</td>\n",
       "      <td>0.256894</td>\n",
       "      <td>0.003031</td>\n",
       "      <td>0.119416</td>\n",
       "      <td>0.001785</td>\n",
       "      <td>2746.511650</td>\n",
       "      <td>2.399605e+05</td>\n",
       "      <td>6107.785650</td>\n",
       "      <td>9.909771e+05</td>\n",
       "      <td>...</td>\n",
       "      <td>38.047726</td>\n",
       "      <td>60.429714</td>\n",
       "      <td>43.784306</td>\n",
       "      <td>57.732090</td>\n",
       "      <td>73.324760</td>\n",
       "      <td>75.768440</td>\n",
       "      <td>73.489227</td>\n",
       "      <td>77.202080</td>\n",
       "      <td>-3.807549</td>\n",
       "      <td>0.426376</td>\n",
       "    </tr>\n",
       "    <tr>\n",
       "      <th>322</th>\n",
       "      <td>Şebnem Ferah  Hayko Cepkin  Badem  TNK  Aylin ...</td>\n",
       "      <td>Turkish Rock</td>\n",
       "      <td>0.213039</td>\n",
       "      <td>0.000840</td>\n",
       "      <td>0.072547</td>\n",
       "      <td>0.001554</td>\n",
       "      <td>2085.339237</td>\n",
       "      <td>4.055896e+05</td>\n",
       "      <td>4608.605079</td>\n",
       "      <td>2.016043e+06</td>\n",
       "      <td>...</td>\n",
       "      <td>64.883392</td>\n",
       "      <td>51.769985</td>\n",
       "      <td>52.595707</td>\n",
       "      <td>64.301826</td>\n",
       "      <td>44.260830</td>\n",
       "      <td>46.511024</td>\n",
       "      <td>89.626091</td>\n",
       "      <td>53.182686</td>\n",
       "      <td>-0.681972</td>\n",
       "      <td>-0.700709</td>\n",
       "    </tr>\n",
       "    <tr>\n",
       "      <th>323</th>\n",
       "      <td>Şebnem Ferah - Can Kırıkları.wav</td>\n",
       "      <td>Turkish Rock</td>\n",
       "      <td>0.198599</td>\n",
       "      <td>0.001356</td>\n",
       "      <td>0.174391</td>\n",
       "      <td>0.003512</td>\n",
       "      <td>3036.343828</td>\n",
       "      <td>3.380494e+05</td>\n",
       "      <td>6072.588106</td>\n",
       "      <td>1.293067e+06</td>\n",
       "      <td>...</td>\n",
       "      <td>67.922028</td>\n",
       "      <td>84.974449</td>\n",
       "      <td>65.134323</td>\n",
       "      <td>80.144669</td>\n",
       "      <td>64.425529</td>\n",
       "      <td>64.301064</td>\n",
       "      <td>78.062157</td>\n",
       "      <td>61.008980</td>\n",
       "      <td>-2.626868</td>\n",
       "      <td>0.365226</td>\n",
       "    </tr>\n",
       "    <tr>\n",
       "      <th>324</th>\n",
       "      <td>Şebnem Ferah - Çakıl Taşları.wav</td>\n",
       "      <td>Turkish Rock</td>\n",
       "      <td>0.244188</td>\n",
       "      <td>0.003012</td>\n",
       "      <td>0.170548</td>\n",
       "      <td>0.006925</td>\n",
       "      <td>3318.158220</td>\n",
       "      <td>6.512771e+05</td>\n",
       "      <td>6944.283144</td>\n",
       "      <td>1.052606e+06</td>\n",
       "      <td>...</td>\n",
       "      <td>73.168777</td>\n",
       "      <td>63.085182</td>\n",
       "      <td>63.479942</td>\n",
       "      <td>63.078903</td>\n",
       "      <td>73.454132</td>\n",
       "      <td>93.543076</td>\n",
       "      <td>64.363129</td>\n",
       "      <td>60.983356</td>\n",
       "      <td>-2.056045</td>\n",
       "      <td>0.863145</td>\n",
       "    </tr>\n",
       "  </tbody>\n",
       "</table>\n",
       "<p>325 rows × 55 columns</p>\n",
       "</div>"
      ],
      "text/plain": [
       "                                             file_name   genre_label  \\\n",
       "0                                        Alev Alev.wav  Turkish Slow   \n",
       "1          Aşk Official Video - Gökhan Türkmen Aşk.wav  Turkish Slow   \n",
       "2                         Beni Biraz Böyle Hatırla.wav  Turkish Slow   \n",
       "3    Can Koç - Gökyüzünü Tutamam (Official Lyric Vi...  Turkish Slow   \n",
       "4                          Can Ozan - Sar Bu Şehri.wav  Turkish Slow   \n",
       "..                                                 ...           ...   \n",
       "320                   Özlem Tekin - Dağları Deldim.wav  Turkish Rock   \n",
       "321                         Özlem Tekin - Sen Anla.wav  Turkish Rock   \n",
       "322  Şebnem Ferah  Hayko Cepkin  Badem  TNK  Aylin ...  Turkish Rock   \n",
       "323                   Şebnem Ferah - Can Kırıkları.wav  Turkish Rock   \n",
       "324                   Şebnem Ferah - Çakıl Taşları.wav  Turkish Rock   \n",
       "\n",
       "     rms_mean   rms_var  zcr_mean   zcr_var  spectral_centroid_mean  \\\n",
       "0    0.119100  0.001798  0.083800  0.002672             1963.664952   \n",
       "1    0.247212  0.002291  0.061325  0.000838             1709.639518   \n",
       "2    0.081898  0.004332  0.104189  0.014717             2071.472879   \n",
       "3    0.146245  0.000634  0.069388  0.001111             1850.869348   \n",
       "4    0.152696  0.002779  0.045125  0.001499             1424.526526   \n",
       "..        ...       ...       ...       ...                     ...   \n",
       "320  0.176704  0.001957  0.119501  0.003294             2725.701299   \n",
       "321  0.256894  0.003031  0.119416  0.001785             2746.511650   \n",
       "322  0.213039  0.000840  0.072547  0.001554             2085.339237   \n",
       "323  0.198599  0.001356  0.174391  0.003512             3036.343828   \n",
       "324  0.244188  0.003012  0.170548  0.006925             3318.158220   \n",
       "\n",
       "     spectral_centroid_var  spectral_rolloff_mean  spectral_rolloff_var  ...  \\\n",
       "0             5.315930e+05            4124.232911          2.248831e+06  ...   \n",
       "1             3.375758e+05            3702.836620          1.883325e+06  ...   \n",
       "2             2.439872e+06            3911.823600          6.767129e+06  ...   \n",
       "3             3.421683e+05            3950.918105          1.773382e+06  ...   \n",
       "4             6.597508e+05            2927.291580          3.218737e+06  ...   \n",
       "..                     ...                    ...                   ...  ...   \n",
       "320           3.875193e+05            5767.376185          1.512181e+06  ...   \n",
       "321           2.399605e+05            6107.785650          9.909771e+05  ...   \n",
       "322           4.055896e+05            4608.605079          2.016043e+06  ...   \n",
       "323           3.380494e+05            6072.588106          1.293067e+06  ...   \n",
       "324           6.512771e+05            6944.283144          1.052606e+06  ...   \n",
       "\n",
       "     mfcc12_var  mfcc13_var  mfcc14_var  mfcc15_var  mfcc16_var  mfcc17_var  \\\n",
       "0     72.770164   76.979256   56.615467   65.965775   38.063232   57.948685   \n",
       "1     44.920906   32.396587   39.852821   44.881226   41.798035   26.476320   \n",
       "2     63.901772   61.792072   46.092957   49.192299   54.325542   69.946663   \n",
       "3     63.491627   45.299580   57.776470   40.019867   40.427750   53.649837   \n",
       "4     62.395611   43.796051   33.867943   56.617340   42.344696   60.210983   \n",
       "..          ...         ...         ...         ...         ...         ...   \n",
       "320  127.086212  107.350037   67.385986  112.860405  105.129349   97.423851   \n",
       "321   38.047726   60.429714   43.784306   57.732090   73.324760   75.768440   \n",
       "322   64.883392   51.769985   52.595707   64.301826   44.260830   46.511024   \n",
       "323   67.922028   84.974449   65.134323   80.144669   64.425529   64.301064   \n",
       "324   73.168777   63.085182   63.479942   63.078903   73.454132   93.543076   \n",
       "\n",
       "     mfcc18_var  mfcc19_var      PC 1      PC 2  \n",
       "0     59.232513   94.147285  2.519466 -3.012620  \n",
       "1     47.037804   33.852127 -1.053983 -3.591336  \n",
       "2     75.437584   42.512390  7.181514 -1.289855  \n",
       "3     33.923912   40.049858 -1.157612 -2.271458  \n",
       "4     42.521263   55.467621  3.795338 -4.673185  \n",
       "..          ...         ...       ...       ...  \n",
       "320  123.335571  102.575340 -0.604730  3.135940  \n",
       "321   73.489227   77.202080 -3.807549  0.426376  \n",
       "322   89.626091   53.182686 -0.681972 -0.700709  \n",
       "323   78.062157   61.008980 -2.626868  0.365226  \n",
       "324   64.363129   60.983356 -2.056045  0.863145  \n",
       "\n",
       "[325 rows x 55 columns]"
      ]
     },
     "execution_count": 12,
     "metadata": {},
     "output_type": "execute_result"
    }
   ],
   "source": [
    "df_w_pca"
   ]
  },
  {
   "cell_type": "code",
   "execution_count": 13,
   "id": "79ea9b99-34ae-4b45-9d65-84bfabe99d94",
   "metadata": {},
   "outputs": [],
   "source": [
    "pca = PCA(n_components = recommended_pc_count)\n",
    "\n",
    "# Fit and transform the scaled training features using pca\n",
    "train_pca = pca.fit_transform(scaled_X_train)\n",
    "\n",
    "# Fit and transform the scaled test features using pca\n",
    "test_pca = pca.transform(scaled_X_test)"
   ]
  },
  {
   "cell_type": "code",
   "execution_count": 14,
   "id": "f770404d-37d7-414a-8a3e-e7748750b83d",
   "metadata": {},
   "outputs": [],
   "source": [
    "from sklearn.linear_model import LogisticRegression\n",
    "from sklearn.naive_bayes import GaussianNB\n",
    "from sklearn.tree import DecisionTreeClassifier\n",
    "from sklearn.neighbors import KNeighborsClassifier\n",
    "from sklearn.svm import SVC\n",
    "\n",
    "\n",
    "\n",
    "logreg = LogisticRegression(solver =\"liblinear\")\n",
    "gnb = GaussianNB()\n",
    "dt = DecisionTreeClassifier()\n",
    "knn = KNeighborsClassifier(n_neighbors=2)\n",
    "svc = SVC(gamma = 'auto',probability=True)\n",
    "\n",
    "logreg.fit(train_pca, y_train)\n",
    "gnb.fit(train_pca, y_train)\n",
    "dt.fit(train_pca, y_train)\n",
    "knn.fit(train_pca, y_train)\n",
    "svc.fit(train_pca, y_train)\n",
    "\n",
    "        \n",
    "pred_labels_logreg = logreg.predict(test_pca)\n",
    "pred_labels_gnb = gnb.predict(test_pca)\n",
    "pred_labels_dt = dt.predict(test_pca)\n",
    "pred_labels_knn = knn.predict(test_pca)\n",
    "pred_labels_svc = svc.predict(test_pca)"
   ]
  },
  {
   "cell_type": "markdown",
   "id": "44ac604b-ae52-420e-aac4-9dde0779459d",
   "metadata": {},
   "source": [
    "### Classification Report"
   ]
  },
  {
   "cell_type": "code",
   "execution_count": 15,
   "id": "5f597ce3-9771-42a4-aee3-08ccaebdd9c1",
   "metadata": {},
   "outputs": [
    {
     "name": "stdout",
     "output_type": "stream",
     "text": [
      "Logistic Regression: \n",
      "              precision    recall  f1-score   support\n",
      "\n",
      " Turkish Pop       0.83      1.00      0.91        10\n",
      " Turkish Rap       0.80      0.80      0.80         5\n",
      "Turkish Rock       1.00      0.70      0.82        10\n",
      "Turkish Slow       0.78      0.88      0.82         8\n",
      "\n",
      "    accuracy                           0.85        33\n",
      "   macro avg       0.85      0.84      0.84        33\n",
      "weighted avg       0.87      0.85      0.85        33\n",
      "\n",
      "\n",
      "GaussianNB: \n",
      "              precision    recall  f1-score   support\n",
      "\n",
      " Turkish Pop       0.82      0.90      0.86        10\n",
      " Turkish Rap       0.67      0.40      0.50         5\n",
      "Turkish Rock       0.82      0.90      0.86        10\n",
      "Turkish Slow       0.88      0.88      0.88         8\n",
      "\n",
      "    accuracy                           0.82        33\n",
      "   macro avg       0.79      0.77      0.77        33\n",
      "weighted avg       0.81      0.82      0.81        33\n",
      "\n",
      "\n",
      "Decision Tree: \n",
      "              precision    recall  f1-score   support\n",
      "\n",
      " Turkish Pop       0.73      0.80      0.76        10\n",
      " Turkish Rap       0.80      0.80      0.80         5\n",
      "Turkish Rock       0.70      0.70      0.70        10\n",
      "Turkish Slow       0.86      0.75      0.80         8\n",
      "\n",
      "    accuracy                           0.76        33\n",
      "   macro avg       0.77      0.76      0.77        33\n",
      "weighted avg       0.76      0.76      0.76        33\n",
      "\n",
      "\n",
      "K-Neigbors: \n",
      "              precision    recall  f1-score   support\n",
      "\n",
      " Turkish Pop       0.62      1.00      0.77        10\n",
      " Turkish Rap       0.75      0.60      0.67         5\n",
      "Turkish Rock       0.86      0.60      0.71        10\n",
      "Turkish Slow       1.00      0.75      0.86         8\n",
      "\n",
      "    accuracy                           0.76        33\n",
      "   macro avg       0.81      0.74      0.75        33\n",
      "weighted avg       0.81      0.76      0.76        33\n",
      "\n",
      "\n",
      "SVC: \n",
      "              precision    recall  f1-score   support\n",
      "\n",
      " Turkish Pop       0.91      1.00      0.95        10\n",
      " Turkish Rap       1.00      0.80      0.89         5\n",
      "Turkish Rock       1.00      0.80      0.89        10\n",
      "Turkish Slow       0.80      1.00      0.89         8\n",
      "\n",
      "    accuracy                           0.91        33\n",
      "   macro avg       0.93      0.90      0.90        33\n",
      "weighted avg       0.92      0.91      0.91        33\n",
      "\n",
      "\n"
     ]
    }
   ],
   "source": [
    "# Create the classification report for both models\n",
    "from sklearn.metrics import classification_report\n",
    "\n",
    "class_rep_logreg = classification_report(y_test,pred_labels_logreg, zero_division = 1)\n",
    "print(f\"Logistic Regression: \\n{class_rep_logreg}\\n\")\n",
    "\n",
    "class_rep_gnb = classification_report(y_test,pred_labels_gnb, zero_division = 1)\n",
    "print(f\"GaussianNB: \\n{class_rep_gnb}\\n\")\n",
    "\n",
    "class_rep_dt = classification_report(y_test,pred_labels_dt, zero_division = 1)\n",
    "print(f\"Decision Tree: \\n{class_rep_dt}\\n\")\n",
    "\n",
    "class_rep_knn = classification_report(y_test,pred_labels_knn, zero_division = 1)\n",
    "print(f\"K-Neigbors: \\n{class_rep_knn}\\n\")\n",
    "\n",
    "class_rep_svc = classification_report(y_test,pred_labels_svc, zero_division = 1)\n",
    "print(f\"SVC: \\n{class_rep_svc}\\n\")"
   ]
  },
  {
   "cell_type": "code",
   "execution_count": 16,
   "id": "9101fc47-29a7-4f71-aa58-bd0629839355",
   "metadata": {},
   "outputs": [
    {
     "name": "stdout",
     "output_type": "stream",
     "text": [
      "Logistic Regression: 0.785\n",
      "GaussianNB: 0.791\n",
      "Decision Tree: 0.631\n",
      "k-Neighbors: 0.754\n",
      "SVC: 0.809\n"
     ]
    }
   ],
   "source": [
    "from sklearn.model_selection import StratifiedKFold, cross_val_score\n",
    "from sklearn.pipeline import Pipeline\n",
    "\n",
    "logreg_pipe = Pipeline([(\"scaler\", StandardScaler()), \n",
    "                        (\"logreg\", LogisticRegression(solver='lbfgs', max_iter=1000))])\n",
    "\n",
    "gnb_pipe = Pipeline([(\"scaler\", StandardScaler()), \n",
    "                        (\"gnb\", GaussianNB())])\n",
    "\n",
    "dt_pipe = Pipeline([(\"scaler\", StandardScaler()), \n",
    "                        (\"dt\", DecisionTreeClassifier())])\n",
    "\n",
    "knn_pipe = Pipeline([(\"scaler\", StandardScaler()), \n",
    "                        (\"knn\", KNeighborsClassifier())])\n",
    "\n",
    "svc_pipe = Pipeline([(\"scaler\", StandardScaler()), \n",
    "                        (\"svc\", SVC(probability = True))])\n",
    "\n",
    "# Set up our K-fold cross-validation\n",
    "kf = StratifiedKFold(10)\n",
    "\n",
    "logreg_score = cross_val_score(logreg_pipe, features, labels, cv=kf)\n",
    "gnb_score = cross_val_score(gnb_pipe, features, labels, cv=kf)\n",
    "dt_score = cross_val_score(dt_pipe, features, labels, cv=kf)\n",
    "knn_score = cross_val_score(knn_pipe, features, labels, cv=kf)\n",
    "svc_score = cross_val_score(svc_pipe, features, labels, cv=kf)\n",
    "\n",
    "\n",
    "# Print the mean of score arrays\n",
    "print(f\"Logistic Regression: {np.mean(logreg_score):.3f}\")\n",
    "print(f\"GaussianNB: {np.mean(gnb_score):.3f}\")\n",
    "print(f\"Decision Tree: {np.mean(dt_score):.3f}\")\n",
    "print(f\"k-Neighbors: {np.mean(knn_score):.3f}\")\n",
    "print(f\"SVC: {np.mean(svc_score):.3f}\")\n",
    "\n",
    "\n",
    "#logreg_pipe.fit(features,labels)\n",
    "#coefs = logreg_pipe.named_steps[\"logreg\"].coef_"
   ]
  },
  {
   "cell_type": "code",
   "execution_count": 17,
   "id": "396024b5-f555-4b4e-8bc7-44b1d833b358",
   "metadata": {},
   "outputs": [
    {
     "name": "stdout",
     "output_type": "stream",
     "text": [
      "Logistic Regression: 0.791\n",
      "GaussianNB: 0.782\n",
      "Decision Tree: 0.698\n",
      "k-Neighbors: 0.760\n",
      "SVC: 0.812\n"
     ]
    }
   ],
   "source": [
    "logreg_pipe = Pipeline([(\"scaler\", StandardScaler()), (\"pca\", PCA(n_components=recommended_pc_count)), \n",
    "                        (\"logreg\", LogisticRegression(solver='lbfgs', max_iter=1000))])\n",
    "\n",
    "gnb_pipe = Pipeline([(\"scaler\", StandardScaler()), (\"pca\", PCA(n_components=recommended_pc_count)), \n",
    "                        (\"gnb\", GaussianNB())])\n",
    "\n",
    "dt_pipe = Pipeline([(\"scaler\", StandardScaler()), (\"pca\", PCA(n_components=recommended_pc_count)), \n",
    "                        (\"dt\", DecisionTreeClassifier())])\n",
    "\n",
    "knn_pipe = Pipeline([(\"scaler\", StandardScaler()), (\"pca\", PCA(n_components=recommended_pc_count)), \n",
    "                        (\"knn\", KNeighborsClassifier())])\n",
    "\n",
    "svc_pipe = Pipeline([(\"scaler\", StandardScaler()), (\"pca\", PCA(n_components=recommended_pc_count)), \n",
    "                        (\"svc\", SVC())])\n",
    "\n",
    "\n",
    "# Set up our K-fold cross-validation\n",
    "kf = StratifiedKFold(10)\n",
    "\n",
    "logreg_score = cross_val_score(logreg_pipe, features, labels, cv=kf)\n",
    "gnb_score = cross_val_score(gnb_pipe, features, labels, cv=kf)\n",
    "dt_score = cross_val_score(dt_pipe, features, labels, cv=kf)\n",
    "knn_score = cross_val_score(knn_pipe, features, labels, cv=kf)\n",
    "svc_score = cross_val_score(svc_pipe, features, labels, cv=kf)\n",
    "\n",
    "\n",
    "# Print the mean of score arrays\n",
    "print(f\"Logistic Regression: {np.mean(logreg_score):.3f}\")\n",
    "print(f\"GaussianNB: {np.mean(gnb_score):.3f}\")\n",
    "print(f\"Decision Tree: {np.mean(dt_score):.3f}\")\n",
    "print(f\"k-Neighbors: {np.mean(knn_score):.3f}\")\n",
    "print(f\"SVC: {np.mean(svc_score):.3f}\")\n"
   ]
  },
  {
   "cell_type": "markdown",
   "id": "08557c16-8156-427c-a549-f777878574a8",
   "metadata": {},
   "source": [
    "### PARAMETER TUNING"
   ]
  },
  {
   "cell_type": "code",
   "execution_count": 18,
   "id": "e0357efb-9d2a-4666-a871-70cb7c920ddb",
   "metadata": {},
   "outputs": [],
   "source": [
    "import warnings\n",
    "warnings.filterwarnings(\"ignore\")\n",
    "from sklearn.model_selection import GridSearchCV"
   ]
  },
  {
   "cell_type": "code",
   "execution_count": 39,
   "id": "2ba589a3-7ce4-4f5c-ba59-1da5fe445175",
   "metadata": {},
   "outputs": [
    {
     "name": "stdout",
     "output_type": "stream",
     "text": [
      "Fitting 10 folds for each of 70 candidates, totalling 700 fits\n",
      "{'gnb__priors': None, 'gnb__var_smoothing': 0.001, 'pca__n_components': 33}\n",
      "GaussianNB: 0.663\n",
      "Best GNB score : 0.676\n",
      "Fitting 10 folds for each of 126 candidates, totalling 1260 fits\n",
      "{'dt__criterion': 'entropy', 'dt__max_depth': 15, 'pca__n_components': 15}\n",
      "Decision Tree: 0.551\n",
      "Best dt score : 0.614\n"
     ]
    }
   ],
   "source": [
    "params_gnb = {'gnb__priors': [None],\n",
    "             'gnb__var_smoothing': np.logspace(0,-9, num=10),\"pca__n_components\":[10,15,19,21,25,27,33]}\n",
    "gs_gnb = GridSearchCV(gnb_pipe, \n",
    "                 param_grid=params_gnb,\n",
    "                 cv=kf,\n",
    "                 verbose=1, \n",
    "                 scoring='f1_micro')\n",
    "gs_gnb.fit(features, labels)\n",
    "print(gs_gnb.best_params_)\n",
    "print(f\"GaussianNB: {np.mean(gnb_score):.3f}\")\n",
    "print(f'Best GNB score : {gs_gnb.best_score_:.3f}')\n",
    "############################################################\n",
    "params_dt = {'dt__criterion':['gini','entropy'],'dt__max_depth':[11,15,20,30,90,120,150],\n",
    "             \"pca__n_components\":[7,9,11,13,15,17,19,21,23]}\n",
    "gs_dt = GridSearchCV(dt_pipe, \n",
    "                 param_grid=params_dt,\n",
    "                 cv=kf,\n",
    "                 verbose=1, \n",
    "                 scoring='f1_micro')\n",
    "gs_dt.fit(features, labels)\n",
    "print(gs_dt.best_params_)\n",
    "print(f\"Decision Tree: {np.mean(dt_score):.3f}\")\n",
    "print(f'Best dt score : {gs_dt.best_score_:.3f}')\n",
    "###########################################################\n"
   ]
  },
  {
   "cell_type": "code",
   "execution_count": 25,
   "id": "dcc8328d-b7c4-4483-b3c2-3e912351aff7",
   "metadata": {},
   "outputs": [
    {
     "name": "stdout",
     "output_type": "stream",
     "text": [
      "Fitting 10 folds for each of 28 candidates, totalling 280 fits\n",
      "{'logreg__C': 0.1, 'logreg__max_iter': 1000, 'logreg__penalty': 'l2', 'logreg__solver': 'lbfgs'}\n",
      "Logistic Regression: 0.791\n",
      "Best logreg score : 0.819\n"
     ]
    }
   ],
   "source": [
    "logreg_pipe = Pipeline([(\"scaler\", StandardScaler()), \n",
    "                        (\"logreg\", LogisticRegression(solver='lbfgs', max_iter=1000))])\n",
    "\n",
    "params_logreg={\"logreg__C\":np.logspace(-3,3,7), \n",
    "               \"logreg__penalty\":[\"l1\",\"l2\"],\"logreg__solver\":['liblinear','lbfgs'],\"logreg__max_iter\" : [1000]} \n",
    "\n",
    "gs_logreg = GridSearchCV(logreg_pipe, \n",
    "                 param_grid=params_logreg,\n",
    "                 cv=kf,\n",
    "                 verbose=1, \n",
    "                 scoring='accuracy')\n",
    "gs_logreg.fit(features, labels)\n",
    "print(gs_logreg.best_params_)\n",
    "print(f\"Logistic Regression: {np.mean(logreg_score):.3f}\")\n",
    "print(f'Best logreg score : {gs_logreg.best_score_:.3f}')\n"
   ]
  },
  {
   "cell_type": "code",
   "execution_count": 59,
   "id": "216d1064-e258-48c4-a662-d19559a191e9",
   "metadata": {},
   "outputs": [
    {
     "name": "stdout",
     "output_type": "stream",
     "text": [
      "Fitting 10 folds for each of 72 candidates, totalling 720 fits\n",
      "{'pca__n_components': 19, 'svc__C': 100, 'svc__gamma': 0.001, 'svc__probability': True}\n",
      "SVC: 0.989\n",
      "Best svc score : 0.989\n"
     ]
    }
   ],
   "source": [
    "params_svc = {'svc__C': [0.001,0.01,0.1,1, 100,1000],    #6*4*3 = 72 \n",
    "              'svc__gamma': [0.1,0.01,0.001],\n",
    "              \"pca__n_components\":[19,26,27,28],\n",
    "              \"svc__probability\": [True]}\n",
    "gs_svc = GridSearchCV(svc_pipe, \n",
    "                 param_grid=params_svc,\n",
    "                 cv=kf,\n",
    "                 verbose=1, \n",
    "                 scoring='accuracy')\n",
    "\n",
    "gs_svc.fit(features, labels)\n",
    "print(gs_svc.best_params_)\n",
    "print(f\"SVC: {np.mean(svc_score):.3f}\")\n",
    "print(f'Best svc score : {gs_svc.best_score_:.3f}')"
   ]
  },
  {
   "cell_type": "code",
   "execution_count": 51,
   "id": "6ea99fa5-7505-4715-a6fe-93cc0a0bb34a",
   "metadata": {},
   "outputs": [
    {
     "name": "stdout",
     "output_type": "stream",
     "text": [
      "KNN (on test data): \n",
      "                         precision    recall  f1-score   support\n",
      "\n",
      "Turkish Classical Music       0.71      0.83      0.77         6\n",
      "     Turkish Folk Music       0.80      0.67      0.73         6\n",
      "            Turkish Pop       0.90      0.90      0.90        10\n",
      "            Turkish Rap       1.00      0.80      0.89         5\n",
      "           Turkish Rock       0.80      0.80      0.80        10\n",
      "           Turkish Slow       0.78      0.88      0.82         8\n",
      "\n",
      "               accuracy                           0.82        45\n",
      "              macro avg       0.83      0.81      0.82        45\n",
      "           weighted avg       0.83      0.82      0.82        45\n",
      "\n",
      "\n"
     ]
    }
   ],
   "source": [
    "knn_pipe = Pipeline([(\"scaler\", StandardScaler()), (\"pca\", PCA()), \n",
    "                        (\"knn\", KNeighborsClassifier())])\n",
    "\n",
    "params_knn = {'knn__n_neighbors' : list(range(1, 31,2)),'knn__weights':['uniform', 'distance'],\n",
    "              \"pca__n_components\":[15,17,19,21]}\n",
    "gs_knn = GridSearchCV(knn_pipe, \n",
    "                 param_grid=params_knn,\n",
    "                 cv=kf,\n",
    "                 verbose=1, \n",
    "                 scoring='accuracy')\n",
    "#gs_knn.fit(features, labels)\n",
    "#print(gs_knn.best_params_)\n",
    "#print(f\"k-Neighbors: {np.mean(knn_score):.3f}\")\n",
    "#print(f'Best knn score : {gs_knn.best_score_:.3f}')\n",
    "#################################################################\n",
    "\n",
    "knn_pipe = Pipeline([(\"scaler\", StandardScaler()), (\"pca\", PCA(n_components=45)), \n",
    "                        (\"knn\", KNeighborsClassifier(n_neighbors=7,weights='distance'))])\n",
    "knn_pipe.fit(X_train,y_train)\n",
    "pred_labels_knn = knn_pipe.predict(X_test)\n",
    "class_rep_knn = classification_report(y_test,pred_labels_knn, zero_division = 1)\n",
    "print(f\"KNN (on test data): \\n{class_rep_knn}\\n\")\n"
   ]
  },
  {
   "cell_type": "code",
   "execution_count": 55,
   "id": "d9e3c114-e10a-486a-8803-2c1d76e6421b",
   "metadata": {},
   "outputs": [
    {
     "name": "stdout",
     "output_type": "stream",
     "text": [
      "SVC (on train + test data): \n",
      "                         precision    recall  f1-score   support\n",
      "\n",
      "Turkish Classical Music       0.86      0.82      0.84        62\n",
      "     Turkish Folk Music       0.81      0.72      0.77        61\n",
      "            Turkish Pop       0.89      0.94      0.92        99\n",
      "            Turkish Rap       0.88      0.69      0.77        51\n",
      "           Turkish Rock       0.75      0.86      0.80        95\n",
      "           Turkish Slow       0.90      0.93      0.91        80\n",
      "\n",
      "               accuracy                           0.85       448\n",
      "              macro avg       0.85      0.83      0.84       448\n",
      "           weighted avg       0.85      0.85      0.84       448\n",
      "\n",
      "\n",
      "SVC (on test data): \n",
      "                         precision    recall  f1-score   support\n",
      "\n",
      "Turkish Classical Music       0.83      0.83      0.83         6\n",
      "     Turkish Folk Music       0.50      0.67      0.57         6\n",
      "            Turkish Pop       1.00      0.90      0.95        10\n",
      "            Turkish Rap       1.00      1.00      1.00         5\n",
      "           Turkish Rock       0.67      0.60      0.63        10\n",
      "           Turkish Slow       0.88      0.88      0.88         8\n",
      "\n",
      "               accuracy                           0.80        45\n",
      "              macro avg       0.81      0.81      0.81        45\n",
      "           weighted avg       0.81      0.80      0.80        45\n",
      "\n",
      "\n",
      "Logistic Regression (on test data): \n",
      "                         precision    recall  f1-score   support\n",
      "\n",
      "Turkish Classical Music       0.75      1.00      0.86         6\n",
      "     Turkish Folk Music       0.62      0.83      0.71         6\n",
      "            Turkish Pop       0.90      0.90      0.90        10\n",
      "            Turkish Rap       0.83      1.00      0.91         5\n",
      "           Turkish Rock       0.83      0.50      0.62        10\n",
      "           Turkish Slow       0.86      0.75      0.80         8\n",
      "\n",
      "               accuracy                           0.80        45\n",
      "              macro avg       0.80      0.83      0.80        45\n",
      "           weighted avg       0.81      0.80      0.79        45\n",
      "\n",
      "\n"
     ]
    }
   ],
   "source": [
    "svc_pipe = Pipeline([(\"scaler\", StandardScaler()),(\"pca\", PCA(n_components=19)), \n",
    "                     (\"svc\", SVC(C=100, gamma =0.001, probability = True))])             \n",
    "svc_pipe.fit(X_train,y_train)\n",
    "\n",
    "\n",
    "pred_labels_svc = svc_pipe.predict(features)\n",
    "class_rep_svc = classification_report(labels,pred_labels_svc, zero_division = 1)\n",
    "print(f\"SVC (on train + test data): \\n{class_rep_svc}\\n\")\n",
    "\n",
    "\n",
    "pred_labels_svc = svc_pipe.predict(X_test)\n",
    "class_rep_svc = classification_report(y_test,pred_labels_svc, zero_division = 1)\n",
    "print(f\"SVC (on test data): \\n{class_rep_svc}\\n\")\n",
    "\n",
    "###############################################################\n",
    "logreg_pipe = Pipeline([(\"scaler\", StandardScaler()), \n",
    "                        (\"logreg\", LogisticRegression(C= 1.0, max_iter =  1000, penalty ='l2',solver= 'lbfgs'))])\n",
    "logreg_pipe.fit(X_train,y_train)\n",
    "pred_labels_logreg = logreg_pipe.predict(X_test)\n",
    "class_rep_logreg = classification_report(y_test,pred_labels_logreg, zero_division = 1)\n",
    "print(f\"Logistic Regression (on test data): \\n{class_rep_logreg}\\n\")\n"
   ]
  },
  {
   "cell_type": "code",
   "execution_count": 57,
   "id": "8746a74a-bc04-4125-b039-166b5ff92cb0",
   "metadata": {},
   "outputs": [],
   "source": [
    "import pickle\n",
    "outfile = open(r\"datasets/model_turkish_knn\",'wb') #write binary\n",
    "pickle.dump(knn_pipe,outfile)\n",
    "outfile.close()"
   ]
  },
  {
   "cell_type": "code",
   "execution_count": 77,
   "id": "cce2c644-dcc1-4f85-b5fd-2fdb15bfdc90",
   "metadata": {},
   "outputs": [
    {
     "name": "stdout",
     "output_type": "stream",
     "text": [
      "Logistic Regression (on test data): \n",
      "              precision    recall  f1-score   support\n",
      "\n",
      " Turkish Rap       0.83      1.00      0.91         5\n",
      "Turkish Slow       1.00      0.89      0.94         9\n",
      "\n",
      "    accuracy                           0.93        14\n",
      "   macro avg       0.92      0.94      0.93        14\n",
      "weighted avg       0.94      0.93      0.93        14\n",
      "\n",
      "\n",
      "                  feature      coef  abs_coef\n",
      "21            mfcc10_mean -0.399448  0.399448\n",
      "3                 zcr_var  0.344351  0.344351\n",
      "33              mfcc2_var -0.304099  0.304099\n",
      "26            mfcc15_mean -0.301130  0.301130\n",
      "6   spectral_rolloff_mean -0.291510  0.291510\n",
      "\n"
     ]
    },
    {
     "data": {
      "image/png": "[encoded data removed]",
      "text/plain": [
       "<Figure size 1440x1440 with 1 Axes>"
      ]
     },
     "metadata": {
      "needs_background": "light"
     },
     "output_type": "display_data"
    }
   ],
   "source": [
    "logreg_pipe = Pipeline([(\"scaler\", StandardScaler()), \n",
    "                        (\"logreg\", LogisticRegression(C= 0.1, max_iter =  1000,\n",
    "                                                      penalty ='l2',solver= 'lbfgs'))])\n",
    "\n",
    "logreg_pipe.fit(X_train,y_train)\n",
    "pred_labels_logreg = logreg_pipe.predict(X_test)\n",
    "class_rep_logreg = classification_report(y_test,pred_labels_logreg, zero_division = 1)\n",
    "print(f\"Logistic Regression (on test data): \\n{class_rep_logreg}\\n\")\n",
    "\n",
    "feature_coefs =logreg_pipe[\"logreg\"].coef_[0]\n",
    "\n",
    "coefs = pd.DataFrame(list(zip(df.columns[2:],feature_coefs))\n",
    "                     ,columns=[\"feature\",\"coef\"])\n",
    "\n",
    "\n",
    "plt.figure(figsize=(20,20))\n",
    "plt.barh(coefs[\"feature\"],coefs[\"coef\"])\n",
    "plt.savefig(\"Features.png\")\n",
    "\n",
    "\n",
    "coefs[\"abs_coef\"]=coefs.coef.apply(abs)\n",
    "coefs = coefs.sort_values(by=\"abs_coef\",ascending = False)\n",
    "print(coefs.head(5))\n",
    "print()"
   ]
  },
  {
   "cell_type": "code",
   "execution_count": 81,
   "id": "b3a93572-2795-488c-b571-5a8fe5c3edcf",
   "metadata": {},
   "outputs": [
    {
     "data": {
      "text/plain": [
       "8"
      ]
     },
     "execution_count": 81,
     "metadata": {},
     "output_type": "execute_result"
    }
   ],
   "source": [
    "from sklearn.metrics import confusion_matrix\n",
    "tn, fp, fn, tp =confusion_matrix(y_test,pred_labels_logreg).ravel()\n",
    "\n",
    "tp"
   ]
  },
  {
   "cell_type": "code",
   "execution_count": 70,
   "id": "2735b3cd-cb0f-4e6c-a994-138a22a0b0c6",
   "metadata": {},
   "outputs": [
    {
     "name": "stdout",
     "output_type": "stream",
     "text": [
      "VotingClassifier (on test data): \n",
      "                         precision    recall  f1-score   support\n",
      "\n",
      "Turkish Classical Music       0.83      0.83      0.83         6\n",
      "     Turkish Folk Music       0.62      0.83      0.71         6\n",
      "            Turkish Pop       0.90      0.90      0.90        10\n",
      "            Turkish Rap       1.00      1.00      1.00         5\n",
      "           Turkish Rock       0.75      0.60      0.67        10\n",
      "           Turkish Slow       0.88      0.88      0.88         8\n",
      "\n",
      "               accuracy                           0.82        45\n",
      "              macro avg       0.83      0.84      0.83        45\n",
      "           weighted avg       0.83      0.82      0.82        45\n",
      "\n",
      "\n",
      "VotingClassifier (on train data): \n",
      "                         precision    recall  f1-score   support\n",
      "\n",
      "Turkish Classical Music       0.98      0.98      0.98        56\n",
      "     Turkish Folk Music       1.00      0.96      0.98        55\n",
      "            Turkish Pop       1.00      0.98      0.99        89\n",
      "            Turkish Rap       0.96      1.00      0.98        46\n",
      "           Turkish Rock       0.97      0.98      0.97        85\n",
      "           Turkish Slow       0.97      0.99      0.98        72\n",
      "\n",
      "               accuracy                           0.98       403\n",
      "              macro avg       0.98      0.98      0.98       403\n",
      "           weighted avg       0.98      0.98      0.98       403\n",
      "\n",
      "\n"
     ]
    }
   ],
   "source": [
    "from sklearn.ensemble import VotingClassifier\n",
    "\n",
    "classifiers =[(\"Logistic Regression\",logreg_pipe),\n",
    "              (\"K-Neigbors\",knn_pipe),\n",
    "              (\"SVC\", svc_pipe)]\n",
    "\n",
    "ensemble = VotingClassifier(estimators=classifiers,voting=\"soft\")\n",
    "\n",
    "\n",
    "ensemble.fit(X_train,y_train)\n",
    "pred_labels_ensemble = ensemble.predict(X_test)\n",
    "class_rep_ensemble = classification_report(y_test,pred_labels_ensemble, zero_division = 1)\n",
    "\n",
    "print(f\"VotingClassifier (on test data): \\n{class_rep_ensemble}\\n\")\n",
    "\n",
    "\n",
    "\n",
    "ensemble.fit(X_train,y_train)\n",
    "pred_labels_ensemble = ensemble.predict(X_train)\n",
    "class_rep_ensemble = classification_report(y_train,pred_labels_ensemble, zero_division = 1)\n",
    "\n",
    "print(f\"VotingClassifier (on train data): \\n{class_rep_ensemble}\\n\")\n"
   ]
  },
  {
   "cell_type": "code",
   "execution_count": 64,
   "id": "9290ab4c-923c-4306-9332-530d3e1c2ed6",
   "metadata": {},
   "outputs": [],
   "source": [
    "outfile = open(r\"datasets/model_turkish_ensemble\",'wb') #write binary\n",
    "pickle.dump(ensemble,outfile)\n",
    "outfile.close()"
   ]
  },
  {
   "cell_type": "markdown",
   "id": "49785abe-e594-4da2-a2ab-994f59d358dc",
   "metadata": {},
   "source": [
    "# XGBOOST & GRADIENT BOOSTED RANDOM FOREST DEMO"
   ]
  },
  {
   "cell_type": "code",
   "execution_count": 43,
   "id": "75fe0a73-c741-4ad6-8132-569831e2bd79",
   "metadata": {},
   "outputs": [],
   "source": [
    "genre_num = {'Turkish Pop':0 ,'Turkish Rap':1, 'Turkish Rock':2, 'Turkish Slow':3}\n",
    "#genre_num_r ={0:'Turkish Pop' ,1:'Turkish Rap',2:'Turkish Rock', 3:'Turkish Slow'}\n",
    "alt=[]\n",
    "labels\n",
    "#\n",
    "for i in labels:\n",
    "    alt.append(genre_num[i])\n",
    "    \n",
    "alt_label  = np.array(alt)"
   ]
  },
  {
   "cell_type": "code",
   "execution_count": null,
   "id": "fed40013-fcb0-4b5c-844c-accba4720ced",
   "metadata": {},
   "outputs": [
    {
     "name": "stdout",
     "output_type": "stream",
     "text": [
      "Fitting 10 folds for each of 192 candidates, totalling 1920 fits\n"
     ]
    }
   ],
   "source": [
    "from xgboost import XGBClassifier, XGBRFClassifier\n",
    "from xgboost import plot_tree, plot_importance\n",
    "\n",
    "\n",
    "\n",
    "xgb_pipe = Pipeline([(\"scaler\", StandardScaler()), (\"pca\", PCA(n_components=recommended_pc_count)), \n",
    "                        (\"XGB\", XGBClassifier(objective= 'binary:logistic',\n",
    "                                              nthread=4,\n",
    "                                              seed=42 ))])\n",
    "\n",
    "params_xgb = {'XGB__max_depth': range (2, 10, 1),\n",
    "              'XGB__n_estimators': range(60, 220, 40),\n",
    "              'XGB__learning_rate': [0.0001, 0.001, 0.01, 0.1, 0.2, 0.3],\n",
    "              'XGB__min_child_weight': [1, 5, 10],\n",
    "              'XGB__gamma': [0.5, 1, 1.5, 2, 5],\n",
    "              'XGB__subsample': [0.6, 0.8, 1.0],\n",
    "              'XGB__colsample_bytree': [0.6, 0.8, 1.0],\n",
    "              'XGB__max_depth': [3, 4, 5]}\n",
    "        \n",
    "\n",
    "gs_xgb = GridSearchCV(xgb_pipe, \n",
    "                 param_grid=params_xgb,\n",
    "                 cv=kf,\n",
    "                 verbose=1, \n",
    "                 scoring='accuracy')\n",
    "\n",
    "gs_xgb.fit(features, alt_label)\n",
    "print(gs_svc.best_params_)\n",
    "print(f\"XGB: {np.mean(xgb_score):.3f}\")\n",
    "print(f'Best svc score : {gs_XGB.best_score_:.3f}')\n"
   ]
  },
  {
   "cell_type": "code",
   "execution_count": null,
   "id": "104e75ec-c686-4e66-b614-cf5f846e653f",
   "metadata": {},
   "outputs": [],
   "source": []
  }
 ],
 "metadata": {
  "kernelspec": {
   "display_name": "Python 3 (ipykernel)",
   "language": "python",
   "name": "python3"
  },
  "language_info": {
   "codemirror_mode": {
    "name": "ipython",
    "version": 3
   },
   "file_extension": ".py",
   "mimetype": "text/x-python",
   "name": "python",
   "nbconvert_exporter": "python",
   "pygments_lexer": "ipython3",
   "version": "3.10.1"
  }
 },
 "nbformat": 4,
 "nbformat_minor": 5
}
